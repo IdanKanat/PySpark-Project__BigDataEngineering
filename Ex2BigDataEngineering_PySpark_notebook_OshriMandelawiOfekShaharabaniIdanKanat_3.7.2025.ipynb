{
 "cells": [
  {
   "cell_type": "markdown",
   "metadata": {
    "application/vnd.databricks.v1+cell": {
     "cellMetadata": {
      "byteLimit": 2048000,
      "rowLimit": 10000
     },
     "inputWidgets": {},
     "nuid": "83062c84-8991-4d8b-9ae7-799b7506d863",
     "showTitle": false,
     "tableResultSettingsMap": {},
     "title": ""
    }
   },
   "source": [
    "\n",
    "# Ex2 - Big Data Engineering - PySPARK Assignment\n",
    "By: **_GROUP 2_ - Oshri Mandelawi, Ofek Shaharabani & Idan Kanat** - 3.7.2025\n",
    "\n",
    "**Author:** Hadar Engel"
   ]
  },
  {
   "cell_type": "markdown",
   "metadata": {
    "application/vnd.databricks.v1+cell": {
     "cellMetadata": {
      "byteLimit": 2048000,
      "rowLimit": 10000
     },
     "inputWidgets": {},
     "nuid": "8135bc33-a1a4-439d-a5cc-384213fb2ddd",
     "showTitle": false,
     "tableResultSettingsMap": {},
     "title": ""
    }
   },
   "source": [
    "##### Imports:"
   ]
  },
  {
   "cell_type": "code",
   "execution_count": 0,
   "metadata": {
    "application/vnd.databricks.v1+cell": {
     "cellMetadata": {
      "byteLimit": 2048000,
      "rowLimit": 10000
     },
     "inputWidgets": {},
     "nuid": "9af0db2c-0a64-4833-aa1d-53a2e7d896d6",
     "showTitle": false,
     "tableResultSettingsMap": {},
     "title": ""
    }
   },
   "outputs": [],
   "source": [
    "# Relevant imports:\n",
    "import pyspark\n",
    "from pyspark.sql import SparkSession\n",
    "from pyspark.sql import functions as F\n",
    "from pyspark.sql.functions import col, asc, desc\n",
    "from pyspark.sql.window import Window"
   ]
  },
  {
   "cell_type": "code",
   "execution_count": 0,
   "metadata": {
    "application/vnd.databricks.v1+cell": {
     "cellMetadata": {
      "byteLimit": 2048000,
      "rowLimit": 10000
     },
     "inputWidgets": {},
     "nuid": "61494e62-8b13-4108-82c3-1780cd04bc00",
     "showTitle": false,
     "tableResultSettingsMap": {},
     "title": ""
    }
   },
   "outputs": [],
   "source": [
    "spark = SparkSession.builder.getOrCreate()"
   ]
  },
  {
   "cell_type": "markdown",
   "metadata": {
    "application/vnd.databricks.v1+cell": {
     "cellMetadata": {
      "byteLimit": 2048000,
      "rowLimit": 10000
     },
     "inputWidgets": {},
     "nuid": "7976f111-cbfd-47a7-ab40-555cd15aacc7",
     "showTitle": false,
     "tableResultSettingsMap": {},
     "title": ""
    }
   },
   "source": [
    "##### Loading the dataset:"
   ]
  },
  {
   "cell_type": "code",
   "execution_count": 0,
   "metadata": {
    "application/vnd.databricks.v1+cell": {
     "cellMetadata": {
      "byteLimit": 2048000,
      "rowLimit": 10000
     },
     "inputWidgets": {},
     "nuid": "084792df-3441-4c82-a5d4-f0fdbd90c405",
     "showTitle": false,
     "tableResultSettingsMap": {},
     "title": ""
    }
   },
   "outputs": [
    {
     "output_type": "stream",
     "name": "stdout",
     "output_type": "stream",
     "text": [
      "root\n |-- FL_DATE: date (nullable = true)\n |-- AIRLINE: string (nullable = true)\n |-- AIRLINE_DOT: string (nullable = true)\n |-- AIRLINE_CODE: string (nullable = true)\n |-- DOT_CODE: long (nullable = true)\n |-- FL_NUMBER: long (nullable = true)\n |-- ORIGIN: string (nullable = true)\n |-- ORIGIN_CITY: string (nullable = true)\n |-- DEST: string (nullable = true)\n |-- DEST_CITY: string (nullable = true)\n |-- CRS_DEP_TIME: long (nullable = true)\n |-- DEP_TIME: double (nullable = true)\n |-- DEP_DELAY: double (nullable = true)\n |-- TAXI_OUT: double (nullable = true)\n |-- WHEELS_OFF: double (nullable = true)\n |-- WHEELS_ON: double (nullable = true)\n |-- TAXI_IN: double (nullable = true)\n |-- CRS_ARR_TIME: long (nullable = true)\n |-- ARR_TIME: double (nullable = true)\n |-- ARR_DELAY: double (nullable = true)\n |-- CANCELLED: double (nullable = true)\n |-- CANCELLATION_CODE: string (nullable = true)\n |-- DIVERTED: double (nullable = true)\n |-- CRS_ELAPSED_TIME: double (nullable = true)\n |-- ELAPSED_TIME: double (nullable = true)\n |-- AIR_TIME: double (nullable = true)\n |-- DISTANCE: double (nullable = true)\n |-- DELAY_DUE_CARRIER: double (nullable = true)\n |-- DELAY_DUE_WEATHER: double (nullable = true)\n |-- DELAY_DUE_NAS: double (nullable = true)\n |-- DELAY_DUE_SECURITY: double (nullable = true)\n |-- DELAY_DUE_LATE_AIRCRAFT: double (nullable = true)\n\n"
     ]
    },
    {
     "output_type": "display_data",
     "data": {
      "text/html": [
       "<style scoped>\n",
       "  .table-result-container {\n",
       "    max-height: 300px;\n",
       "    overflow: auto;\n",
       "  }\n",
       "  table, th, td {\n",
       "    border: 1px solid black;\n",
       "    border-collapse: collapse;\n",
       "  }\n",
       "  th, td {\n",
       "    padding: 5px;\n",
       "  }\n",
       "  th {\n",
       "    text-align: left;\n",
       "  }\n",
       "</style><div class='table-result-container'><table class='table-result'><thead style='background-color: white'><tr><th>FL_DATE</th><th>AIRLINE</th><th>AIRLINE_DOT</th><th>AIRLINE_CODE</th><th>DOT_CODE</th><th>FL_NUMBER</th><th>ORIGIN</th><th>ORIGIN_CITY</th><th>DEST</th><th>DEST_CITY</th><th>CRS_DEP_TIME</th><th>DEP_TIME</th><th>DEP_DELAY</th><th>TAXI_OUT</th><th>WHEELS_OFF</th><th>WHEELS_ON</th><th>TAXI_IN</th><th>CRS_ARR_TIME</th><th>ARR_TIME</th><th>ARR_DELAY</th><th>CANCELLED</th><th>CANCELLATION_CODE</th><th>DIVERTED</th><th>CRS_ELAPSED_TIME</th><th>ELAPSED_TIME</th><th>AIR_TIME</th><th>DISTANCE</th><th>DELAY_DUE_CARRIER</th><th>DELAY_DUE_WEATHER</th><th>DELAY_DUE_NAS</th><th>DELAY_DUE_SECURITY</th><th>DELAY_DUE_LATE_AIRCRAFT</th></tr></thead><tbody><tr><td>2023-03-23</td><td>Delta Air Lines Inc.</td><td>Delta Air Lines Inc.: DL</td><td>DL</td><td>19790</td><td>2788</td><td>ATL</td><td>Atlanta, GA</td><td>BWI</td><td>Baltimore, MD</td><td>845</td><td>842.0</td><td>-3.0</td><td>21.0</td><td>903.0</td><td>1025.0</td><td>7.0</td><td>1035</td><td>1032.0</td><td>-3.0</td><td>0.0</td><td>null</td><td>0.0</td><td>110.0</td><td>110.0</td><td>82.0</td><td>577.0</td><td>null</td><td>null</td><td>null</td><td>null</td><td>null</td></tr><tr><td>2019-11-15</td><td>American Airlines Inc.</td><td>American Airlines Inc.: AA</td><td>AA</td><td>19805</td><td>2640</td><td>DFW</td><td>Dallas/Fort Worth, TX</td><td>PBI</td><td>West Palm Beach/Palm Beach, FL</td><td>1440</td><td>1441.0</td><td>1.0</td><td>14.0</td><td>1455.0</td><td>1814.0</td><td>5.0</td><td>1815</td><td>1819.0</td><td>4.0</td><td>0.0</td><td>null</td><td>0.0</td><td>155.0</td><td>158.0</td><td>139.0</td><td>1102.0</td><td>null</td><td>null</td><td>null</td><td>null</td><td>null</td></tr><tr><td>2020-10-12</td><td>Envoy Air</td><td>Envoy Air: MQ</td><td>MQ</td><td>20398</td><td>4072</td><td>MCI</td><td>Kansas City, MO</td><td>DFW</td><td>Dallas/Fort Worth, TX</td><td>1545</td><td>1538.0</td><td>-7.0</td><td>11.0</td><td>1549.0</td><td>1703.0</td><td>13.0</td><td>1728</td><td>1716.0</td><td>-12.0</td><td>0.0</td><td>null</td><td>0.0</td><td>103.0</td><td>98.0</td><td>74.0</td><td>460.0</td><td>null</td><td>null</td><td>null</td><td>null</td><td>null</td></tr><tr><td>2022-05-04</td><td>Southwest Airlines Co.</td><td>Southwest Airlines Co.: WN</td><td>WN</td><td>19393</td><td>2797</td><td>CMH</td><td>Columbus, OH</td><td>STL</td><td>St. Louis, MO</td><td>1115</td><td>1113.0</td><td>-2.0</td><td>10.0</td><td>1123.0</td><td>1130.0</td><td>7.0</td><td>1140</td><td>1137.0</td><td>-3.0</td><td>0.0</td><td>null</td><td>0.0</td><td>85.0</td><td>84.0</td><td>67.0</td><td>409.0</td><td>null</td><td>null</td><td>null</td><td>null</td><td>null</td></tr><tr><td>2019-09-10</td><td>PSA Airlines Inc.</td><td>PSA Airlines Inc.: OH</td><td>OH</td><td>20397</td><td>5035</td><td>CLT</td><td>Charlotte, NC</td><td>TOL</td><td>Toledo, OH</td><td>1145</td><td>1143.0</td><td>-2.0</td><td>24.0</td><td>1207.0</td><td>1314.0</td><td>3.0</td><td>1325</td><td>1317.0</td><td>-8.0</td><td>0.0</td><td>null</td><td>0.0</td><td>100.0</td><td>94.0</td><td>67.0</td><td>466.0</td><td>null</td><td>null</td><td>null</td><td>null</td><td>null</td></tr><tr><td>2022-03-13</td><td>American Airlines Inc.</td><td>American Airlines Inc.: AA</td><td>AA</td><td>19805</td><td>2359</td><td>DFW</td><td>Dallas/Fort Worth, TX</td><td>DEN</td><td>Denver, CO</td><td>1042</td><td>1041.0</td><td>-1.0</td><td>19.0</td><td>1100.0</td><td>1132.0</td><td>5.0</td><td>1158</td><td>1137.0</td><td>-21.0</td><td>0.0</td><td>null</td><td>0.0</td><td>136.0</td><td>116.0</td><td>92.0</td><td>641.0</td><td>null</td><td>null</td><td>null</td><td>null</td><td>null</td></tr><tr><td>2022-08-13</td><td>SkyWest Airlines Inc.</td><td>SkyWest Airlines Inc.: OO</td><td>OO</td><td>20304</td><td>4096</td><td>OMA</td><td>Omaha, NE</td><td>MSP</td><td>Minneapolis, MN</td><td>1325</td><td>1321.0</td><td>-4.0</td><td>15.0</td><td>1336.0</td><td>1428.0</td><td>5.0</td><td>1442</td><td>1433.0</td><td>-9.0</td><td>0.0</td><td>null</td><td>0.0</td><td>77.0</td><td>72.0</td><td>52.0</td><td>282.0</td><td>null</td><td>null</td><td>null</td><td>null</td><td>null</td></tr><tr><td>2021-09-13</td><td>American Airlines Inc.</td><td>American Airlines Inc.: AA</td><td>AA</td><td>19805</td><td>1302</td><td>DFW</td><td>Dallas/Fort Worth, TX</td><td>BNA</td><td>Nashville, TN</td><td>1039</td><td>1035.0</td><td>-4.0</td><td>14.0</td><td>1049.0</td><td>1212.0</td><td>6.0</td><td>1237</td><td>1218.0</td><td>-19.0</td><td>0.0</td><td>null</td><td>0.0</td><td>118.0</td><td>103.0</td><td>83.0</td><td>631.0</td><td>null</td><td>null</td><td>null</td><td>null</td><td>null</td></tr><tr><td>2023-07-12</td><td>Endeavor Air Inc.</td><td>Endeavor Air Inc.: 9E</td><td>9E</td><td>20363</td><td>5025</td><td>LGA</td><td>New York, NY</td><td>STL</td><td>St. Louis, MO</td><td>1240</td><td>1332.0</td><td>52.0</td><td>9.0</td><td>1341.0</td><td>1438.0</td><td>5.0</td><td>1435</td><td>1443.0</td><td>8.0</td><td>0.0</td><td>null</td><td>0.0</td><td>175.0</td><td>131.0</td><td>117.0</td><td>888.0</td><td>null</td><td>null</td><td>null</td><td>null</td><td>null</td></tr><tr><td>2019-12-15</td><td>Southwest Airlines Co.</td><td>Southwest Airlines Co.: WN</td><td>WN</td><td>19393</td><td>6542</td><td>STL</td><td>St. Louis, MO</td><td>RDU</td><td>Raleigh/Durham, NC</td><td>1745</td><td>1817.0</td><td>32.0</td><td>33.0</td><td>1850.0</td><td>2108.0</td><td>5.0</td><td>2035</td><td>2113.0</td><td>38.0</td><td>0.0</td><td>null</td><td>0.0</td><td>110.0</td><td>116.0</td><td>78.0</td><td>667.0</td><td>32.0</td><td>0.0</td><td>6.0</td><td>0.0</td><td>0.0</td></tr></tbody></table></div>"
      ]
     },
     "metadata": {
      "application/vnd.databricks.v1+output": {
       "addedWidgets": {},
       "aggData": [],
       "aggError": "",
       "aggOverflow": false,
       "aggSchema": [],
       "aggSeriesLimitReached": false,
       "aggType": "",
       "arguments": {},
       "columnCustomDisplayInfos": {},
       "data": [
        [
         "2023-03-23",
         "Delta Air Lines Inc.",
         "Delta Air Lines Inc.: DL",
         "DL",
         19790,
         2788,
         "ATL",
         "Atlanta, GA",
         "BWI",
         "Baltimore, MD",
         845,
         842.0,
         -3.0,
         21.0,
         903.0,
         1025.0,
         7.0,
         1035,
         1032.0,
         -3.0,
         0.0,
         null,
         0.0,
         110.0,
         110.0,
         82.0,
         577.0,
         null,
         null,
         null,
         null,
         null
        ],
        [
         "2019-11-15",
         "American Airlines Inc.",
         "American Airlines Inc.: AA",
         "AA",
         19805,
         2640,
         "DFW",
         "Dallas/Fort Worth, TX",
         "PBI",
         "West Palm Beach/Palm Beach, FL",
         1440,
         1441.0,
         1.0,
         14.0,
         1455.0,
         1814.0,
         5.0,
         1815,
         1819.0,
         4.0,
         0.0,
         null,
         0.0,
         155.0,
         158.0,
         139.0,
         1102.0,
         null,
         null,
         null,
         null,
         null
        ],
        [
         "2020-10-12",
         "Envoy Air",
         "Envoy Air: MQ",
         "MQ",
         20398,
         4072,
         "MCI",
         "Kansas City, MO",
         "DFW",
         "Dallas/Fort Worth, TX",
         1545,
         1538.0,
         -7.0,
         11.0,
         1549.0,
         1703.0,
         13.0,
         1728,
         1716.0,
         -12.0,
         0.0,
         null,
         0.0,
         103.0,
         98.0,
         74.0,
         460.0,
         null,
         null,
         null,
         null,
         null
        ],
        [
         "2022-05-04",
         "Southwest Airlines Co.",
         "Southwest Airlines Co.: WN",
         "WN",
         19393,
         2797,
         "CMH",
         "Columbus, OH",
         "STL",
         "St. Louis, MO",
         1115,
         1113.0,
         -2.0,
         10.0,
         1123.0,
         1130.0,
         7.0,
         1140,
         1137.0,
         -3.0,
         0.0,
         null,
         0.0,
         85.0,
         84.0,
         67.0,
         409.0,
         null,
         null,
         null,
         null,
         null
        ],
        [
         "2019-09-10",
         "PSA Airlines Inc.",
         "PSA Airlines Inc.: OH",
         "OH",
         20397,
         5035,
         "CLT",
         "Charlotte, NC",
         "TOL",
         "Toledo, OH",
         1145,
         1143.0,
         -2.0,
         24.0,
         1207.0,
         1314.0,
         3.0,
         1325,
         1317.0,
         -8.0,
         0.0,
         null,
         0.0,
         100.0,
         94.0,
         67.0,
         466.0,
         null,
         null,
         null,
         null,
         null
        ],
        [
         "2022-03-13",
         "American Airlines Inc.",
         "American Airlines Inc.: AA",
         "AA",
         19805,
         2359,
         "DFW",
         "Dallas/Fort Worth, TX",
         "DEN",
         "Denver, CO",
         1042,
         1041.0,
         -1.0,
         19.0,
         1100.0,
         1132.0,
         5.0,
         1158,
         1137.0,
         -21.0,
         0.0,
         null,
         0.0,
         136.0,
         116.0,
         92.0,
         641.0,
         null,
         null,
         null,
         null,
         null
        ],
        [
         "2022-08-13",
         "SkyWest Airlines Inc.",
         "SkyWest Airlines Inc.: OO",
         "OO",
         20304,
         4096,
         "OMA",
         "Omaha, NE",
         "MSP",
         "Minneapolis, MN",
         1325,
         1321.0,
         -4.0,
         15.0,
         1336.0,
         1428.0,
         5.0,
         1442,
         1433.0,
         -9.0,
         0.0,
         null,
         0.0,
         77.0,
         72.0,
         52.0,
         282.0,
         null,
         null,
         null,
         null,
         null
        ],
        [
         "2021-09-13",
         "American Airlines Inc.",
         "American Airlines Inc.: AA",
         "AA",
         19805,
         1302,
         "DFW",
         "Dallas/Fort Worth, TX",
         "BNA",
         "Nashville, TN",
         1039,
         1035.0,
         -4.0,
         14.0,
         1049.0,
         1212.0,
         6.0,
         1237,
         1218.0,
         -19.0,
         0.0,
         null,
         0.0,
         118.0,
         103.0,
         83.0,
         631.0,
         null,
         null,
         null,
         null,
         null
        ],
        [
         "2023-07-12",
         "Endeavor Air Inc.",
         "Endeavor Air Inc.: 9E",
         "9E",
         20363,
         5025,
         "LGA",
         "New York, NY",
         "STL",
         "St. Louis, MO",
         1240,
         1332.0,
         52.0,
         9.0,
         1341.0,
         1438.0,
         5.0,
         1435,
         1443.0,
         8.0,
         0.0,
         null,
         0.0,
         175.0,
         131.0,
         117.0,
         888.0,
         null,
         null,
         null,
         null,
         null
        ],
        [
         "2019-12-15",
         "Southwest Airlines Co.",
         "Southwest Airlines Co.: WN",
         "WN",
         19393,
         6542,
         "STL",
         "St. Louis, MO",
         "RDU",
         "Raleigh/Durham, NC",
         1745,
         1817.0,
         32.0,
         33.0,
         1850.0,
         2108.0,
         5.0,
         2035,
         2113.0,
         38.0,
         0.0,
         null,
         0.0,
         110.0,
         116.0,
         78.0,
         667.0,
         32.0,
         0.0,
         6.0,
         0.0,
         0.0
        ]
       ],
       "datasetInfos": [],
       "dbfsResultPath": null,
       "isJsonSchema": true,
       "metadata": {},
       "overflow": false,
       "plotOptions": {
        "customPlotOptions": {},
        "displayType": "table",
        "pivotAggregation": null,
        "pivotColumns": null,
        "xColumns": null,
        "yColumns": null
       },
       "removedWidgets": [],
       "schema": [
        {
         "metadata": "{\"__detected_date_formats\": \"yyyy-M-d\"}",
         "name": "FL_DATE",
         "type": "\"date\""
        },
        {
         "metadata": "{}",
         "name": "AIRLINE",
         "type": "\"string\""
        },
        {
         "metadata": "{}",
         "name": "AIRLINE_DOT",
         "type": "\"string\""
        },
        {
         "metadata": "{}",
         "name": "AIRLINE_CODE",
         "type": "\"string\""
        },
        {
         "metadata": "{}",
         "name": "DOT_CODE",
         "type": "\"long\""
        },
        {
         "metadata": "{}",
         "name": "FL_NUMBER",
         "type": "\"long\""
        },
        {
         "metadata": "{}",
         "name": "ORIGIN",
         "type": "\"string\""
        },
        {
         "metadata": "{}",
         "name": "ORIGIN_CITY",
         "type": "\"string\""
        },
        {
         "metadata": "{}",
         "name": "DEST",
         "type": "\"string\""
        },
        {
         "metadata": "{}",
         "name": "DEST_CITY",
         "type": "\"string\""
        },
        {
         "metadata": "{}",
         "name": "CRS_DEP_TIME",
         "type": "\"long\""
        },
        {
         "metadata": "{}",
         "name": "DEP_TIME",
         "type": "\"double\""
        },
        {
         "metadata": "{}",
         "name": "DEP_DELAY",
         "type": "\"double\""
        },
        {
         "metadata": "{}",
         "name": "TAXI_OUT",
         "type": "\"double\""
        },
        {
         "metadata": "{}",
         "name": "WHEELS_OFF",
         "type": "\"double\""
        },
        {
         "metadata": "{}",
         "name": "WHEELS_ON",
         "type": "\"double\""
        },
        {
         "metadata": "{}",
         "name": "TAXI_IN",
         "type": "\"double\""
        },
        {
         "metadata": "{}",
         "name": "CRS_ARR_TIME",
         "type": "\"long\""
        },
        {
         "metadata": "{}",
         "name": "ARR_TIME",
         "type": "\"double\""
        },
        {
         "metadata": "{}",
         "name": "ARR_DELAY",
         "type": "\"double\""
        },
        {
         "metadata": "{}",
         "name": "CANCELLED",
         "type": "\"double\""
        },
        {
         "metadata": "{}",
         "name": "CANCELLATION_CODE",
         "type": "\"string\""
        },
        {
         "metadata": "{}",
         "name": "DIVERTED",
         "type": "\"double\""
        },
        {
         "metadata": "{}",
         "name": "CRS_ELAPSED_TIME",
         "type": "\"double\""
        },
        {
         "metadata": "{}",
         "name": "ELAPSED_TIME",
         "type": "\"double\""
        },
        {
         "metadata": "{}",
         "name": "AIR_TIME",
         "type": "\"double\""
        },
        {
         "metadata": "{}",
         "name": "DISTANCE",
         "type": "\"double\""
        },
        {
         "metadata": "{}",
         "name": "DELAY_DUE_CARRIER",
         "type": "\"double\""
        },
        {
         "metadata": "{}",
         "name": "DELAY_DUE_WEATHER",
         "type": "\"double\""
        },
        {
         "metadata": "{}",
         "name": "DELAY_DUE_NAS",
         "type": "\"double\""
        },
        {
         "metadata": "{}",
         "name": "DELAY_DUE_SECURITY",
         "type": "\"double\""
        },
        {
         "metadata": "{}",
         "name": "DELAY_DUE_LATE_AIRCRAFT",
         "type": "\"double\""
        }
       ],
       "type": "table"
      }
     },
     "output_type": "display_data"
    }
   ],
   "source": [
    "df = spark.table(\"workspace.default.flights_sample\") # loading the flights dataset in Spark\n",
    "df.printSchema()   # Check the column structure\n",
    "display(df.limit(10)) # Preview first 10 rows"
   ]
  },
  {
   "cell_type": "markdown",
   "metadata": {
    "application/vnd.databricks.v1+cell": {
     "cellMetadata": {
      "byteLimit": 2048000,
      "rowLimit": 10000
     },
     "inputWidgets": {},
     "nuid": "6ac889fe-0297-4c21-904e-8beccb0b8b32",
     "showTitle": false,
     "tableResultSettingsMap": {},
     "title": ""
    }
   },
   "source": [
    "### Question / Query 1:"
   ]
  },
  {
   "cell_type": "code",
   "execution_count": 0,
   "metadata": {
    "application/vnd.databricks.v1+cell": {
     "cellMetadata": {
      "byteLimit": 2048000,
      "rowLimit": 10000
     },
     "inputWidgets": {},
     "nuid": "9632cebf-c741-49e5-9c71-8094d4df3b33",
     "showTitle": false,
     "tableResultSettingsMap": {},
     "title": ""
    }
   },
   "outputs": [
    {
     "output_type": "display_data",
     "data": {
      "text/html": [
       "<style scoped>\n",
       "  .table-result-container {\n",
       "    max-height: 300px;\n",
       "    overflow: auto;\n",
       "  }\n",
       "  table, th, td {\n",
       "    border: 1px solid black;\n",
       "    border-collapse: collapse;\n",
       "  }\n",
       "  th, td {\n",
       "    padding: 5px;\n",
       "  }\n",
       "  th {\n",
       "    text-align: left;\n",
       "  }\n",
       "</style><div class='table-result-container'><table class='table-result'><thead style='background-color: white'><tr><th>AIRLINE</th><th>YEAR</th><th>MONTH</th><th>AVG_ARR_DELAY</th><th>RANK</th><th>DELAY_LEVEL</th></tr></thead><tbody><tr><td>JetBlue Airways</td><td>2019</td><td>1</td><td>14.944398340248963</td><td>1</td><td>Medium</td></tr><tr><td>ExpressJet Airlines LLC d/b/a aha!</td><td>2019</td><td>1</td><td>14.542745098039216</td><td>2</td><td>Medium</td></tr><tr><td>SkyWest Airlines Inc.</td><td>2019</td><td>1</td><td>10.504681796540233</td><td>3</td><td>Medium</td></tr><tr><td>Republic Airline</td><td>2019</td><td>1</td><td>8.696883852691219</td><td>4</td><td>Low</td></tr><tr><td>Allegiant Air</td><td>2019</td><td>1</td><td>8.637829912023461</td><td>5</td><td>Low</td></tr><tr><td>United Air Lines Inc.</td><td>2019</td><td>1</td><td>7.874431695172115</td><td>6</td><td>Low</td></tr><tr><td>Envoy Air</td><td>2019</td><td>1</td><td>7.574979625101874</td><td>7</td><td>Low</td></tr><tr><td>Mesa Airlines Inc.</td><td>2019</td><td>1</td><td>5.837235228539576</td><td>8</td><td>Low</td></tr><tr><td>Frontier Airlines Inc.</td><td>2019</td><td>1</td><td>5.255102040816326</td><td>9</td><td>Low</td></tr><tr><td>Spirit Air Lines</td><td>2019</td><td>1</td><td>4.813245033112583</td><td>10</td><td>Low</td></tr><tr><td>American Airlines Inc.</td><td>2019</td><td>1</td><td>3.144564229120665</td><td>11</td><td>Low</td></tr><tr><td>Endeavor Air Inc.</td><td>2019</td><td>1</td><td>3.1093518060366154</td><td>12</td><td>Low</td></tr><tr><td>PSA Airlines Inc.</td><td>2019</td><td>1</td><td>1.9938407391113067</td><td>13</td><td>Low</td></tr><tr><td>Hawaiian Airlines Inc.</td><td>2019</td><td>1</td><td>0.8263473053892215</td><td>14</td><td>Low</td></tr><tr><td>Alaska Airlines Inc.</td><td>2019</td><td>1</td><td>0.5597051597051597</td><td>15</td><td>Low</td></tr><tr><td>Southwest Airlines Co.</td><td>2019</td><td>1</td><td>-0.555320324005891</td><td>16</td><td>Low</td></tr><tr><td>Delta Air Lines Inc.</td><td>2019</td><td>1</td><td>-2.7794409855610014</td><td>17</td><td>Low</td></tr><tr><td>ExpressJet Airlines LLC d/b/a aha!</td><td>2019</td><td>2</td><td>17.507653061224488</td><td>1</td><td>Medium</td></tr><tr><td>SkyWest Airlines Inc.</td><td>2019</td><td>2</td><td>17.282747603833865</td><td>2</td><td>Medium</td></tr><tr><td>Envoy Air</td><td>2019</td><td>2</td><td>15.040417209908735</td><td>3</td><td>Medium</td></tr><tr><td>JetBlue Airways</td><td>2019</td><td>2</td><td>13.901565995525727</td><td>4</td><td>Medium</td></tr><tr><td>Alaska Airlines Inc.</td><td>2019</td><td>2</td><td>11.751750134625741</td><td>5</td><td>Medium</td></tr><tr><td>Allegiant Air</td><td>2019</td><td>2</td><td>11.541899441340782</td><td>6</td><td>Medium</td></tr><tr><td>Mesa Airlines Inc.</td><td>2019</td><td>2</td><td>11.286084142394822</td><td>7</td><td>Medium</td></tr><tr><td>Spirit Air Lines</td><td>2019</td><td>2</td><td>8.805003679175865</td><td>8</td><td>Low</td></tr><tr><td>United Air Lines Inc.</td><td>2019</td><td>2</td><td>8.27576164874552</td><td>9</td><td>Low</td></tr><tr><td>American Airlines Inc.</td><td>2019</td><td>2</td><td>8.01297071129707</td><td>10</td><td>Low</td></tr><tr><td>Southwest Airlines Co.</td><td>2019</td><td>2</td><td>7.127401623343265</td><td>11</td><td>Low</td></tr><tr><td>Frontier Airlines Inc.</td><td>2019</td><td>2</td><td>6.94392523364486</td><td>12</td><td>Low</td></tr><tr><td>PSA Airlines Inc.</td><td>2019</td><td>2</td><td>6.398806563898558</td><td>13</td><td>Low</td></tr><tr><td>Hawaiian Airlines Inc.</td><td>2019</td><td>2</td><td>5.355242566510172</td><td>14</td><td>Low</td></tr><tr><td>Delta Air Lines Inc.</td><td>2019</td><td>2</td><td>4.587235268693272</td><td>15</td><td>Low</td></tr><tr><td>Endeavor Air Inc.</td><td>2019</td><td>2</td><td>4.05941143808995</td><td>16</td><td>Low</td></tr><tr><td>Republic Airline</td><td>2019</td><td>2</td><td>3.7169811320754715</td><td>17</td><td>Low</td></tr><tr><td>ExpressJet Airlines LLC d/b/a aha!</td><td>2019</td><td>3</td><td>10.438709677419356</td><td>1</td><td>Medium</td></tr><tr><td>JetBlue Airways</td><td>2019</td><td>3</td><td>10.196055684454757</td><td>2</td><td>Medium</td></tr><tr><td>Mesa Airlines Inc.</td><td>2019</td><td>3</td><td>8.132530120481928</td><td>3</td><td>Low</td></tr><tr><td>SkyWest Airlines Inc.</td><td>2019</td><td>3</td><td>6.942020665901263</td><td>4</td><td>Low</td></tr><tr><td>United Air Lines Inc.</td><td>2019</td><td>3</td><td>5.943077212098441</td><td>5</td><td>Low</td></tr><tr><td>Frontier Airlines Inc.</td><td>2019</td><td>3</td><td>5.8193236714975844</td><td>6</td><td>Low</td></tr><tr><td>American Airlines Inc.</td><td>2019</td><td>3</td><td>5.687718859429715</td><td>7</td><td>Low</td></tr><tr><td>PSA Airlines Inc.</td><td>2019</td><td>3</td><td>2.5650260104041616</td><td>8</td><td>Low</td></tr><tr><td>Allegiant Air</td><td>2019</td><td>3</td><td>1.909362549800797</td><td>9</td><td>Low</td></tr><tr><td>Southwest Airlines Co.</td><td>2019</td><td>3</td><td>1.7364749914937054</td><td>10</td><td>Low</td></tr><tr><td>Endeavor Air Inc.</td><td>2019</td><td>3</td><td>1.520671834625323</td><td>11</td><td>Low</td></tr><tr><td>Republic Airline</td><td>2019</td><td>3</td><td>1.2239252336448598</td><td>12</td><td>Low</td></tr><tr><td>Envoy Air</td><td>2019</td><td>3</td><td>0.6904588492352512</td><td>13</td><td>Low</td></tr><tr><td>Alaska Airlines Inc.</td><td>2019</td><td>3</td><td>0.34226055379028597</td><td>14</td><td>Low</td></tr><tr><td>Hawaiian Airlines Inc.</td><td>2019</td><td>3</td><td>0.22434017595307917</td><td>15</td><td>Low</td></tr><tr><td>Spirit Air Lines</td><td>2019</td><td>3</td><td>-0.13217703349282298</td><td>16</td><td>Low</td></tr><tr><td>Delta Air Lines Inc.</td><td>2019</td><td>3</td><td>-1.7064800180627682</td><td>17</td><td>Low</td></tr><tr><td>ExpressJet Airlines LLC d/b/a aha!</td><td>2019</td><td>4</td><td>16.641346153846154</td><td>1</td><td>Medium</td></tr><tr><td>PSA Airlines Inc.</td><td>2019</td><td>4</td><td>11.242971044901385</td><td>2</td><td>Medium</td></tr><tr><td>JetBlue Airways</td><td>2019</td><td>4</td><td>10.75364077669903</td><td>3</td><td>Medium</td></tr><tr><td>American Airlines Inc.</td><td>2019</td><td>4</td><td>7.714669171923232</td><td>4</td><td>Low</td></tr><tr><td>Allegiant Air</td><td>2019</td><td>4</td><td>7.312227074235808</td><td>5</td><td>Low</td></tr><tr><td>Mesa Airlines Inc.</td><td>2019</td><td>4</td><td>6.263009049773756</td><td>6</td><td>Low</td></tr><tr><td>United Air Lines Inc.</td><td>2019</td><td>4</td><td>6.226459143968872</td><td>7</td><td>Low</td></tr><tr><td>Republic Airline</td><td>2019</td><td>4</td><td>5.151403249630723</td><td>8</td><td>Low</td></tr><tr><td>Endeavor Air Inc.</td><td>2019</td><td>4</td><td>4.9282051282051285</td><td>9</td><td>Low</td></tr><tr><td>SkyWest Airlines Inc.</td><td>2019</td><td>4</td><td>3.20967504778709</td><td>10</td><td>Low</td></tr><tr><td>Southwest Airlines Co.</td><td>2019</td><td>4</td><td>3.1114067766542486</td><td>11</td><td>Low</td></tr><tr><td>Envoy Air</td><td>2019</td><td>4</td><td>2.6255436931593517</td><td>12</td><td>Low</td></tr><tr><td>Spirit Air Lines</td><td>2019</td><td>4</td><td>2.5245494095711623</td><td>13</td><td>Low</td></tr><tr><td>Frontier Airlines Inc.</td><td>2019</td><td>4</td><td>1.9595261599210267</td><td>14</td><td>Low</td></tr><tr><td>Delta Air Lines Inc.</td><td>2019</td><td>4</td><td>1.0417459562321598</td><td>15</td><td>Low</td></tr><tr><td>Hawaiian Airlines Inc.</td><td>2019</td><td>4</td><td>-1.1323529411764706</td><td>16</td><td>Low</td></tr><tr><td>Alaska Airlines Inc.</td><td>2019</td><td>4</td><td>-2.0137898240608654</td><td>17</td><td>Low</td></tr><tr><td>Frontier Airlines Inc.</td><td>2019</td><td>5</td><td>16.6584938704028</td><td>1</td><td>Medium</td></tr><tr><td>ExpressJet Airlines LLC d/b/a aha!</td><td>2019</td><td>5</td><td>15.564825253664036</td><td>2</td><td>Medium</td></tr><tr><td>Mesa Airlines Inc.</td><td>2019</td><td>5</td><td>13.307490832896805</td><td>3</td><td>Medium</td></tr><tr><td>American Airlines Inc.</td><td>2019</td><td>5</td><td>13.105768048210551</td><td>4</td><td>Medium</td></tr><tr><td>United Air Lines Inc.</td><td>2019</td><td>5</td><td>10.900130426681573</td><td>5</td><td>Medium</td></tr><tr><td>Envoy Air</td><td>2019</td><td>5</td><td>9.385374771480805</td><td>6</td><td>Low</td></tr><tr><td>Spirit Air Lines</td><td>2019</td><td>5</td><td>7.835170893054024</td><td>7</td><td>Low</td></tr><tr><td>Southwest Airlines Co.</td><td>2019</td><td>5</td><td>6.0944019471488176</td><td>8</td><td>Low</td></tr><tr><td>PSA Airlines Inc.</td><td>2019</td><td>5</td><td>5.642769857433809</td><td>9</td><td>Low</td></tr><tr><td>Republic Airline</td><td>2019</td><td>5</td><td>5.543997149982188</td><td>10</td><td>Low</td></tr><tr><td>JetBlue Airways</td><td>2019</td><td>5</td><td>5.120857699805068</td><td>11</td><td>Low</td></tr><tr><td>SkyWest Airlines Inc.</td><td>2019</td><td>5</td><td>4.939234184239734</td><td>12</td><td>Low</td></tr><tr><td>Allegiant Air</td><td>2019</td><td>5</td><td>4.519148936170213</td><td>13</td><td>Low</td></tr><tr><td>Alaska Airlines Inc.</td><td>2019</td><td>5</td><td>0.3349158394475615</td><td>14</td><td>Low</td></tr><tr><td>Delta Air Lines Inc.</td><td>2019</td><td>5</td><td>0.04530855700848819</td><td>15</td><td>Low</td></tr><tr><td>Endeavor Air Inc.</td><td>2019</td><td>5</td><td>-0.349906191369606</td><td>16</td><td>Low</td></tr><tr><td>Hawaiian Airlines Inc.</td><td>2019</td><td>5</td><td>-1.9642857142857142</td><td>17</td><td>Low</td></tr><tr><td>ExpressJet Airlines LLC d/b/a aha!</td><td>2019</td><td>6</td><td>30.358342665173573</td><td>1</td><td>High</td></tr><tr><td>Mesa Airlines Inc.</td><td>2019</td><td>6</td><td>22.816283924843425</td><td>2</td><td>High</td></tr><tr><td>Frontier Airlines Inc.</td><td>2019</td><td>6</td><td>20.42928870292887</td><td>3</td><td>High</td></tr><tr><td>United Air Lines Inc.</td><td>2019</td><td>6</td><td>16.023726957473993</td><td>4</td><td>Medium</td></tr><tr><td>American Airlines Inc.</td><td>2019</td><td>6</td><td>15.342173350582147</td><td>5</td><td>Medium</td></tr><tr><td>JetBlue Airways</td><td>2019</td><td>6</td><td>14.767480347538271</td><td>6</td><td>Medium</td></tr><tr><td>Envoy Air</td><td>2019</td><td>6</td><td>13.876180101670299</td><td>7</td><td>Medium</td></tr><tr><td>Endeavor Air Inc.</td><td>2019</td><td>6</td><td>13.674581005586592</td><td>8</td><td>Medium</td></tr><tr><td>Allegiant Air</td><td>2019</td><td>6</td><td>13.3671875</td><td>9</td><td>Medium</td></tr><tr><td>Spirit Air Lines</td><td>2019</td><td>6</td><td>12.975135135135135</td><td>10</td><td>Medium</td></tr><tr><td>Republic Airline</td><td>2019</td><td>6</td><td>12.68486171761281</td><td>11</td><td>Medium</td></tr><tr><td>PSA Airlines Inc.</td><td>2019</td><td>6</td><td>12.06484502446982</td><td>12</td><td>Medium</td></tr><tr><td>SkyWest Airlines Inc.</td><td>2019</td><td>6</td><td>11.913007226236799</td><td>13</td><td>Medium</td></tr><tr><td>Southwest Airlines Co.</td><td>2019</td><td>6</td><td>7.451249132546843</td><td>14</td><td>Low</td></tr><tr><td>Delta Air Lines Inc.</td><td>2019</td><td>6</td><td>7.061444814517055</td><td>15</td><td>Low</td></tr><tr><td>Alaska Airlines Inc.</td><td>2019</td><td>6</td><td>1.367816091954023</td><td>16</td><td>Low</td></tr><tr><td>Hawaiian Airlines Inc.</td><td>2019</td><td>6</td><td>1.1468253968253967</td><td>17</td><td>Low</td></tr><tr><td>ExpressJet Airlines LLC d/b/a aha!</td><td>2019</td><td>7</td><td>20.13085004775549</td><td>1</td><td>High</td></tr><tr><td>JetBlue Airways</td><td>2019</td><td>7</td><td>15.785288270377734</td><td>2</td><td>Medium</td></tr><tr><td>Frontier Airlines Inc.</td><td>2019</td><td>7</td><td>14.88770053475936</td><td>3</td><td>Medium</td></tr><tr><td>United Air Lines Inc.</td><td>2019</td><td>7</td><td>13.665101156069364</td><td>4</td><td>Medium</td></tr><tr><td>Mesa Airlines Inc.</td><td>2019</td><td>7</td><td>12.292181069958847</td><td>5</td><td>Medium</td></tr><tr><td>American Airlines Inc.</td><td>2019</td><td>7</td><td>10.741052631578947</td><td>6</td><td>Medium</td></tr><tr><td>Spirit Air Lines</td><td>2019</td><td>7</td><td>9.996268656716419</td><td>7</td><td>Low</td></tr><tr><td>Envoy Air</td><td>2019</td><td>7</td><td>8.680156194533192</td><td>8</td><td>Low</td></tr><tr><td>Delta Air Lines Inc.</td><td>2019</td><td>7</td><td>8.399192668557713</td><td>9</td><td>Low</td></tr><tr><td>Allegiant Air</td><td>2019</td><td>7</td><td>8.309778142974528</td><td>10</td><td>Low</td></tr><tr><td>PSA Airlines Inc.</td><td>2019</td><td>7</td><td>8.22953517071164</td><td>11</td><td>Low</td></tr><tr><td>SkyWest Airlines Inc.</td><td>2019</td><td>7</td><td>7.350767178118746</td><td>12</td><td>Low</td></tr><tr><td>Republic Airline</td><td>2019</td><td>7</td><td>6.217182890855457</td><td>13</td><td>Low</td></tr><tr><td>Endeavor Air Inc.</td><td>2019</td><td>7</td><td>4.760379061371841</td><td>14</td><td>Low</td></tr><tr><td>Southwest Airlines Co.</td><td>2019</td><td>7</td><td>4.06982937994174</td><td>15</td><td>Low</td></tr><tr><td>Hawaiian Airlines Inc.</td><td>2019</td><td>7</td><td>2.1608108108108106</td><td>16</td><td>Low</td></tr><tr><td>Alaska Airlines Inc.</td><td>2019</td><td>7</td><td>-1.0099641291351136</td><td>17</td><td>Low</td></tr><tr><td>ExpressJet Airlines LLC d/b/a aha!</td><td>2019</td><td>8</td><td>29.38909426987061</td><td>1</td><td>High</td></tr><tr><td>JetBlue Airways</td><td>2019</td><td>8</td><td>21.436523065192528</td><td>2</td><td>High</td></tr><tr><td>Spirit Air Lines</td><td>2019</td><td>8</td><td>15.286324786324787</td><td>3</td><td>Medium</td></tr><tr><td>Mesa Airlines Inc.</td><td>2019</td><td>8</td><td>13.474534769833497</td><td>4</td><td>Medium</td></tr><tr><td>Frontier Airlines Inc.</td><td>2019</td><td>8</td><td>12.606324110671936</td><td>5</td><td>Medium</td></tr><tr><td>PSA Airlines Inc.</td><td>2019</td><td>8</td><td>12.601426307448495</td><td>6</td><td>Medium</td></tr><tr><td>Allegiant Air</td><td>2019</td><td>8</td><td>10.491408934707904</td><td>7</td><td>Medium</td></tr><tr><td>United Air Lines Inc.</td><td>2019</td><td>8</td><td>9.88960925179604</td><td>8</td><td>Low</td></tr><tr><td>Republic Airline</td><td>2019</td><td>8</td><td>9.366444366444366</td><td>9</td><td>Low</td></tr><tr><td>American Airlines Inc.</td><td>2019</td><td>8</td><td>9.16376051701012</td><td>10</td><td>Low</td></tr><tr><td>Envoy Air</td><td>2019</td><td>8</td><td>6.496526629176315</td><td>11</td><td>Low</td></tr><tr><td>SkyWest Airlines Inc.</td><td>2019</td><td>8</td><td>5.413965087281795</td><td>12</td><td>Low</td></tr><tr><td>Endeavor Air Inc.</td><td>2019</td><td>8</td><td>5.089316987740806</td><td>13</td><td>Low</td></tr><tr><td>Delta Air Lines Inc.</td><td>2019</td><td>8</td><td>4.19496855345912</td><td>14</td><td>Low</td></tr><tr><td>Alaska Airlines Inc.</td><td>2019</td><td>8</td><td>3.3251077164120644</td><td>15</td><td>Low</td></tr><tr><td>Southwest Airlines Co.</td><td>2019</td><td>8</td><td>2.5099303585246324</td><td>16</td><td>Low</td></tr><tr><td>Hawaiian Airlines Inc.</td><td>2019</td><td>8</td><td>-0.27918781725888325</td><td>17</td><td>Low</td></tr><tr><td>ExpressJet Airlines LLC d/b/a aha!</td><td>2019</td><td>9</td><td>11.172003659652333</td><td>1</td><td>Medium</td></tr><tr><td>Envoy Air</td><td>2019</td><td>9</td><td>5.292156119742327</td><td>2</td><td>Low</td></tr><tr><td>United Air Lines Inc.</td><td>2019</td><td>9</td><td>3.856644711352189</td><td>3</td><td>Low</td></tr><tr><td>Frontier Airlines Inc.</td><td>2019</td><td>9</td><td>2.823232323232323</td><td>4</td><td>Low</td></tr><tr><td>Mesa Airlines Inc.</td><td>2019</td><td>9</td><td>2.736641221374046</td><td>5</td><td>Low</td></tr><tr><td>SkyWest Airlines Inc.</td><td>2019</td><td>9</td><td>1.8905516431924883</td><td>6</td><td>Low</td></tr><tr><td>American Airlines Inc.</td><td>2019</td><td>9</td><td>1.639005202385484</td><td>7</td><td>Low</td></tr><tr><td>PSA Airlines Inc.</td><td>2019</td><td>9</td><td>0.29190125595495886</td><td>8</td><td>Low</td></tr><tr><td>Allegiant Air</td><td>2019</td><td>9</td><td>0.25208681135225375</td><td>9</td><td>Low</td></tr><tr><td>Alaska Airlines Inc.</td><td>2019</td><td>9</td><td>0.22089825847846012</td><td>10</td><td>Low</td></tr><tr><td>JetBlue Airways</td><td>2019</td><td>9</td><td>-0.13499184339314846</td><td>11</td><td>Low</td></tr><tr><td>Hawaiian Airlines Inc.</td><td>2019</td><td>9</td><td>-1.6402777777777777</td><td>12</td><td>Low</td></tr><tr><td>Delta Air Lines Inc.</td><td>2019</td><td>9</td><td>-2.0955216769890423</td><td>13</td><td>Low</td></tr><tr><td>Republic Airline</td><td>2019</td><td>9</td><td>-2.28988603988604</td><td>14</td><td>Low</td></tr><tr><td>Southwest Airlines Co.</td><td>2019</td><td>9</td><td>-3.2008808197015997</td><td>15</td><td>Low</td></tr><tr><td>Spirit Air Lines</td><td>2019</td><td>9</td><td>-3.919525888958203</td><td>16</td><td>Low</td></tr><tr><td>Endeavor Air Inc.</td><td>2019</td><td>9</td><td>-5.075634274772619</td><td>17</td><td>Low</td></tr><tr><td>Mesa Airlines Inc.</td><td>2019</td><td>10</td><td>11.648818137964303</td><td>1</td><td>Medium</td></tr><tr><td>ExpressJet Airlines LLC d/b/a aha!</td><td>2019</td><td>10</td><td>10.812903225806451</td><td>2</td><td>Medium</td></tr><tr><td>Frontier Airlines Inc.</td><td>2019</td><td>10</td><td>9.332307692307692</td><td>3</td><td>Low</td></tr><tr><td>American Airlines Inc.</td><td>2019</td><td>10</td><td>5.107169436864302</td><td>4</td><td>Low</td></tr><tr><td>Allegiant Air</td><td>2019</td><td>10</td><td>4.753512132822478</td><td>5</td><td>Low</td></tr><tr><td>Envoy Air</td><td>2019</td><td>10</td><td>4.294180269694819</td><td>6</td><td>Low</td></tr><tr><td>Hawaiian Airlines Inc.</td><td>2019</td><td>10</td><td>3.806318681318681</td><td>7</td><td>Low</td></tr><tr><td>PSA Airlines Inc.</td><td>2019</td><td>10</td><td>3.26806620912394</td><td>8</td><td>Low</td></tr><tr><td>SkyWest Airlines Inc.</td><td>2019</td><td>10</td><td>2.7953015524110456</td><td>9</td><td>Low</td></tr><tr><td>Republic Airline</td><td>2019</td><td>10</td><td>2.3367037411526796</td><td>10</td><td>Low</td></tr><tr><td>JetBlue Airways</td><td>2019</td><td>10</td><td>2.1534475886807494</td><td>11</td><td>Low</td></tr><tr><td>United Air Lines Inc.</td><td>2019</td><td>10</td><td>1.9676347095871238</td><td>12</td><td>Low</td></tr><tr><td>Spirit Air Lines</td><td>2019</td><td>10</td><td>0.14235500878734622</td><td>13</td><td>Low</td></tr><tr><td>Southwest Airlines Co.</td><td>2019</td><td>10</td><td>0.06975340575961372</td><td>14</td><td>Low</td></tr><tr><td>Endeavor Air Inc.</td><td>2019</td><td>10</td><td>-0.5004591368227732</td><td>15</td><td>Low</td></tr><tr><td>Delta Air Lines Inc.</td><td>2019</td><td>10</td><td>-0.5859267734553776</td><td>16</td><td>Low</td></tr><tr><td>Alaska Airlines Inc.</td><td>2019</td><td>10</td><td>-1.8237668161434977</td><td>17</td><td>Low</td></tr><tr><td>Frontier Airlines Inc.</td><td>2019</td><td>11</td><td>5.082448979591836</td><td>1</td><td>Low</td></tr><tr><td>Allegiant Air</td><td>2019</td><td>11</td><td>3.937136204889406</td><td>2</td><td>Low</td></tr><tr><td>Mesa Airlines Inc.</td><td>2019</td><td>11</td><td>3.5892951775304716</td><td>3</td><td>Low</td></tr><tr><td>PSA Airlines Inc.</td><td>2019</td><td>11</td><td>3.4260162601626014</td><td>4</td><td>Low</td></tr><tr><td>JetBlue Airways</td><td>2019</td><td>11</td><td>2.524091627172196</td><td>5</td><td>Low</td></tr><tr><td>SkyWest Airlines Inc.</td><td>2019</td><td>11</td><td>1.7548819586126494</td><td>6</td><td>Low</td></tr><tr><td>ExpressJet Airlines LLC d/b/a aha!</td><td>2019</td><td>11</td><td>1.0865644724977457</td><td>7</td><td>Low</td></tr><tr><td>American Airlines Inc.</td><td>2019</td><td>11</td><td>0.4648082744702321</td><td>8</td><td>Low</td></tr><tr><td>Envoy Air</td><td>2019</td><td>11</td><td>0.3369439071566731</td><td>9</td><td>Low</td></tr><tr><td>United Air Lines Inc.</td><td>2019</td><td>11</td><td>0.2607149911119889</td><td>10</td><td>Low</td></tr><tr><td>Hawaiian Airlines Inc.</td><td>2019</td><td>11</td><td>-0.7115942028985507</td><td>11</td><td>Low</td></tr><tr><td>Southwest Airlines Co.</td><td>2019</td><td>11</td><td>-1.2014721919302072</td><td>12</td><td>Low</td></tr><tr><td>Delta Air Lines Inc.</td><td>2019</td><td>11</td><td>-2.1145196773405037</td><td>13</td><td>Low</td></tr><tr><td>Spirit Air Lines</td><td>2019</td><td>11</td><td>-2.4662236987818384</td><td>14</td><td>Low</td></tr><tr><td>Republic Airline</td><td>2019</td><td>11</td><td>-2.5512866980790143</td><td>15</td><td>Low</td></tr><tr><td>Alaska Airlines Inc.</td><td>2019</td><td>11</td><td>-2.6248168050806058</td><td>16</td><td>Low</td></tr><tr><td>Endeavor Air Inc.</td><td>2019</td><td>11</td><td>-3.878211227402474</td><td>17</td><td>Low</td></tr><tr><td>JetBlue Airways</td><td>2019</td><td>12</td><td>21.98804934464148</td><td>1</td><td>High</td></tr><tr><td>Mesa Airlines Inc.</td><td>2019</td><td>12</td><td>16.182250396196512</td><td>2</td><td>Medium</td></tr><tr><td>ExpressJet Airlines LLC d/b/a aha!</td><td>2019</td><td>12</td><td>13.817223198594025</td><td>3</td><td>Medium</td></tr><tr><td>Allegiant Air</td><td>2019</td><td>12</td><td>10.18927125506073</td><td>4</td><td>Medium</td></tr><tr><td>PSA Airlines Inc.</td><td>2019</td><td>12</td><td>8.992046881540393</td><td>5</td><td>Low</td></tr><tr><td>SkyWest Airlines Inc.</td><td>2019</td><td>12</td><td>8.176661492874278</td><td>6</td><td>Low</td></tr><tr><td>Frontier Airlines Inc.</td><td>2019</td><td>12</td><td>6.985617597292724</td><td>7</td><td>Low</td></tr><tr><td>Republic Airline</td><td>2019</td><td>12</td><td>6.592205984690327</td><td>8</td><td>Low</td></tr><tr><td>United Air Lines Inc.</td><td>2019</td><td>12</td><td>6.368100494861058</td><td>9</td><td>Low</td></tr><tr><td>Alaska Airlines Inc.</td><td>2019</td><td>12</td><td>5.955036748811068</td><td>10</td><td>Low</td></tr><tr><td>Envoy Air</td><td>2019</td><td>12</td><td>5.875945537065053</td><td>11</td><td>Low</td></tr><tr><td>Southwest Airlines Co.</td><td>2019</td><td>12</td><td>4.922438857533778</td><td>12</td><td>Low</td></tr><tr><td>American Airlines Inc.</td><td>2019</td><td>12</td><td>4.046733606049337</td><td>13</td><td>Low</td></tr><tr><td>Spirit Air Lines</td><td>2019</td><td>12</td><td>3.3382920110192837</td><td>14</td><td>Low</td></tr><tr><td>Delta Air Lines Inc.</td><td>2019</td><td>12</td><td>-0.01961505455437048</td><td>15</td><td>Low</td></tr><tr><td>Hawaiian Airlines Inc.</td><td>2019</td><td>12</td><td>-0.4546742209631728</td><td>16</td><td>Low</td></tr><tr><td>Endeavor Air Inc.</td><td>2019</td><td>12</td><td>-0.484409310496267</td><td>17</td><td>Low</td></tr><tr><td>PSA Airlines Inc.</td><td>2020</td><td>1</td><td>7.9091636654661865</td><td>1</td><td>Low</td></tr><tr><td>Allegiant Air</td><td>2020</td><td>1</td><td>6.280254777070064</td><td>2</td><td>Low</td></tr><tr><td>Mesa Airlines Inc.</td><td>2020</td><td>1</td><td>6.14203565267395</td><td>3</td><td>Low</td></tr><tr><td>Envoy Air</td><td>2020</td><td>1</td><td>5.333460365853658</td><td>4</td><td>Low</td></tr><tr><td>SkyWest Airlines Inc.</td><td>2020</td><td>1</td><td>2.48732782369146</td><td>5</td><td>Low</td></tr><tr><td>Alaska Airlines Inc.</td><td>2020</td><td>1</td><td>2.020417853751187</td><td>6</td><td>Low</td></tr><tr><td>Spirit Air Lines</td><td>2020</td><td>1</td><td>0.33178922987840187</td><td>7</td><td>Low</td></tr><tr><td>American Airlines Inc.</td><td>2020</td><td>1</td><td>-0.33877183967112023</td><td>8</td><td>Low</td></tr><tr><td>Hawaiian Airlines Inc.</td><td>2020</td><td>1</td><td>-1.3210382513661203</td><td>9</td><td>Low</td></tr><tr><td>ExpressJet Airlines LLC d/b/a aha!</td><td>2020</td><td>1</td><td>-1.9850746268656716</td><td>10</td><td>Low</td></tr><tr><td>JetBlue Airways</td><td>2020</td><td>1</td><td>-2.965111561866126</td><td>11</td><td>Low</td></tr><tr><td>United Air Lines Inc.</td><td>2020</td><td>1</td><td>-3.5096193205075727</td><td>12</td><td>Low</td></tr><tr><td>Endeavor Air Inc.</td><td>2020</td><td>1</td><td>-4.932385874246339</td><td>13</td><td>Low</td></tr><tr><td>Delta Air Lines Inc.</td><td>2020</td><td>1</td><td>-5.394269621648096</td><td>14</td><td>Low</td></tr><tr><td>Southwest Airlines Co.</td><td>2020</td><td>1</td><td>-5.849206349206349</td><td>15</td><td>Low</td></tr><tr><td>Republic Airline</td><td>2020</td><td>1</td><td>-5.862582208376601</td><td>16</td><td>Low</td></tr><tr><td>Frontier Airlines Inc.</td><td>2020</td><td>1</td><td>-5.899842271293376</td><td>17</td><td>Low</td></tr><tr><td>PSA Airlines Inc.</td><td>2020</td><td>2</td><td>17.49476082004556</td><td>1</td><td>Medium</td></tr><tr><td>Allegiant Air</td><td>2020</td><td>2</td><td>12.848203939745074</td><td>2</td><td>Medium</td></tr><tr><td>Mesa Airlines Inc.</td><td>2020</td><td>2</td><td>4.472270869819031</td><td>3</td><td>Low</td></tr><tr><td>Spirit Air Lines</td><td>2020</td><td>2</td><td>2.965921787709497</td><td>4</td><td>Low</td></tr><tr><td>SkyWest Airlines Inc.</td><td>2020</td><td>2</td><td>2.0382480875956204</td><td>5</td><td>Low</td></tr><tr><td>Envoy Air</td><td>2020</td><td>2</td><td>1.274729842061513</td><td>6</td><td>Low</td></tr><tr><td>Frontier Airlines Inc.</td><td>2020</td><td>2</td><td>0.9530842745438749</td><td>7</td><td>Low</td></tr><tr><td>American Airlines Inc.</td><td>2020</td><td>2</td><td>0.3610386042038742</td><td>8</td><td>Low</td></tr><tr><td>Endeavor Air Inc.</td><td>2020</td><td>2</td><td>0.29063604240282687</td><td>9</td><td>Low</td></tr><tr><td>ExpressJet Airlines LLC d/b/a aha!</td><td>2020</td><td>2</td><td>0.1646655231560892</td><td>10</td><td>Low</td></tr><tr><td>Republic Airline</td><td>2020</td><td>2</td><td>-1.0212765957446808</td><td>11</td><td>Low</td></tr><tr><td>JetBlue Airways</td><td>2020</td><td>2</td><td>-1.1936041486603284</td><td>12</td><td>Low</td></tr><tr><td>Hawaiian Airlines Inc.</td><td>2020</td><td>2</td><td>-1.3121301775147929</td><td>13</td><td>Low</td></tr><tr><td>Delta Air Lines Inc.</td><td>2020</td><td>2</td><td>-1.5861222380152475</td><td>14</td><td>Low</td></tr><tr><td>United Air Lines Inc.</td><td>2020</td><td>2</td><td>-3.2577843677187035</td><td>15</td><td>Low</td></tr><tr><td>Alaska Airlines Inc.</td><td>2020</td><td>2</td><td>-3.325392802838317</td><td>16</td><td>Low</td></tr><tr><td>Southwest Airlines Co.</td><td>2020</td><td>2</td><td>-5.795412214488776</td><td>17</td><td>Low</td></tr><tr><td>Allegiant Air</td><td>2020</td><td>3</td><td>8.981111111111112</td><td>1</td><td>Low</td></tr><tr><td>PSA Airlines Inc.</td><td>2020</td><td>3</td><td>1.3532293986636972</td><td>2</td><td>Low</td></tr><tr><td>Mesa Airlines Inc.</td><td>2020</td><td>3</td><td>0.864549578742709</td><td>3</td><td>Low</td></tr><tr><td>Hawaiian Airlines Inc.</td><td>2020</td><td>3</td><td>-1.8095238095238095</td><td>4</td><td>Low</td></tr><tr><td>Envoy Air</td><td>2020</td><td>3</td><td>-3.480948348856901</td><td>5</td><td>Low</td></tr><tr><td>American Airlines Inc.</td><td>2020</td><td>3</td><td>-4.105395790097836</td><td>6</td><td>Low</td></tr><tr><td>Spirit Air Lines</td><td>2020</td><td>3</td><td>-4.178494623655914</td><td>7</td><td>Low</td></tr><tr><td>Alaska Airlines Inc.</td><td>2020</td><td>3</td><td>-5.976060935799782</td><td>8</td><td>Low</td></tr><tr><td>Frontier Airlines Inc.</td><td>2020</td><td>3</td><td>-6.832517140058766</td><td>9</td><td>Low</td></tr><tr><td>SkyWest Airlines Inc.</td><td>2020</td><td>3</td><td>-7.408035714285714</td><td>10</td><td>Low</td></tr><tr><td>United Air Lines Inc.</td><td>2020</td><td>3</td><td>-7.425209692451071</td><td>11</td><td>Low</td></tr><tr><td>Delta Air Lines Inc.</td><td>2020</td><td>3</td><td>-7.750443524541692</td><td>12</td><td>Low</td></tr><tr><td>Southwest Airlines Co.</td><td>2020</td><td>3</td><td>-8.139668753787113</td><td>13</td><td>Low</td></tr><tr><td>JetBlue Airways</td><td>2020</td><td>3</td><td>-8.449478930675125</td><td>14</td><td>Low</td></tr><tr><td>ExpressJet Airlines LLC d/b/a aha!</td><td>2020</td><td>3</td><td>-9.525490196078431</td><td>15</td><td>Low</td></tr><tr><td>Republic Airline</td><td>2020</td><td>3</td><td>-9.990298507462686</td><td>16</td><td>Low</td></tr><tr><td>Endeavor Air Inc.</td><td>2020</td><td>3</td><td>-11.732643380767572</td><td>17</td><td>Low</td></tr><tr><td>Allegiant Air</td><td>2020</td><td>4</td><td>4.253164556962025</td><td>1</td><td>Low</td></tr><tr><td>Delta Air Lines Inc.</td><td>2020</td><td>4</td><td>-5.6018662519440126</td><td>2</td><td>Low</td></tr><tr><td>Endeavor Air Inc.</td><td>2020</td><td>4</td><td>-7.700913242009133</td><td>3</td><td>Low</td></tr><tr><td>SkyWest Airlines Inc.</td><td>2020</td><td>4</td><td>-10.914608327452363</td><td>4</td><td>Low</td></tr><tr><td>Spirit Air Lines</td><td>2020</td><td>4</td><td>-12.57752808988764</td><td>5</td><td>Low</td></tr><tr><td>Mesa Airlines Inc.</td><td>2020</td><td>4</td><td>-13.851919561243145</td><td>6</td><td>Low</td></tr><tr><td>Hawaiian Airlines Inc.</td><td>2020</td><td>4</td><td>-13.957627118644067</td><td>7</td><td>Low</td></tr><tr><td>Southwest Airlines Co.</td><td>2020</td><td>4</td><td>-13.995752813760884</td><td>8</td><td>Low</td></tr><tr><td>Frontier Airlines Inc.</td><td>2020</td><td>4</td><td>-15.795774647887324</td><td>9</td><td>Low</td></tr><tr><td>PSA Airlines Inc.</td><td>2020</td><td>4</td><td>-15.879837067209776</td><td>10</td><td>Low</td></tr><tr><td>Envoy Air</td><td>2020</td><td>4</td><td>-15.951668584579977</td><td>11</td><td>Low</td></tr><tr><td>American Airlines Inc.</td><td>2020</td><td>4</td><td>-15.985001874765654</td><td>12</td><td>Low</td></tr><tr><td>ExpressJet Airlines LLC d/b/a aha!</td><td>2020</td><td>4</td><td>-17.473684210526315</td><td>13</td><td>Low</td></tr><tr><td>Republic Airline</td><td>2020</td><td>4</td><td>-18.285329744279945</td><td>14</td><td>Low</td></tr><tr><td>United Air Lines Inc.</td><td>2020</td><td>4</td><td>-20.52467811158798</td><td>15</td><td>Low</td></tr><tr><td>Alaska Airlines Inc.</td><td>2020</td><td>4</td><td>-21.46186440677966</td><td>16</td><td>Low</td></tr><tr><td>JetBlue Airways</td><td>2020</td><td>4</td><td>-23.61111111111111</td><td>17</td><td>Low</td></tr><tr><td>Allegiant Air</td><td>2020</td><td>5</td><td>7.6866666666666665</td><td>1</td><td>Low</td></tr><tr><td>Delta Air Lines Inc.</td><td>2020</td><td>5</td><td>-6.380597014925373</td><td>2</td><td>Low</td></tr><tr><td>Endeavor Air Inc.</td><td>2020</td><td>5</td><td>-8.16268656716418</td><td>3</td><td>Low</td></tr><tr><td>Envoy Air</td><td>2020</td><td>5</td><td>-9.043157894736842</td><td>4</td><td>Low</td></tr><tr><td>ExpressJet Airlines LLC d/b/a aha!</td><td>2020</td><td>5</td><td>-9.310638297872341</td><td>5</td><td>Low</td></tr><tr><td>Mesa Airlines Inc.</td><td>2020</td><td>5</td><td>-9.451519536903039</td><td>6</td><td>Low</td></tr><tr><td>SkyWest Airlines Inc.</td><td>2020</td><td>5</td><td>-11.342958860759493</td><td>7</td><td>Low</td></tr><tr><td>JetBlue Airways</td><td>2020</td><td>5</td><td>-11.633744855967079</td><td>8</td><td>Low</td></tr><tr><td>Southwest Airlines Co.</td><td>2020</td><td>5</td><td>-11.744967978042085</td><td>9</td><td>Low</td></tr><tr><td>Hawaiian Airlines Inc.</td><td>2020</td><td>5</td><td>-11.881889763779528</td><td>10</td><td>Low</td></tr><tr><td>Spirit Air Lines</td><td>2020</td><td>5</td><td>-11.932515337423313</td><td>11</td><td>Low</td></tr><tr><td>PSA Airlines Inc.</td><td>2020</td><td>5</td><td>-13.129976580796253</td><td>12</td><td>Low</td></tr><tr><td>American Airlines Inc.</td><td>2020</td><td>5</td><td>-14.760917512130568</td><td>13</td><td>Low</td></tr><tr><td>Frontier Airlines Inc.</td><td>2020</td><td>5</td><td>-15.85</td><td>14</td><td>Low</td></tr><tr><td>United Air Lines Inc.</td><td>2020</td><td>5</td><td>-16.58377659574468</td><td>15</td><td>Low</td></tr><tr><td>Republic Airline</td><td>2020</td><td>5</td><td>-16.878688524590164</td><td>16</td><td>Low</td></tr><tr><td>Alaska Airlines Inc.</td><td>2020</td><td>5</td><td>-18.736051502145923</td><td>17</td><td>Low</td></tr><tr><td>ExpressJet Airlines LLC d/b/a aha!</td><td>2020</td><td>6</td><td>-0.3246753246753247</td><td>1</td><td>Low</td></tr><tr><td>Allegiant Air</td><td>2020</td><td>6</td><td>-1.4230769230769231</td><td>2</td><td>Low</td></tr><tr><td>Mesa Airlines Inc.</td><td>2020</td><td>6</td><td>-1.6424682395644283</td><td>3</td><td>Low</td></tr><tr><td>Envoy Air</td><td>2020</td><td>6</td><td>-2.0340314136125652</td><td>4</td><td>Low</td></tr><tr><td>Hawaiian Airlines Inc.</td><td>2020</td><td>6</td><td>-3.2245989304812834</td><td>5</td><td>Low</td></tr><tr><td>Delta Air Lines Inc.</td><td>2020</td><td>6</td><td>-6.306868867082962</td><td>6</td><td>Low</td></tr><tr><td>SkyWest Airlines Inc.</td><td>2020</td><td>6</td><td>-6.823352165725047</td><td>7</td><td>Low</td></tr><tr><td>PSA Airlines Inc.</td><td>2020</td><td>6</td><td>-6.847328244274809</td><td>8</td><td>Low</td></tr><tr><td>Endeavor Air Inc.</td><td>2020</td><td>6</td><td>-8.071717171717172</td><td>9</td><td>Low</td></tr><tr><td>JetBlue Airways</td><td>2020</td><td>6</td><td>-8.252189141856393</td><td>10</td><td>Low</td></tr><tr><td>American Airlines Inc.</td><td>2020</td><td>6</td><td>-8.357067324638702</td><td>11</td><td>Low</td></tr><tr><td>Southwest Airlines Co.</td><td>2020</td><td>6</td><td>-8.42701458173446</td><td>12</td><td>Low</td></tr><tr><td>Alaska Airlines Inc.</td><td>2020</td><td>6</td><td>-10.291079812206572</td><td>13</td><td>Low</td></tr><tr><td>Spirit Air Lines</td><td>2020</td><td>6</td><td>-11.463576158940397</td><td>14</td><td>Low</td></tr><tr><td>United Air Lines Inc.</td><td>2020</td><td>6</td><td>-11.876510067114094</td><td>15</td><td>Low</td></tr><tr><td>Republic Airline</td><td>2020</td><td>6</td><td>-14.08936170212766</td><td>16</td><td>Low</td></tr><tr><td>Frontier Airlines Inc.</td><td>2020</td><td>6</td><td>-15.061946902654867</td><td>17</td><td>Low</td></tr><tr><td>Mesa Airlines Inc.</td><td>2020</td><td>7</td><td>3.3270300333704115</td><td>1</td><td>Low</td></tr><tr><td>PSA Airlines Inc.</td><td>2020</td><td>7</td><td>2.2066176470588235</td><td>2</td><td>Low</td></tr><tr><td>Allegiant Air</td><td>2020</td><td>7</td><td>1.6438492063492063</td><td>3</td><td>Low</td></tr><tr><td>Envoy Air</td><td>2020</td><td>7</td><td>0.02262693156732892</td><td>4</td><td>Low</td></tr><tr><td>ExpressJet Airlines LLC d/b/a aha!</td><td>2020</td><td>7</td><td>-1.4517374517374517</td><td>5</td><td>Low</td></tr><tr><td>SkyWest Airlines Inc.</td><td>2020</td><td>7</td><td>-1.679544328875681</td><td>6</td><td>Low</td></tr><tr><td>Delta Air Lines Inc.</td><td>2020</td><td>7</td><td>-1.8961175236096537</td><td>7</td><td>Low</td></tr><tr><td>Hawaiian Airlines Inc.</td><td>2020</td><td>7</td><td>-2.814814814814815</td><td>8</td><td>Low</td></tr><tr><td>Spirit Air Lines</td><td>2020</td><td>7</td><td>-4.398315282791817</td><td>9</td><td>Low</td></tr><tr><td>American Airlines Inc.</td><td>2020</td><td>7</td><td>-4.678794402583423</td><td>10</td><td>Low</td></tr><tr><td>Endeavor Air Inc.</td><td>2020</td><td>7</td><td>-4.983985765124555</td><td>11</td><td>Low</td></tr><tr><td>JetBlue Airways</td><td>2020</td><td>7</td><td>-5.093422306959009</td><td>12</td><td>Low</td></tr><tr><td>Frontier Airlines Inc.</td><td>2020</td><td>7</td><td>-5.93619972260749</td><td>13</td><td>Low</td></tr><tr><td>Alaska Airlines Inc.</td><td>2020</td><td>7</td><td>-7.771820448877805</td><td>14</td><td>Low</td></tr><tr><td>Southwest Airlines Co.</td><td>2020</td><td>7</td><td>-10.50755965036617</td><td>15</td><td>Low</td></tr><tr><td>Republic Airline</td><td>2020</td><td>7</td><td>-10.525773195876289</td><td>16</td><td>Low</td></tr><tr><td>United Air Lines Inc.</td><td>2020</td><td>7</td><td>-12.851006711409395</td><td>17</td><td>Low</td></tr><tr><td>PSA Airlines Inc.</td><td>2020</td><td>8</td><td>1.589923469387755</td><td>1</td><td>Low</td></tr><tr><td>Envoy Air</td><td>2020</td><td>8</td><td>-1.6781035558328135</td><td>2</td><td>Low</td></tr><tr><td>Allegiant Air</td><td>2020</td><td>8</td><td>-1.7066666666666668</td><td>3</td><td>Low</td></tr><tr><td>Frontier Airlines Inc.</td><td>2020</td><td>8</td><td>-2.299862448418157</td><td>4</td><td>Low</td></tr><tr><td>Delta Air Lines Inc.</td><td>2020</td><td>8</td><td>-2.876840140991084</td><td>5</td><td>Low</td></tr><tr><td>Hawaiian Airlines Inc.</td><td>2020</td><td>8</td><td>-4.131914893617021</td><td>6</td><td>Low</td></tr><tr><td>SkyWest Airlines Inc.</td><td>2020</td><td>8</td><td>-4.60671743800039</td><td>7</td><td>Low</td></tr><tr><td>Mesa Airlines Inc.</td><td>2020</td><td>8</td><td>-4.748496993987976</td><td>8</td><td>Low</td></tr><tr><td>Alaska Airlines Inc.</td><td>2020</td><td>8</td><td>-5.113984674329502</td><td>9</td><td>Low</td></tr><tr><td>Endeavor Air Inc.</td><td>2020</td><td>8</td><td>-5.38034425319267</td><td>10</td><td>Low</td></tr><tr><td>ExpressJet Airlines LLC d/b/a aha!</td><td>2020</td><td>8</td><td>-5.382089552238806</td><td>11</td><td>Low</td></tr><tr><td>American Airlines Inc.</td><td>2020</td><td>8</td><td>-5.6890114552397115</td><td>12</td><td>Low</td></tr><tr><td>Spirit Air Lines</td><td>2020</td><td>8</td><td>-6.60168776371308</td><td>13</td><td>Low</td></tr><tr><td>JetBlue Airways</td><td>2020</td><td>8</td><td>-8.749029754204399</td><td>14</td><td>Low</td></tr><tr><td>Southwest Airlines Co.</td><td>2020</td><td>8</td><td>-9.611412402735205</td><td>15</td><td>Low</td></tr><tr><td>United Air Lines Inc.</td><td>2020</td><td>8</td><td>-10.33943661971831</td><td>16</td><td>Low</td></tr><tr><td>Republic Airline</td><td>2020</td><td>8</td><td>-11.8891523414345</td><td>17</td><td>Low</td></tr><tr><td>Envoy Air</td><td>2020</td><td>9</td><td>-0.13537675606641125</td><td>1</td><td>Low</td></tr><tr><td>Allegiant Air</td><td>2020</td><td>9</td><td>-2.509240246406571</td><td>2</td><td>Low</td></tr><tr><td>PSA Airlines Inc.</td><td>2020</td><td>9</td><td>-3.7505454545454544</td><td>3</td><td>Low</td></tr><tr><td>Hawaiian Airlines Inc.</td><td>2020</td><td>9</td><td>-4.178571428571429</td><td>4</td><td>Low</td></tr><tr><td>Mesa Airlines Inc.</td><td>2020</td><td>9</td><td>-4.542563143124416</td><td>5</td><td>Low</td></tr><tr><td>American Airlines Inc.</td><td>2020</td><td>9</td><td>-5.230979612133267</td><td>6</td><td>Low</td></tr><tr><td>Spirit Air Lines</td><td>2020</td><td>9</td><td>-5.784713375796178</td><td>7</td><td>Low</td></tr><tr><td>SkyWest Airlines Inc.</td><td>2020</td><td>9</td><td>-5.919052744886975</td><td>8</td><td>Low</td></tr><tr><td>Delta Air Lines Inc.</td><td>2020</td><td>9</td><td>-6.985826771653543</td><td>9</td><td>Low</td></tr><tr><td>ExpressJet Airlines LLC d/b/a aha!</td><td>2020</td><td>9</td><td>-8.371681415929203</td><td>10</td><td>Low</td></tr><tr><td>Alaska Airlines Inc.</td><td>2020</td><td>9</td><td>-8.952430196483972</td><td>11</td><td>Low</td></tr><tr><td>Southwest Airlines Co.</td><td>2020</td><td>9</td><td>-9.050594282043045</td><td>12</td><td>Low</td></tr><tr><td>Endeavor Air Inc.</td><td>2020</td><td>9</td><td>-9.965020576131687</td><td>13</td><td>Low</td></tr><tr><td>United Air Lines Inc.</td><td>2020</td><td>9</td><td>-10.925249169435215</td><td>14</td><td>Low</td></tr><tr><td>JetBlue Airways</td><td>2020</td><td>9</td><td>-11.72668810289389</td><td>15</td><td>Low</td></tr><tr><td>Frontier Airlines Inc.</td><td>2020</td><td>9</td><td>-12.657817109144542</td><td>16</td><td>Low</td></tr><tr><td>Republic Airline</td><td>2020</td><td>9</td><td>-13.200259235255995</td><td>17</td><td>Low</td></tr><tr><td>Allegiant Air</td><td>2020</td><td>10</td><td>10.216551724137931</td><td>1</td><td>Medium</td></tr><tr><td>Envoy Air</td><td>2020</td><td>10</td><td>1.8908879860708068</td><td>2</td><td>Low</td></tr><tr><td>Mesa Airlines Inc.</td><td>2020</td><td>10</td><td>0.12277227722772277</td><td>3</td><td>Low</td></tr><tr><td>American Airlines Inc.</td><td>2020</td><td>10</td><td>-1.9099876695437732</td><td>4</td><td>Low</td></tr><tr><td>PSA Airlines Inc.</td><td>2020</td><td>10</td><td>-2.223901098901099</td><td>5</td><td>Low</td></tr><tr><td>Frontier Airlines Inc.</td><td>2020</td><td>10</td><td>-2.6125786163522013</td><td>6</td><td>Low</td></tr><tr><td>SkyWest Airlines Inc.</td><td>2020</td><td>10</td><td>-3.316214088941362</td><td>7</td><td>Low</td></tr><tr><td>Hawaiian Airlines Inc.</td><td>2020</td><td>10</td><td>-3.982905982905983</td><td>8</td><td>Low</td></tr><tr><td>Spirit Air Lines</td><td>2020</td><td>10</td><td>-4.264232008592911</td><td>9</td><td>Low</td></tr><tr><td>Delta Air Lines Inc.</td><td>2020</td><td>10</td><td>-5.833931967039932</td><td>10</td><td>Low</td></tr><tr><td>United Air Lines Inc.</td><td>2020</td><td>10</td><td>-6.823577906018137</td><td>11</td><td>Low</td></tr><tr><td>Endeavor Air Inc.</td><td>2020</td><td>10</td><td>-7.968161434977579</td><td>12</td><td>Low</td></tr><tr><td>JetBlue Airways</td><td>2020</td><td>10</td><td>-8.433918128654971</td><td>13</td><td>Low</td></tr><tr><td>Southwest Airlines Co.</td><td>2020</td><td>10</td><td>-8.886580742987112</td><td>14</td><td>Low</td></tr><tr><td>Republic Airline</td><td>2020</td><td>10</td><td>-9.628132118451026</td><td>15</td><td>Low</td></tr><tr><td>Alaska Airlines Inc.</td><td>2020</td><td>10</td><td>-10.567493112947659</td><td>16</td><td>Low</td></tr><tr><td>Allegiant Air</td><td>2020</td><td>11</td><td>0.9857142857142858</td><td>1</td><td>Low</td></tr><tr><td>Hawaiian Airlines Inc.</td><td>2020</td><td>11</td><td>-1.5457627118644068</td><td>2</td><td>Low</td></tr><tr><td>Envoy Air</td><td>2020</td><td>11</td><td>-2.065954773869347</td><td>3</td><td>Low</td></tr><tr><td>Spirit Air Lines</td><td>2020</td><td>11</td><td>-2.920435510887772</td><td>4</td><td>Low</td></tr><tr><td>Delta Air Lines Inc.</td><td>2020</td><td>11</td><td>-3.305064063453325</td><td>5</td><td>Low</td></tr><tr><td>JetBlue Airways</td><td>2020</td><td>11</td><td>-5.269724770642202</td><td>6</td><td>Low</td></tr><tr><td>SkyWest Airlines Inc.</td><td>2020</td><td>11</td><td>-5.375285605483625</td><td>7</td><td>Low</td></tr><tr><td>PSA Airlines Inc.</td><td>2020</td><td>11</td><td>-5.395877754086709</td><td>8</td><td>Low</td></tr><tr><td>Mesa Airlines Inc.</td><td>2020</td><td>11</td><td>-5.7413162705667276</td><td>9</td><td>Low</td></tr><tr><td>Alaska Airlines Inc.</td><td>2020</td><td>11</td><td>-6.2729857819905215</td><td>10</td><td>Low</td></tr><tr><td>American Airlines Inc.</td><td>2020</td><td>11</td><td>-6.273302938196555</td><td>11</td><td>Low</td></tr><tr><td>United Air Lines Inc.</td><td>2020</td><td>11</td><td>-7.355808285946385</td><td>12</td><td>Low</td></tr><tr><td>Republic Airline</td><td>2020</td><td>11</td><td>-8.38798102266737</td><td>13</td><td>Low</td></tr><tr><td>Frontier Airlines Inc.</td><td>2020</td><td>11</td><td>-10.539559014267185</td><td>14</td><td>Low</td></tr><tr><td>Southwest Airlines Co.</td><td>2020</td><td>11</td><td>-10.668606262122472</td><td>15</td><td>Low</td></tr><tr><td>Endeavor Air Inc.</td><td>2020</td><td>11</td><td>-11.217011494252873</td><td>16</td><td>Low</td></tr><tr><td>JetBlue Airways</td><td>2020</td><td>12</td><td>5.3136363636363635</td><td>1</td><td>Low</td></tr><tr><td>Mesa Airlines Inc.</td><td>2020</td><td>12</td><td>2.2506082725060828</td><td>2</td><td>Low</td></tr><tr><td>Spirit Air Lines</td><td>2020</td><td>12</td><td>1.5767731878409976</td><td>3</td><td>Low</td></tr><tr><td>Delta Air Lines Inc.</td><td>2020</td><td>12</td><td>1.271138211382114</td><td>4</td><td>Low</td></tr><tr><td>Envoy Air</td><td>2020</td><td>12</td><td>0.48</td><td>5</td><td>Low</td></tr><tr><td>Allegiant Air</td><td>2020</td><td>12</td><td>0.42450142450142453</td><td>6</td><td>Low</td></tr><tr><td>SkyWest Airlines Inc.</td><td>2020</td><td>12</td><td>-0.09793253536452666</td><td>7</td><td>Low</td></tr><tr><td>American Airlines Inc.</td><td>2020</td><td>12</td><td>-1.0865834633385336</td><td>8</td><td>Low</td></tr><tr><td>PSA Airlines Inc.</td><td>2020</td><td>12</td><td>-3.71313672922252</td><td>9</td><td>Low</td></tr><tr><td>Endeavor Air Inc.</td><td>2020</td><td>12</td><td>-4.211274060494959</td><td>10</td><td>Low</td></tr><tr><td>United Air Lines Inc.</td><td>2020</td><td>12</td><td>-4.317557251908397</td><td>11</td><td>Low</td></tr><tr><td>Hawaiian Airlines Inc.</td><td>2020</td><td>12</td><td>-4.598639455782313</td><td>12</td><td>Low</td></tr><tr><td>Southwest Airlines Co.</td><td>2020</td><td>12</td><td>-5.119318181818182</td><td>13</td><td>Low</td></tr><tr><td>Republic Airline</td><td>2020</td><td>12</td><td>-5.536918869644485</td><td>14</td><td>Low</td></tr><tr><td>Frontier Airlines Inc.</td><td>2020</td><td>12</td><td>-6.022546419098143</td><td>15</td><td>Low</td></tr><tr><td>Alaska Airlines Inc.</td><td>2020</td><td>12</td><td>-11.16196542311192</td><td>16</td><td>Low</td></tr><tr><td>Allegiant Air</td><td>2021</td><td>1</td><td>4.835740072202166</td><td>1</td><td>Low</td></tr><tr><td>JetBlue Airways</td><td>2021</td><td>1</td><td>3.68268156424581</td><td>2</td><td>Low</td></tr><tr><td>Envoy Air</td><td>2021</td><td>1</td><td>-0.21878393051031486</td><td>3</td><td>Low</td></tr><tr><td>PSA Airlines Inc.</td><td>2021</td><td>1</td><td>-1.4515077424612877</td><td>4</td><td>Low</td></tr><tr><td>Mesa Airlines Inc.</td><td>2021</td><td>1</td><td>-3.4561904761904763</td><td>5</td><td>Low</td></tr><tr><td>Delta Air Lines Inc.</td><td>2021</td><td>1</td><td>-4.1113161131611315</td><td>6</td><td>Low</td></tr><tr><td>SkyWest Airlines Inc.</td><td>2021</td><td>1</td><td>-4.618280613235009</td><td>7</td><td>Low</td></tr><tr><td>Spirit Air Lines</td><td>2021</td><td>1</td><td>-5.036874451273047</td><td>8</td><td>Low</td></tr><tr><td>American Airlines Inc.</td><td>2021</td><td>1</td><td>-5.703846153846154</td><td>9</td><td>Low</td></tr><tr><td>United Air Lines Inc.</td><td>2021</td><td>1</td><td>-6.077846790890269</td><td>10</td><td>Low</td></tr><tr><td>Horizon Air</td><td>2021</td><td>1</td><td>-6.5234375</td><td>11</td><td>Low</td></tr><tr><td>Hawaiian Airlines Inc.</td><td>2021</td><td>1</td><td>-6.58282208588957</td><td>12</td><td>Low</td></tr><tr><td>Endeavor Air Inc.</td><td>2021</td><td>1</td><td>-6.944255937954435</td><td>13</td><td>Low</td></tr><tr><td>Southwest Airlines Co.</td><td>2021</td><td>1</td><td>-6.990355248352355</td><td>14</td><td>Low</td></tr><tr><td>Alaska Airlines Inc.</td><td>2021</td><td>1</td><td>-7.491340018231541</td><td>15</td><td>Low</td></tr><tr><td>Frontier Airlines Inc.</td><td>2021</td><td>1</td><td>-7.681281618887015</td><td>16</td><td>Low</td></tr><tr><td>Republic Airline</td><td>2021</td><td>1</td><td>-8.95774647887324</td><td>17</td><td>Low</td></tr><tr><td>JetBlue Airways</td><td>2021</td><td>2</td><td>11.646632124352331</td><td>1</td><td>Medium</td></tr><tr><td>Envoy Air</td><td>2021</td><td>2</td><td>8.277027027027026</td><td>2</td><td>Low</td></tr><tr><td>SkyWest Airlines Inc.</td><td>2021</td><td>2</td><td>6.368281938325991</td><td>3</td><td>Low</td></tr><tr><td>Allegiant Air</td><td>2021</td><td>2</td><td>5.218085106382978</td><td>4</td><td>Low</td></tr><tr><td>Horizon Air</td><td>2021</td><td>2</td><td>4.271052631578947</td><td>5</td><td>Low</td></tr><tr><td>Mesa Airlines Inc.</td><td>2021</td><td>2</td><td>3.529723991507431</td><td>6</td><td>Low</td></tr><tr><td>Frontier Airlines Inc.</td><td>2021</td><td>2</td><td>1.6161764705882353</td><td>7</td><td>Low</td></tr><tr><td>Republic Airline</td><td>2021</td><td>2</td><td>0.9902813299232737</td><td>8</td><td>Low</td></tr><tr><td>Spirit Air Lines</td><td>2021</td><td>2</td><td>0.8878695208970439</td><td>9</td><td>Low</td></tr><tr><td>Alaska Airlines Inc.</td><td>2021</td><td>2</td><td>0.7520288548241659</td><td>10</td><td>Low</td></tr><tr><td>American Airlines Inc.</td><td>2021</td><td>2</td><td>-0.622895622895623</td><td>11</td><td>Low</td></tr><tr><td>United Air Lines Inc.</td><td>2021</td><td>2</td><td>-2.3781474820143886</td><td>12</td><td>Low</td></tr><tr><td>Southwest Airlines Co.</td><td>2021</td><td>2</td><td>-2.625842008573178</td><td>13</td><td>Low</td></tr><tr><td>PSA Airlines Inc.</td><td>2021</td><td>2</td><td>-3.2534364261168385</td><td>14</td><td>Low</td></tr><tr><td>Delta Air Lines Inc.</td><td>2021</td><td>2</td><td>-4.100661625708884</td><td>15</td><td>Low</td></tr><tr><td>Endeavor Air Inc.</td><td>2021</td><td>2</td><td>-6.044585987261146</td><td>16</td><td>Low</td></tr><tr><td>Hawaiian Airlines Inc.</td><td>2021</td><td>2</td><td>-6.1992481203007515</td><td>17</td><td>Low</td></tr><tr><td>Allegiant Air</td><td>2021</td><td>3</td><td>1.3707317073170733</td><td>1</td><td>Low</td></tr><tr><td>Spirit Air Lines</td><td>2021</td><td>3</td><td>0.3514467184191955</td><td>2</td><td>Low</td></tr><tr><td>Hawaiian Airlines Inc.</td><td>2021</td><td>3</td><td>-0.24629080118694363</td><td>3</td><td>Low</td></tr><tr><td>Horizon Air</td><td>2021</td><td>3</td><td>-1.2222222222222223</td><td>4</td><td>Low</td></tr><tr><td>Southwest Airlines Co.</td><td>2021</td><td>3</td><td>-2.337223739756643</td><td>5</td><td>Low</td></tr><tr><td>Envoy Air</td><td>2021</td><td>3</td><td>-3.6917670682730925</td><td>6</td><td>Low</td></tr><tr><td>Alaska Airlines Inc.</td><td>2021</td><td>3</td><td>-3.9167249825052486</td><td>7</td><td>Low</td></tr><tr><td>SkyWest Airlines Inc.</td><td>2021</td><td>3</td><td>-4.060669456066946</td><td>8</td><td>Low</td></tr><tr><td>Mesa Airlines Inc.</td><td>2021</td><td>3</td><td>-4.240369799691834</td><td>9</td><td>Low</td></tr><tr><td>Frontier Airlines Inc.</td><td>2021</td><td>3</td><td>-4.746108949416342</td><td>10</td><td>Low</td></tr><tr><td>United Air Lines Inc.</td><td>2021</td><td>3</td><td>-5.293914246196404</td><td>11</td><td>Low</td></tr><tr><td>PSA Airlines Inc.</td><td>2021</td><td>3</td><td>-5.495061728395061</td><td>12</td><td>Low</td></tr><tr><td>American Airlines Inc.</td><td>2021</td><td>3</td><td>-5.932106598984771</td><td>13</td><td>Low</td></tr><tr><td>JetBlue Airways</td><td>2021</td><td>3</td><td>-6.913922155688622</td><td>14</td><td>Low</td></tr><tr><td>Delta Air Lines Inc.</td><td>2021</td><td>3</td><td>-7.105888612983327</td><td>15</td><td>Low</td></tr><tr><td>Republic Airline</td><td>2021</td><td>3</td><td>-7.238532110091743</td><td>16</td><td>Low</td></tr><tr><td>Endeavor Air Inc.</td><td>2021</td><td>3</td><td>-10.677667269439421</td><td>17</td><td>Low</td></tr><tr><td>Allegiant Air</td><td>2021</td><td>4</td><td>10.849740932642487</td><td>1</td><td>Medium</td></tr><tr><td>Spirit Air Lines</td><td>2021</td><td>4</td><td>9.537190082644628</td><td>2</td><td>Low</td></tr><tr><td>Frontier Airlines Inc.</td><td>2021</td><td>4</td><td>4.333933393339334</td><td>3</td><td>Low</td></tr><tr><td>Mesa Airlines Inc.</td><td>2021</td><td>4</td><td>1.7867820613690009</td><td>4</td><td>Low</td></tr><tr><td>JetBlue Airways</td><td>2021</td><td>4</td><td>0.05012531328320802</td><td>5</td><td>Low</td></tr><tr><td>Envoy Air</td><td>2021</td><td>4</td><td>-1.8872802481902793</td><td>6</td><td>Low</td></tr><tr><td>Hawaiian Airlines Inc.</td><td>2021</td><td>4</td><td>-3.101736972704715</td><td>7</td><td>Low</td></tr><tr><td>United Air Lines Inc.</td><td>2021</td><td>4</td><td>-3.2431289640591965</td><td>8</td><td>Low</td></tr><tr><td>Southwest Airlines Co.</td><td>2021</td><td>4</td><td>-3.281790820165538</td><td>9</td><td>Low</td></tr><tr><td>Horizon Air</td><td>2021</td><td>4</td><td>-3.669</td><td>10</td><td>Low</td></tr><tr><td>Alaska Airlines Inc.</td><td>2021</td><td>4</td><td>-4.156741957563312</td><td>11</td><td>Low</td></tr><tr><td>Delta Air Lines Inc.</td><td>2021</td><td>4</td><td>-4.621353979114152</td><td>12</td><td>Low</td></tr><tr><td>American Airlines Inc.</td><td>2021</td><td>4</td><td>-5.043224957714715</td><td>13</td><td>Low</td></tr><tr><td>SkyWest Airlines Inc.</td><td>2021</td><td>4</td><td>-6.139137931034483</td><td>14</td><td>Low</td></tr><tr><td>Republic Airline</td><td>2021</td><td>4</td><td>-7.354933726067746</td><td>15</td><td>Low</td></tr><tr><td>PSA Airlines Inc.</td><td>2021</td><td>4</td><td>-7.848582129481006</td><td>16</td><td>Low</td></tr><tr><td>Endeavor Air Inc.</td><td>2021</td><td>4</td><td>-13.001381851681252</td><td>17</td><td>Low</td></tr><tr><td>Mesa Airlines Inc.</td><td>2021</td><td>5</td><td>9.361370716510903</td><td>1</td><td>Low</td></tr><tr><td>Allegiant Air</td><td>2021</td><td>5</td><td>9.161538461538461</td><td>2</td><td>Low</td></tr><tr><td>Envoy Air</td><td>2021</td><td>5</td><td>3.513744075829384</td><td>3</td><td>Low</td></tr><tr><td>Southwest Airlines Co.</td><td>2021</td><td>5</td><td>2.672824116047144</td><td>4</td><td>Low</td></tr><tr><td>Spirit Air Lines</td><td>2021</td><td>5</td><td>2.6211683053788315</td><td>5</td><td>Low</td></tr><tr><td>JetBlue Airways</td><td>2021</td><td>5</td><td>1.2390829694323144</td><td>6</td><td>Low</td></tr><tr><td>American Airlines Inc.</td><td>2021</td><td>5</td><td>0.6695992179863147</td><td>7</td><td>Low</td></tr><tr><td>Hawaiian Airlines Inc.</td><td>2021</td><td>5</td><td>-1.4848484848484849</td><td>8</td><td>Low</td></tr><tr><td>SkyWest Airlines Inc.</td><td>2021</td><td>5</td><td>-1.600227420402859</td><td>9</td><td>Low</td></tr><tr><td>Horizon Air</td><td>2021</td><td>5</td><td>-1.6596596596596596</td><td>10</td><td>Low</td></tr><tr><td>PSA Airlines Inc.</td><td>2021</td><td>5</td><td>-1.7220095693779904</td><td>11</td><td>Low</td></tr><tr><td>Frontier Airlines Inc.</td><td>2021</td><td>5</td><td>-2.077932731747334</td><td>12</td><td>Low</td></tr><tr><td>United Air Lines Inc.</td><td>2021</td><td>5</td><td>-2.4359974009096814</td><td>13</td><td>Low</td></tr><tr><td>Delta Air Lines Inc.</td><td>2021</td><td>5</td><td>-3.1382743362831858</td><td>14</td><td>Low</td></tr><tr><td>Alaska Airlines Inc.</td><td>2021</td><td>5</td><td>-4.605744125326371</td><td>15</td><td>Low</td></tr><tr><td>Endeavor Air Inc.</td><td>2021</td><td>5</td><td>-5.9250732524068646</td><td>16</td><td>Low</td></tr><tr><td>Republic Airline</td><td>2021</td><td>5</td><td>-6.706079946254619</td><td>17</td><td>Low</td></tr><tr><td>Allegiant Air</td><td>2021</td><td>6</td><td>29.55870108243131</td><td>1</td><td>High</td></tr><tr><td>Mesa Airlines Inc.</td><td>2021</td><td>6</td><td>21.735543018335683</td><td>2</td><td>High</td></tr><tr><td>JetBlue Airways</td><td>2021</td><td>6</td><td>19.778474399164054</td><td>3</td><td>Medium</td></tr><tr><td>Southwest Airlines Co.</td><td>2021</td><td>6</td><td>18.223111658456485</td><td>4</td><td>Medium</td></tr><tr><td>Frontier Airlines Inc.</td><td>2021</td><td>6</td><td>13.303265940902023</td><td>5</td><td>Medium</td></tr><tr><td>American Airlines Inc.</td><td>2021</td><td>6</td><td>13.094836363636364</td><td>6</td><td>Medium</td></tr><tr><td>Spirit Air Lines</td><td>2021</td><td>6</td><td>11.962252475247524</td><td>7</td><td>Medium</td></tr><tr><td>United Air Lines Inc.</td><td>2021</td><td>6</td><td>10.503452085059376</td><td>8</td><td>Medium</td></tr><tr><td>Republic Airline</td><td>2021</td><td>6</td><td>9.518132975151108</td><td>9</td><td>Low</td></tr><tr><td>SkyWest Airlines Inc.</td><td>2021</td><td>6</td><td>9.400916211024088</td><td>10</td><td>Low</td></tr><tr><td>PSA Airlines Inc.</td><td>2021</td><td>6</td><td>5.603590490053372</td><td>11</td><td>Low</td></tr><tr><td>Envoy Air</td><td>2021</td><td>6</td><td>5.586730268863834</td><td>12</td><td>Low</td></tr><tr><td>Alaska Airlines Inc.</td><td>2021</td><td>6</td><td>3.9874626865671643</td><td>13</td><td>Low</td></tr><tr><td>Horizon Air</td><td>2021</td><td>6</td><td>1.9048067860508955</td><td>14</td><td>Low</td></tr><tr><td>Hawaiian Airlines Inc.</td><td>2021</td><td>6</td><td>0.835820895522388</td><td>15</td><td>Low</td></tr><tr><td>Delta Air Lines Inc.</td><td>2021</td><td>6</td><td>-0.32762539778754357</td><td>16</td><td>Low</td></tr><tr><td>Endeavor Air Inc.</td><td>2021</td><td>6</td><td>-2.8887171561051006</td><td>17</td><td>Low</td></tr><tr><td>JetBlue Airways</td><td>2021</td><td>7</td><td>33.76579739217653</td><td>1</td><td>High</td></tr><tr><td>Allegiant Air</td><td>2021</td><td>7</td><td>31.3587842846553</td><td>2</td><td>High</td></tr><tr><td>Mesa Airlines Inc.</td><td>2021</td><td>7</td><td>24.469895287958114</td><td>3</td><td>High</td></tr><tr><td>Frontier Airlines Inc.</td><td>2021</td><td>7</td><td>24.112191473448018</td><td>4</td><td>High</td></tr><tr><td>Spirit Air Lines</td><td>2021</td><td>7</td><td>21.1605</td><td>5</td><td>High</td></tr><tr><td>United Air Lines Inc.</td><td>2021</td><td>7</td><td>15.240793201133144</td><td>6</td><td>Medium</td></tr><tr><td>SkyWest Airlines Inc.</td><td>2021</td><td>7</td><td>13.451995097371647</td><td>7</td><td>Medium</td></tr><tr><td>Southwest Airlines Co.</td><td>2021</td><td>7</td><td>12.92064105039583</td><td>8</td><td>Medium</td></tr><tr><td>American Airlines Inc.</td><td>2021</td><td>7</td><td>12.342398022249691</td><td>9</td><td>Medium</td></tr><tr><td>Republic Airline</td><td>2021</td><td>7</td><td>10.555417185554171</td><td>10</td><td>Medium</td></tr><tr><td>PSA Airlines Inc.</td><td>2021</td><td>7</td><td>8.578066914498141</td><td>11</td><td>Low</td></tr><tr><td>Envoy Air</td><td>2021</td><td>7</td><td>6.290229885057471</td><td>12</td><td>Low</td></tr><tr><td>Alaska Airlines Inc.</td><td>2021</td><td>7</td><td>2.722606689734717</td><td>13</td><td>Low</td></tr><tr><td>Delta Air Lines Inc.</td><td>2021</td><td>7</td><td>2.302456140350877</td><td>14</td><td>Low</td></tr><tr><td>Horizon Air</td><td>2021</td><td>7</td><td>0.7839607201309329</td><td>15</td><td>Low</td></tr><tr><td>Hawaiian Airlines Inc.</td><td>2021</td><td>7</td><td>0.16993464052287582</td><td>16</td><td>Low</td></tr><tr><td>Endeavor Air Inc.</td><td>2021</td><td>7</td><td>-2.9734001542020048</td><td>17</td><td>Low</td></tr><tr><td>JetBlue Airways</td><td>2021</td><td>8</td><td>17.95024154589372</td><td>1</td><td>Medium</td></tr><tr><td>Allegiant Air</td><td>2021</td><td>8</td><td>17.640776699029125</td><td>2</td><td>Medium</td></tr><tr><td>Mesa Airlines Inc.</td><td>2021</td><td>8</td><td>16.839058524173026</td><td>3</td><td>Medium</td></tr><tr><td>Frontier Airlines Inc.</td><td>2021</td><td>8</td><td>15.343522561863173</td><td>4</td><td>Medium</td></tr><tr><td>Spirit Air Lines</td><td>2021</td><td>8</td><td>12.587464387464388</td><td>5</td><td>Medium</td></tr><tr><td>SkyWest Airlines Inc.</td><td>2021</td><td>8</td><td>12.200278940027895</td><td>6</td><td>Medium</td></tr><tr><td>Southwest Airlines Co.</td><td>2021</td><td>8</td><td>12.019697263729865</td><td>7</td><td>Medium</td></tr><tr><td>United Air Lines Inc.</td><td>2021</td><td>8</td><td>11.540780141843971</td><td>8</td><td>Medium</td></tr><tr><td>Republic Airline</td><td>2021</td><td>8</td><td>10.304222648752399</td><td>9</td><td>Medium</td></tr><tr><td>American Airlines Inc.</td><td>2021</td><td>8</td><td>9.177808792742498</td><td>10</td><td>Low</td></tr><tr><td>PSA Airlines Inc.</td><td>2021</td><td>8</td><td>9.002838221381268</td><td>11</td><td>Low</td></tr><tr><td>Envoy Air</td><td>2021</td><td>8</td><td>5.879692832764505</td><td>12</td><td>Low</td></tr><tr><td>Alaska Airlines Inc.</td><td>2021</td><td>8</td><td>3.818773738469886</td><td>13</td><td>Low</td></tr><tr><td>Horizon Air</td><td>2021</td><td>8</td><td>2.855421686746988</td><td>14</td><td>Low</td></tr><tr><td>Delta Air Lines Inc.</td><td>2021</td><td>8</td><td>0.845423632757155</td><td>15</td><td>Low</td></tr><tr><td>Endeavor Air Inc.</td><td>2021</td><td>8</td><td>-1.5227568270481144</td><td>16</td><td>Low</td></tr><tr><td>Hawaiian Airlines Inc.</td><td>2021</td><td>8</td><td>-2.0197268588770867</td><td>17</td><td>Low</td></tr><tr><td>Allegiant Air</td><td>2021</td><td>9</td><td>13.957290132547865</td><td>1</td><td>Medium</td></tr><tr><td>JetBlue Airways</td><td>2021</td><td>9</td><td>6.242356864924958</td><td>2</td><td>Low</td></tr><tr><td>Frontier Airlines Inc.</td><td>2021</td><td>9</td><td>3.555993690851735</td><td>3</td><td>Low</td></tr><tr><td>Spirit Air Lines</td><td>2021</td><td>9</td><td>2.6642212189616252</td><td>4</td><td>Low</td></tr><tr><td>SkyWest Airlines Inc.</td><td>2021</td><td>9</td><td>2.457856093979442</td><td>5</td><td>Low</td></tr><tr><td>Southwest Airlines Co.</td><td>2021</td><td>9</td><td>2.1200535861500414</td><td>6</td><td>Low</td></tr><tr><td>PSA Airlines Inc.</td><td>2021</td><td>9</td><td>0.7032457496136012</td><td>7</td><td>Low</td></tr><tr><td>United Air Lines Inc.</td><td>2021</td><td>9</td><td>0.5091030195381883</td><td>8</td><td>Low</td></tr><tr><td>Horizon Air</td><td>2021</td><td>9</td><td>-0.6684210526315789</td><td>9</td><td>Low</td></tr><tr><td>Mesa Airlines Inc.</td><td>2021</td><td>9</td><td>-0.6748423265592152</td><td>10</td><td>Low</td></tr><tr><td>American Airlines Inc.</td><td>2021</td><td>9</td><td>-0.8675457875457876</td><td>11</td><td>Low</td></tr><tr><td>Delta Air Lines Inc.</td><td>2021</td><td>9</td><td>-1.4616398243045388</td><td>12</td><td>Low</td></tr><tr><td>Hawaiian Airlines Inc.</td><td>2021</td><td>9</td><td>-2.420221169036335</td><td>13</td><td>Low</td></tr><tr><td>Republic Airline</td><td>2021</td><td>9</td><td>-2.5082022095748244</td><td>14</td><td>Low</td></tr><tr><td>Alaska Airlines Inc.</td><td>2021</td><td>9</td><td>-2.597380410022779</td><td>15</td><td>Low</td></tr><tr><td>Envoy Air</td><td>2021</td><td>9</td><td>-3.1873001370488807</td><td>16</td><td>Low</td></tr><tr><td>Endeavor Air Inc.</td><td>2021</td><td>9</td><td>-4.48792270531401</td><td>17</td><td>Low</td></tr><tr><td>Allegiant Air</td><td>2021</td><td>10</td><td>18.10301768990635</td><td>1</td><td>Medium</td></tr><tr><td>Southwest Airlines Co.</td><td>2021</td><td>10</td><td>10.400732383214569</td><td>2</td><td>Medium</td></tr><tr><td>Mesa Airlines Inc.</td><td>2021</td><td>10</td><td>8.655294953802416</td><td>3</td><td>Low</td></tr><tr><td>SkyWest Airlines Inc.</td><td>2021</td><td>10</td><td>8.128835247927876</td><td>4</td><td>Low</td></tr><tr><td>Frontier Airlines Inc.</td><td>2021</td><td>10</td><td>5.008116883116883</td><td>5</td><td>Low</td></tr><tr><td>American Airlines Inc.</td><td>2021</td><td>10</td><td>4.541104642907852</td><td>6</td><td>Low</td></tr><tr><td>JetBlue Airways</td><td>2021</td><td>10</td><td>4.5383033419023135</td><td>7</td><td>Low</td></tr><tr><td>Spirit Air Lines</td><td>2021</td><td>10</td><td>2.085681426106958</td><td>8</td><td>Low</td></tr><tr><td>Envoy Air</td><td>2021</td><td>10</td><td>0.5410928476232786</td><td>9</td><td>Low</td></tr><tr><td>Alaska Airlines Inc.</td><td>2021</td><td>10</td><td>0.11123658949745906</td><td>10</td><td>Low</td></tr><tr><td>Delta Air Lines Inc.</td><td>2021</td><td>10</td><td>0.005661419497376415</td><td>11</td><td>Low</td></tr><tr><td>Horizon Air</td><td>2021</td><td>10</td><td>-0.3764861294583884</td><td>12</td><td>Low</td></tr><tr><td>United Air Lines Inc.</td><td>2021</td><td>10</td><td>-0.6894891122278057</td><td>13</td><td>Low</td></tr><tr><td>PSA Airlines Inc.</td><td>2021</td><td>10</td><td>-1.5223148602256007</td><td>14</td><td>Low</td></tr><tr><td>Republic Airline</td><td>2021</td><td>10</td><td>-2.523505708529214</td><td>15</td><td>Low</td></tr><tr><td>Hawaiian Airlines Inc.</td><td>2021</td><td>10</td><td>-2.61340206185567</td><td>16</td><td>Low</td></tr><tr><td>Endeavor Air Inc.</td><td>2021</td><td>10</td><td>-3.063296341964653</td><td>17</td><td>Low</td></tr><tr><td>Allegiant Air</td><td>2021</td><td>11</td><td>14.830734966592427</td><td>1</td><td>Medium</td></tr><tr><td>Mesa Airlines Inc.</td><td>2021</td><td>11</td><td>8.4996138996139</td><td>2</td><td>Low</td></tr><tr><td>JetBlue Airways</td><td>2021</td><td>11</td><td>4.5547150781643975</td><td>3</td><td>Low</td></tr><tr><td>Frontier Airlines Inc.</td><td>2021</td><td>11</td><td>3.9750378214826023</td><td>4</td><td>Low</td></tr><tr><td>Spirit Air Lines</td><td>2021</td><td>11</td><td>3.228948816730875</td><td>5</td><td>Low</td></tr><tr><td>SkyWest Airlines Inc.</td><td>2021</td><td>11</td><td>2.0354116222760292</td><td>6</td><td>Low</td></tr><tr><td>Southwest Airlines Co.</td><td>2021</td><td>11</td><td>1.6709978682367272</td><td>7</td><td>Low</td></tr><tr><td>Alaska Airlines Inc.</td><td>2021</td><td>11</td><td>1.2183381088825216</td><td>8</td><td>Low</td></tr><tr><td>American Airlines Inc.</td><td>2021</td><td>11</td><td>0.7</td><td>9</td><td>Low</td></tr><tr><td>PSA Airlines Inc.</td><td>2021</td><td>11</td><td>0.09140586189766518</td><td>10</td><td>Low</td></tr><tr><td>Horizon Air</td><td>2021</td><td>11</td><td>-0.6405405405405405</td><td>11</td><td>Low</td></tr><tr><td>United Air Lines Inc.</td><td>2021</td><td>11</td><td>-0.9578464106844741</td><td>12</td><td>Low</td></tr><tr><td>Republic Airline</td><td>2021</td><td>11</td><td>-1.8915881073241478</td><td>13</td><td>Low</td></tr><tr><td>Envoy Air</td><td>2021</td><td>11</td><td>-2.195831524099001</td><td>14</td><td>Low</td></tr><tr><td>Hawaiian Airlines Inc.</td><td>2021</td><td>11</td><td>-2.596345514950166</td><td>15</td><td>Low</td></tr><tr><td>Delta Air Lines Inc.</td><td>2021</td><td>11</td><td>-2.7836313617606603</td><td>16</td><td>Low</td></tr><tr><td>Endeavor Air Inc.</td><td>2021</td><td>11</td><td>-4.792153199439515</td><td>17</td><td>Low</td></tr><tr><td>Allegiant Air</td><td>2021</td><td>12</td><td>19.35152151101784</td><td>1</td><td>Medium</td></tr><tr><td>JetBlue Airways</td><td>2021</td><td>12</td><td>17.8197729422895</td><td>2</td><td>Medium</td></tr><tr><td>Horizon Air</td><td>2021</td><td>12</td><td>13.731283422459892</td><td>3</td><td>Medium</td></tr><tr><td>Alaska Airlines Inc.</td><td>2021</td><td>12</td><td>13.282428115015975</td><td>4</td><td>Medium</td></tr><tr><td>Frontier Airlines Inc.</td><td>2021</td><td>12</td><td>12.244477172312223</td><td>5</td><td>Medium</td></tr><tr><td>SkyWest Airlines Inc.</td><td>2021</td><td>12</td><td>11.784986679203886</td><td>6</td><td>Medium</td></tr><tr><td>Southwest Airlines Co.</td><td>2021</td><td>12</td><td>9.03713768115942</td><td>7</td><td>Low</td></tr><tr><td>United Air Lines Inc.</td><td>2021</td><td>12</td><td>8.289644012944985</td><td>8</td><td>Low</td></tr><tr><td>Spirit Air Lines</td><td>2021</td><td>12</td><td>7.825</td><td>9</td><td>Low</td></tr><tr><td>Hawaiian Airlines Inc.</td><td>2021</td><td>12</td><td>7.627627627627628</td><td>10</td><td>Low</td></tr><tr><td>Mesa Airlines Inc.</td><td>2021</td><td>12</td><td>7.5542071197411005</td><td>11</td><td>Low</td></tr><tr><td>Delta Air Lines Inc.</td><td>2021</td><td>12</td><td>5.453949285922471</td><td>12</td><td>Low</td></tr><tr><td>PSA Airlines Inc.</td><td>2021</td><td>12</td><td>1.6184084372003835</td><td>13</td><td>Low</td></tr><tr><td>American Airlines Inc.</td><td>2021</td><td>12</td><td>0.819955715471907</td><td>14</td><td>Low</td></tr><tr><td>Envoy Air</td><td>2021</td><td>12</td><td>-0.5368869936034115</td><td>15</td><td>Low</td></tr><tr><td>Republic Airline</td><td>2021</td><td>12</td><td>-0.9402560455192034</td><td>16</td><td>Low</td></tr><tr><td>Endeavor Air Inc.</td><td>2021</td><td>12</td><td>-3.340634778721502</td><td>17</td><td>Low</td></tr><tr><td>JetBlue Airways</td><td>2022</td><td>1</td><td>17.998471726948548</td><td>1</td><td>Medium</td></tr><tr><td>Allegiant Air</td><td>2022</td><td>1</td><td>11.220663265306122</td><td>2</td><td>Medium</td></tr><tr><td>Horizon Air</td><td>2022</td><td>1</td><td>10.324468085106384</td><td>3</td><td>Medium</td></tr><tr><td>PSA Airlines Inc.</td><td>2022</td><td>1</td><td>10.107433532284318</td><td>4</td><td>Medium</td></tr><tr><td>Mesa Airlines Inc.</td><td>2022</td><td>1</td><td>9.740963855421686</td><td>5</td><td>Low</td></tr><tr><td>Frontier Airlines Inc.</td><td>2022</td><td>1</td><td>8.452181208053691</td><td>6</td><td>Low</td></tr><tr><td>Hawaiian Airlines Inc.</td><td>2022</td><td>1</td><td>8.208406304728546</td><td>7</td><td>Low</td></tr><tr><td>Spirit Air Lines</td><td>2022</td><td>1</td><td>8.125979505726342</td><td>8</td><td>Low</td></tr><tr><td>SkyWest Airlines Inc.</td><td>2022</td><td>1</td><td>7.11485348602223</td><td>9</td><td>Low</td></tr><tr><td>Alaska Airlines Inc.</td><td>2022</td><td>1</td><td>5.873362445414847</td><td>10</td><td>Low</td></tr><tr><td>United Air Lines Inc.</td><td>2022</td><td>1</td><td>5.084269662921348</td><td>11</td><td>Low</td></tr><tr><td>Republic Airline</td><td>2022</td><td>1</td><td>4.685894903200316</td><td>12</td><td>Low</td></tr><tr><td>Endeavor Air Inc.</td><td>2022</td><td>1</td><td>2.236009732360097</td><td>13</td><td>Low</td></tr><tr><td>Southwest Airlines Co.</td><td>2022</td><td>1</td><td>2.127373586515895</td><td>14</td><td>Low</td></tr><tr><td>American Airlines Inc.</td><td>2022</td><td>1</td><td>-0.7295673076923077</td><td>15</td><td>Low</td></tr><tr><td>Delta Air Lines Inc.</td><td>2022</td><td>1</td><td>-0.9499852897911151</td><td>16</td><td>Low</td></tr><tr><td>Envoy Air</td><td>2022</td><td>1</td><td>-1.5591743119266055</td><td>17</td><td>Low</td></tr><tr><td>JetBlue Airways</td><td>2022</td><td>2</td><td>20.571787148594378</td><td>1</td><td>High</td></tr><tr><td>Allegiant Air</td><td>2022</td><td>2</td><td>13.890330188679245</td><td>2</td><td>Medium</td></tr><tr><td>Spirit Air Lines</td><td>2022</td><td>2</td><td>13.432464454976303</td><td>3</td><td>Medium</td></tr><tr><td>Frontier Airlines Inc.</td><td>2022</td><td>2</td><td>12.466417910447761</td><td>4</td><td>Medium</td></tr><tr><td>Mesa Airlines Inc.</td><td>2022</td><td>2</td><td>9.141630901287554</td><td>5</td><td>Low</td></tr><tr><td>American Airlines Inc.</td><td>2022</td><td>2</td><td>8.747730220492866</td><td>6</td><td>Low</td></tr><tr><td>PSA Airlines Inc.</td><td>2022</td><td>2</td><td>7.975789473684211</td><td>7</td><td>Low</td></tr><tr><td>SkyWest Airlines Inc.</td><td>2022</td><td>2</td><td>6.536321195144724</td><td>8</td><td>Low</td></tr><tr><td>Republic Airline</td><td>2022</td><td>2</td><td>5.548539518900344</td><td>9</td><td>Low</td></tr><tr><td>United Air Lines Inc.</td><td>2022</td><td>2</td><td>2.8704472106961734</td><td>10</td><td>Low</td></tr><tr><td>Endeavor Air Inc.</td><td>2022</td><td>2</td><td>1.6042345276872965</td><td>11</td><td>Low</td></tr><tr><td>Horizon Air</td><td>2022</td><td>2</td><td>1.5106382978723405</td><td>12</td><td>Low</td></tr><tr><td>Envoy Air</td><td>2022</td><td>2</td><td>1.2982180293501049</td><td>13</td><td>Low</td></tr><tr><td>Southwest Airlines Co.</td><td>2022</td><td>2</td><td>-0.1911929903392496</td><td>14</td><td>Low</td></tr><tr><td>Alaska Airlines Inc.</td><td>2022</td><td>2</td><td>-0.4269230769230769</td><td>15</td><td>Low</td></tr><tr><td>Hawaiian Airlines Inc.</td><td>2022</td><td>2</td><td>-0.6063157894736843</td><td>16</td><td>Low</td></tr><tr><td>Delta Air Lines Inc.</td><td>2022</td><td>2</td><td>-1.3037994639760366</td><td>17</td><td>Low</td></tr><tr><td>Frontier Airlines Inc.</td><td>2022</td><td>3</td><td>26.564437194127244</td><td>1</td><td>High</td></tr><tr><td>Allegiant Air</td><td>2022</td><td>3</td><td>20.870547350130323</td><td>2</td><td>High</td></tr><tr><td>JetBlue Airways</td><td>2022</td><td>3</td><td>19.283595113438047</td><td>3</td><td>Medium</td></tr><tr><td>Spirit Air Lines</td><td>2022</td><td>3</td><td>17.25232678386763</td><td>4</td><td>Medium</td></tr><tr><td>Southwest Airlines Co.</td><td>2022</td><td>3</td><td>8.556962025316455</td><td>5</td><td>Low</td></tr><tr><td>PSA Airlines Inc.</td><td>2022</td><td>3</td><td>7.8173515981735155</td><td>6</td><td>Low</td></tr><tr><td>Republic Airline</td><td>2022</td><td>3</td><td>6.952557200538358</td><td>7</td><td>Low</td></tr><tr><td>Endeavor Air Inc.</td><td>2022</td><td>3</td><td>5.651764705882353</td><td>8</td><td>Low</td></tr><tr><td>American Airlines Inc.</td><td>2022</td><td>3</td><td>5.415493938971715</td><td>9</td><td>Low</td></tr><tr><td>United Air Lines Inc.</td><td>2022</td><td>3</td><td>5.297673531655225</td><td>10</td><td>Low</td></tr><tr><td>Delta Air Lines Inc.</td><td>2022</td><td>3</td><td>5.047055695866011</td><td>11</td><td>Low</td></tr><tr><td>SkyWest Airlines Inc.</td><td>2022</td><td>3</td><td>4.5456168831168835</td><td>12</td><td>Low</td></tr><tr><td>Hawaiian Airlines Inc.</td><td>2022</td><td>3</td><td>4.4139693356047704</td><td>13</td><td>Low</td></tr><tr><td>Mesa Airlines Inc.</td><td>2022</td><td>3</td><td>3.406798245614035</td><td>14</td><td>Low</td></tr><tr><td>Horizon Air</td><td>2022</td><td>3</td><td>1.7474489795918366</td><td>15</td><td>Low</td></tr><tr><td>Alaska Airlines Inc.</td><td>2022</td><td>3</td><td>0.8412127440904419</td><td>16</td><td>Low</td></tr><tr><td>Envoy Air</td><td>2022</td><td>3</td><td>0.1487935656836461</td><td>17</td><td>Low</td></tr><tr><td>JetBlue Airways</td><td>2022</td><td>4</td><td>30.143116765106768</td><td>1</td><td>High</td></tr><tr><td>Frontier Airlines Inc.</td><td>2022</td><td>4</td><td>25.616426756985604</td><td>2</td><td>High</td></tr><tr><td>Allegiant Air</td><td>2022</td><td>4</td><td>23.84976076555024</td><td>3</td><td>High</td></tr><tr><td>Spirit Air Lines</td><td>2022</td><td>4</td><td>22.361359570661897</td><td>4</td><td>High</td></tr><tr><td>Southwest Airlines Co.</td><td>2022</td><td>4</td><td>11.142898355611116</td><td>5</td><td>Medium</td></tr><tr><td>American Airlines Inc.</td><td>2022</td><td>4</td><td>8.090949488964597</td><td>6</td><td>Low</td></tr><tr><td>United Air Lines Inc.</td><td>2022</td><td>4</td><td>6.196454045241492</td><td>7</td><td>Low</td></tr><tr><td>Horizon Air</td><td>2022</td><td>4</td><td>5.993464052287582</td><td>8</td><td>Low</td></tr><tr><td>Alaska Airlines Inc.</td><td>2022</td><td>4</td><td>5.929741151611199</td><td>9</td><td>Low</td></tr><tr><td>SkyWest Airlines Inc.</td><td>2022</td><td>4</td><td>5.386755790455464</td><td>10</td><td>Low</td></tr><tr><td>Envoy Air</td><td>2022</td><td>4</td><td>4.5436115040075435</td><td>11</td><td>Low</td></tr><tr><td>Hawaiian Airlines Inc.</td><td>2022</td><td>4</td><td>3.779050736497545</td><td>12</td><td>Low</td></tr><tr><td>Republic Airline</td><td>2022</td><td>4</td><td>3.763690673747096</td><td>13</td><td>Low</td></tr><tr><td>Delta Air Lines Inc.</td><td>2022</td><td>4</td><td>3.578570463450885</td><td>14</td><td>Low</td></tr><tr><td>PSA Airlines Inc.</td><td>2022</td><td>4</td><td>2.919372294372294</td><td>15</td><td>Low</td></tr><tr><td>Mesa Airlines Inc.</td><td>2022</td><td>4</td><td>2.664085188770571</td><td>16</td><td>Low</td></tr><tr><td>Endeavor Air Inc.</td><td>2022</td><td>4</td><td>0.4302612124199113</td><td>17</td><td>Low</td></tr><tr><td>Frontier Airlines Inc.</td><td>2022</td><td>5</td><td>20.2048</td><td>1</td><td>High</td></tr><tr><td>Allegiant Air</td><td>2022</td><td>5</td><td>16.8191161356629</td><td>2</td><td>Medium</td></tr><tr><td>Spirit Air Lines</td><td>2022</td><td>5</td><td>14.325146823278164</td><td>3</td><td>Medium</td></tr><tr><td>JetBlue Airways</td><td>2022</td><td>5</td><td>11.951817413355874</td><td>4</td><td>Medium</td></tr><tr><td>Republic Airline</td><td>2022</td><td>5</td><td>11.878520529351883</td><td>5</td><td>Medium</td></tr><tr><td>United Air Lines Inc.</td><td>2022</td><td>5</td><td>9.289147577919639</td><td>6</td><td>Low</td></tr><tr><td>American Airlines Inc.</td><td>2022</td><td>5</td><td>8.348922902494332</td><td>7</td><td>Low</td></tr><tr><td>PSA Airlines Inc.</td><td>2022</td><td>5</td><td>8.241176470588234</td><td>8</td><td>Low</td></tr><tr><td>Southwest Airlines Co.</td><td>2022</td><td>5</td><td>5.552389705882353</td><td>9</td><td>Low</td></tr><tr><td>SkyWest Airlines Inc.</td><td>2022</td><td>5</td><td>5.506392358559882</td><td>10</td><td>Low</td></tr><tr><td>Mesa Airlines Inc.</td><td>2022</td><td>5</td><td>5.444878048780488</td><td>11</td><td>Low</td></tr><tr><td>Horizon Air</td><td>2022</td><td>5</td><td>4.645584725536993</td><td>12</td><td>Low</td></tr><tr><td>Delta Air Lines Inc.</td><td>2022</td><td>5</td><td>4.103249475890985</td><td>13</td><td>Low</td></tr><tr><td>Envoy Air</td><td>2022</td><td>5</td><td>3.237303370786517</td><td>14</td><td>Low</td></tr><tr><td>Endeavor Air Inc.</td><td>2022</td><td>5</td><td>2.7078986587183307</td><td>15</td><td>Low</td></tr><tr><td>Alaska Airlines Inc.</td><td>2022</td><td>5</td><td>2.5462487153134634</td><td>16</td><td>Low</td></tr><tr><td>Hawaiian Airlines Inc.</td><td>2022</td><td>5</td><td>1.3128654970760234</td><td>17</td><td>Low</td></tr><tr><td>JetBlue Airways</td><td>2022</td><td>6</td><td>25.322926829268294</td><td>1</td><td>High</td></tr><tr><td>Allegiant Air</td><td>2022</td><td>6</td><td>23.13835376532399</td><td>2</td><td>High</td></tr><tr><td>American Airlines Inc.</td><td>2022</td><td>6</td><td>18.848245737635622</td><td>3</td><td>Medium</td></tr><tr><td>Mesa Airlines Inc.</td><td>2022</td><td>6</td><td>17.048756218905474</td><td>4</td><td>Medium</td></tr><tr><td>Frontier Airlines Inc.</td><td>2022</td><td>6</td><td>16.01924619085806</td><td>5</td><td>Medium</td></tr><tr><td>PSA Airlines Inc.</td><td>2022</td><td>6</td><td>11.474352194606029</td><td>6</td><td>Medium</td></tr><tr><td>Republic Airline</td><td>2022</td><td>6</td><td>9.972794403420131</td><td>7</td><td>Low</td></tr><tr><td>Southwest Airlines Co.</td><td>2022</td><td>6</td><td>9.624617323969026</td><td>8</td><td>Low</td></tr><tr><td>United Air Lines Inc.</td><td>2022</td><td>6</td><td>9.519234449760766</td><td>9</td><td>Low</td></tr><tr><td>Endeavor Air Inc.</td><td>2022</td><td>6</td><td>9.16217672413793</td><td>10</td><td>Low</td></tr><tr><td>SkyWest Airlines Inc.</td><td>2022</td><td>6</td><td>8.198918444899153</td><td>11</td><td>Low</td></tr><tr><td>Spirit Air Lines</td><td>2022</td><td>6</td><td>7.6388125343595386</td><td>12</td><td>Low</td></tr><tr><td>Delta Air Lines Inc.</td><td>2022</td><td>6</td><td>7.0666753995284255</td><td>13</td><td>Low</td></tr><tr><td>Hawaiian Airlines Inc.</td><td>2022</td><td>6</td><td>5.783076923076923</td><td>14</td><td>Low</td></tr><tr><td>Horizon Air</td><td>2022</td><td>6</td><td>4.965217391304348</td><td>15</td><td>Low</td></tr><tr><td>Alaska Airlines Inc.</td><td>2022</td><td>6</td><td>4.323278029160382</td><td>16</td><td>Low</td></tr><tr><td>Envoy Air</td><td>2022</td><td>6</td><td>3.358293838862559</td><td>17</td><td>Low</td></tr><tr><td>Allegiant Air</td><td>2022</td><td>7</td><td>29.481927710843372</td><td>1</td><td>High</td></tr><tr><td>JetBlue Airways</td><td>2022</td><td>7</td><td>19.268207588312254</td><td>2</td><td>Medium</td></tr><tr><td>American Airlines Inc.</td><td>2022</td><td>7</td><td>17.3492020919941</td><td>3</td><td>Medium</td></tr><tr><td>Frontier Airlines Inc.</td><td>2022</td><td>7</td><td>13.300933125972007</td><td>4</td><td>Medium</td></tr><tr><td>Southwest Airlines Co.</td><td>2022</td><td>7</td><td>12.733010923038439</td><td>5</td><td>Medium</td></tr><tr><td>PSA Airlines Inc.</td><td>2022</td><td>7</td><td>11.63393810032017</td><td>6</td><td>Medium</td></tr><tr><td>Mesa Airlines Inc.</td><td>2022</td><td>7</td><td>9.48619957537155</td><td>7</td><td>Low</td></tr><tr><td>Republic Airline</td><td>2022</td><td>7</td><td>7.287978353304987</td><td>8</td><td>Low</td></tr><tr><td>United Air Lines Inc.</td><td>2022</td><td>7</td><td>6.668434075645104</td><td>9</td><td>Low</td></tr><tr><td>Endeavor Air Inc.</td><td>2022</td><td>7</td><td>5.889549281822685</td><td>10</td><td>Low</td></tr><tr><td>SkyWest Airlines Inc.</td><td>2022</td><td>7</td><td>5.711969696969697</td><td>11</td><td>Low</td></tr><tr><td>Hawaiian Airlines Inc.</td><td>2022</td><td>7</td><td>5.467391304347826</td><td>12</td><td>Low</td></tr><tr><td>Envoy Air</td><td>2022</td><td>7</td><td>5.355016032982134</td><td>13</td><td>Low</td></tr><tr><td>Delta Air Lines Inc.</td><td>2022</td><td>7</td><td>5.072069761477302</td><td>14</td><td>Low</td></tr><tr><td>Spirit Air Lines</td><td>2022</td><td>7</td><td>4.262487257900102</td><td>15</td><td>Low</td></tr><tr><td>Alaska Airlines Inc.</td><td>2022</td><td>7</td><td>1.463131313131313</td><td>16</td><td>Low</td></tr><tr><td>Horizon Air</td><td>2022</td><td>7</td><td>0.7865921787709497</td><td>17</td><td>Low</td></tr><tr><td>Allegiant Air</td><td>2022</td><td>8</td><td>18.831533477321813</td><td>1</td><td>Medium</td></tr><tr><td>Frontier Airlines Inc.</td><td>2022</td><td>8</td><td>17.73105497771174</td><td>2</td><td>Medium</td></tr><tr><td>JetBlue Airways</td><td>2022</td><td>8</td><td>16.87816387816388</td><td>3</td><td>Medium</td></tr><tr><td>Mesa Airlines Inc.</td><td>2022</td><td>8</td><td>14.769942196531792</td><td>4</td><td>Medium</td></tr><tr><td>American Airlines Inc.</td><td>2022</td><td>8</td><td>12.855244111067245</td><td>5</td><td>Medium</td></tr><tr><td>Southwest Airlines Co.</td><td>2022</td><td>8</td><td>12.685726459309757</td><td>6</td><td>Medium</td></tr><tr><td>United Air Lines Inc.</td><td>2022</td><td>8</td><td>7.258251722887196</td><td>7</td><td>Low</td></tr><tr><td>PSA Airlines Inc.</td><td>2022</td><td>8</td><td>7.255428571428571</td><td>8</td><td>Low</td></tr><tr><td>Hawaiian Airlines Inc.</td><td>2022</td><td>8</td><td>6.154761904761905</td><td>9</td><td>Low</td></tr><tr><td>Envoy Air</td><td>2022</td><td>8</td><td>5.626603325415677</td><td>10</td><td>Low</td></tr><tr><td>Republic Airline</td><td>2022</td><td>8</td><td>5.1451027811366385</td><td>11</td><td>Low</td></tr><tr><td>SkyWest Airlines Inc.</td><td>2022</td><td>8</td><td>4.917043505379698</td><td>12</td><td>Low</td></tr><tr><td>Spirit Air Lines</td><td>2022</td><td>8</td><td>3.696107784431138</td><td>13</td><td>Low</td></tr><tr><td>Delta Air Lines Inc.</td><td>2022</td><td>8</td><td>3.1204379562043796</td><td>14</td><td>Low</td></tr><tr><td>Endeavor Air Inc.</td><td>2022</td><td>8</td><td>2.9936974789915967</td><td>15</td><td>Low</td></tr><tr><td>Alaska Airlines Inc.</td><td>2022</td><td>8</td><td>1.3550863723608446</td><td>16</td><td>Low</td></tr><tr><td>Horizon Air</td><td>2022</td><td>8</td><td>0.7477272727272727</td><td>17</td><td>Low</td></tr><tr><td>JetBlue Airways</td><td>2022</td><td>9</td><td>13.88422035480859</td><td>1</td><td>Medium</td></tr><tr><td>Frontier Airlines Inc.</td><td>2022</td><td>9</td><td>11.663670411985018</td><td>2</td><td>Medium</td></tr><tr><td>Allegiant Air</td><td>2022</td><td>9</td><td>11.613960113960115</td><td>3</td><td>Medium</td></tr><tr><td>American Airlines Inc.</td><td>2022</td><td>9</td><td>5.997765987154426</td><td>4</td><td>Low</td></tr><tr><td>Southwest Airlines Co.</td><td>2022</td><td>9</td><td>4.45896117709626</td><td>5</td><td>Low</td></tr><tr><td>Hawaiian Airlines Inc.</td><td>2022</td><td>9</td><td>3.349056603773585</td><td>6</td><td>Low</td></tr><tr><td>Spirit Air Lines</td><td>2022</td><td>9</td><td>3.268641975308642</td><td>7</td><td>Low</td></tr><tr><td>Horizon Air</td><td>2022</td><td>9</td><td>3.0520446096654275</td><td>8</td><td>Low</td></tr><tr><td>Mesa Airlines Inc.</td><td>2022</td><td>9</td><td>2.1629542790152403</td><td>9</td><td>Low</td></tr><tr><td>SkyWest Airlines Inc.</td><td>2022</td><td>9</td><td>1.0698417772095252</td><td>10</td><td>Low</td></tr><tr><td>Alaska Airlines Inc.</td><td>2022</td><td>9</td><td>0.9888607594936709</td><td>11</td><td>Low</td></tr><tr><td>Envoy Air</td><td>2022</td><td>9</td><td>-0.9251798561151079</td><td>12</td><td>Low</td></tr><tr><td>Endeavor Air Inc.</td><td>2022</td><td>9</td><td>-1.3031798245614035</td><td>13</td><td>Low</td></tr><tr><td>PSA Airlines Inc.</td><td>2022</td><td>9</td><td>-2.592857142857143</td><td>14</td><td>Low</td></tr><tr><td>Republic Airline</td><td>2022</td><td>9</td><td>-2.935405732741219</td><td>15</td><td>Low</td></tr><tr><td>United Air Lines Inc.</td><td>2022</td><td>9</td><td>-3.3135674534638264</td><td>16</td><td>Low</td></tr><tr><td>Delta Air Lines Inc.</td><td>2022</td><td>9</td><td>-3.5879568761504075</td><td>17</td><td>Low</td></tr><tr><td>Hawaiian Airlines Inc.</td><td>2022</td><td>10</td><td>19.076576576576578</td><td>1</td><td>Medium</td></tr><tr><td>Frontier Airlines Inc.</td><td>2022</td><td>10</td><td>14.432525951557093</td><td>2</td><td>Medium</td></tr><tr><td>JetBlue Airways</td><td>2022</td><td>10</td><td>11.82544507164568</td><td>3</td><td>Medium</td></tr><tr><td>Allegiant Air</td><td>2022</td><td>10</td><td>9.405586592178771</td><td>4</td><td>Low</td></tr><tr><td>American Airlines Inc.</td><td>2022</td><td>10</td><td>6.224439866082926</td><td>5</td><td>Low</td></tr><tr><td>Southwest Airlines Co.</td><td>2022</td><td>10</td><td>2.758451656524679</td><td>6</td><td>Low</td></tr><tr><td>Mesa Airlines Inc.</td><td>2022</td><td>10</td><td>2.752542372881356</td><td>7</td><td>Low</td></tr><tr><td>Spirit Air Lines</td><td>2022</td><td>10</td><td>2.7234440804866638</td><td>8</td><td>Low</td></tr><tr><td>Endeavor Air Inc.</td><td>2022</td><td>10</td><td>0.4760806916426513</td><td>9</td><td>Low</td></tr><tr><td>Envoy Air</td><td>2022</td><td>10</td><td>0.1784424961320268</td><td>10</td><td>Low</td></tr><tr><td>Republic Airline</td><td>2022</td><td>10</td><td>-0.7602315006200909</td><td>11</td><td>Low</td></tr><tr><td>SkyWest Airlines Inc.</td><td>2022</td><td>10</td><td>-0.8131247984521123</td><td>12</td><td>Low</td></tr><tr><td>Horizon Air</td><td>2022</td><td>10</td><td>-0.9688581314878892</td><td>13</td><td>Low</td></tr><tr><td>Alaska Airlines Inc.</td><td>2022</td><td>10</td><td>-1.3523290386521307</td><td>14</td><td>Low</td></tr><tr><td>PSA Airlines Inc.</td><td>2022</td><td>10</td><td>-1.5906862745098038</td><td>15</td><td>Low</td></tr><tr><td>United Air Lines Inc.</td><td>2022</td><td>10</td><td>-1.6688799580639524</td><td>16</td><td>Low</td></tr><tr><td>Delta Air Lines Inc.</td><td>2022</td><td>10</td><td>-2.8622723775327006</td><td>17</td><td>Low</td></tr><tr><td>Frontier Airlines Inc.</td><td>2022</td><td>11</td><td>18.014893617021276</td><td>1</td><td>Medium</td></tr><tr><td>Allegiant Air</td><td>2022</td><td>11</td><td>17.50175849941383</td><td>2</td><td>Medium</td></tr><tr><td>Hawaiian Airlines Inc.</td><td>2022</td><td>11</td><td>16.55712050078247</td><td>3</td><td>Medium</td></tr><tr><td>JetBlue Airways</td><td>2022</td><td>11</td><td>15.325642141924249</td><td>4</td><td>Medium</td></tr><tr><td>Spirit Air Lines</td><td>2022</td><td>11</td><td>10.089792060491494</td><td>5</td><td>Medium</td></tr><tr><td>American Airlines Inc.</td><td>2022</td><td>11</td><td>7.746228807902817</td><td>6</td><td>Low</td></tr><tr><td>Horizon Air</td><td>2022</td><td>11</td><td>7.151119402985074</td><td>7</td><td>Low</td></tr><tr><td>Envoy Air</td><td>2022</td><td>11</td><td>5.931969026548672</td><td>8</td><td>Low</td></tr><tr><td>Endeavor Air Inc.</td><td>2022</td><td>11</td><td>5.0900062073246435</td><td>9</td><td>Low</td></tr><tr><td>Alaska Airlines Inc.</td><td>2022</td><td>11</td><td>4.384533898305085</td><td>10</td><td>Low</td></tr><tr><td>Mesa Airlines Inc.</td><td>2022</td><td>11</td><td>4.205156950672646</td><td>11</td><td>Low</td></tr><tr><td>PSA Airlines Inc.</td><td>2022</td><td>11</td><td>3.932135728542914</td><td>12</td><td>Low</td></tr><tr><td>SkyWest Airlines Inc.</td><td>2022</td><td>11</td><td>3.7139089150694566</td><td>13</td><td>Low</td></tr><tr><td>Southwest Airlines Co.</td><td>2022</td><td>11</td><td>1.656303046546949</td><td>14</td><td>Low</td></tr><tr><td>Delta Air Lines Inc.</td><td>2022</td><td>11</td><td>0.5850589777195282</td><td>15</td><td>Low</td></tr><tr><td>United Air Lines Inc.</td><td>2022</td><td>11</td><td>0.36863100634632817</td><td>16</td><td>Low</td></tr><tr><td>Republic Airline</td><td>2022</td><td>11</td><td>-0.5162995594713656</td><td>17</td><td>Low</td></tr><tr><td>Hawaiian Airlines Inc.</td><td>2022</td><td>12</td><td>29.534668721109398</td><td>1</td><td>High</td></tr><tr><td>Allegiant Air</td><td>2022</td><td>12</td><td>27.906813627254508</td><td>2</td><td>High</td></tr><tr><td>Frontier Airlines Inc.</td><td>2022</td><td>12</td><td>23.791393143690737</td><td>3</td><td>High</td></tr><tr><td>JetBlue Airways</td><td>2022</td><td>12</td><td>23.43571723852832</td><td>4</td><td>High</td></tr><tr><td>Horizon Air</td><td>2022</td><td>12</td><td>22.49325626204239</td><td>5</td><td>High</td></tr><tr><td>Alaska Airlines Inc.</td><td>2022</td><td>12</td><td>18.53532008830022</td><td>6</td><td>Medium</td></tr><tr><td>Spirit Air Lines</td><td>2022</td><td>12</td><td>16.5910249872514</td><td>7</td><td>Medium</td></tr><tr><td>American Airlines Inc.</td><td>2022</td><td>12</td><td>16.514639936692166</td><td>8</td><td>Medium</td></tr><tr><td>United Air Lines Inc.</td><td>2022</td><td>12</td><td>15.799386398500085</td><td>9</td><td>Medium</td></tr><tr><td>SkyWest Airlines Inc.</td><td>2022</td><td>12</td><td>14.050088391278727</td><td>10</td><td>Medium</td></tr><tr><td>Southwest Airlines Co.</td><td>2022</td><td>12</td><td>13.37006789333858</td><td>11</td><td>Medium</td></tr><tr><td>Envoy Air</td><td>2022</td><td>12</td><td>12.073196986006458</td><td>12</td><td>Medium</td></tr><tr><td>Mesa Airlines Inc.</td><td>2022</td><td>12</td><td>11.31559405940594</td><td>13</td><td>Medium</td></tr><tr><td>Delta Air Lines Inc.</td><td>2022</td><td>12</td><td>5.770288131112873</td><td>14</td><td>Low</td></tr><tr><td>Endeavor Air Inc.</td><td>2022</td><td>12</td><td>2.9036295369211516</td><td>15</td><td>Low</td></tr><tr><td>PSA Airlines Inc.</td><td>2022</td><td>12</td><td>2.273170731707317</td><td>16</td><td>Low</td></tr><tr><td>Republic Airline</td><td>2022</td><td>12</td><td>0.4228187919463087</td><td>17</td><td>Low</td></tr><tr><td>Frontier Airlines Inc.</td><td>2023</td><td>1</td><td>19.443693693693692</td><td>1</td><td>Medium</td></tr><tr><td>Spirit Air Lines</td><td>2023</td><td>1</td><td>15.53613369467028</td><td>2</td><td>Medium</td></tr><tr><td>Allegiant Air</td><td>2023</td><td>1</td><td>15.022041763341067</td><td>3</td><td>Medium</td></tr><tr><td>SkyWest Airlines Inc.</td><td>2023</td><td>1</td><td>11.45061224489796</td><td>4</td><td>Medium</td></tr><tr><td>American Airlines Inc.</td><td>2023</td><td>1</td><td>10.465281501340483</td><td>5</td><td>Medium</td></tr><tr><td>JetBlue Airways</td><td>2023</td><td>1</td><td>9.801839464882944</td><td>6</td><td>Low</td></tr><tr><td>United Air Lines Inc.</td><td>2023</td><td>1</td><td>7.69701280227596</td><td>7</td><td>Low</td></tr><tr><td>Delta Air Lines Inc.</td><td>2023</td><td>1</td><td>7.455462405030128</td><td>8</td><td>Low</td></tr><tr><td>Hawaiian Airlines Inc.</td><td>2023</td><td>1</td><td>7.2140718562874255</td><td>9</td><td>Low</td></tr><tr><td>Endeavor Air Inc.</td><td>2023</td><td>1</td><td>5.949970570924073</td><td>10</td><td>Low</td></tr><tr><td>Envoy Air</td><td>2023</td><td>1</td><td>5.71459576776994</td><td>11</td><td>Low</td></tr><tr><td>Southwest Airlines Co.</td><td>2023</td><td>1</td><td>4.727408579465542</td><td>12</td><td>Low</td></tr><tr><td>Alaska Airlines Inc.</td><td>2023</td><td>1</td><td>3.3535353535353534</td><td>13</td><td>Low</td></tr><tr><td>PSA Airlines Inc.</td><td>2023</td><td>1</td><td>2.1747512437810945</td><td>14</td><td>Low</td></tr><tr><td>Republic Airline</td><td>2023</td><td>1</td><td>-1.0526735833998404</td><td>15</td><td>Low</td></tr><tr><td>Frontier Airlines Inc.</td><td>2023</td><td>2</td><td>12.722132471728594</td><td>1</td><td>Medium</td></tr><tr><td>Hawaiian Airlines Inc.</td><td>2023</td><td>2</td><td>11.548837209302325</td><td>2</td><td>Medium</td></tr><tr><td>Spirit Air Lines</td><td>2023</td><td>2</td><td>11.015492253873063</td><td>3</td><td>Medium</td></tr><tr><td>JetBlue Airways</td><td>2023</td><td>2</td><td>9.10135135135135</td><td>4</td><td>Low</td></tr><tr><td>American Airlines Inc.</td><td>2023</td><td>2</td><td>8.580571753662353</td><td>5</td><td>Low</td></tr><tr><td>Allegiant Air</td><td>2023</td><td>2</td><td>7.7309582309582305</td><td>6</td><td>Low</td></tr><tr><td>Alaska Airlines Inc.</td><td>2023</td><td>2</td><td>5.680971202710333</td><td>7</td><td>Low</td></tr><tr><td>United Air Lines Inc.</td><td>2023</td><td>2</td><td>5.05639872587596</td><td>8</td><td>Low</td></tr><tr><td>SkyWest Airlines Inc.</td><td>2023</td><td>2</td><td>4.977977977977978</td><td>9</td><td>Low</td></tr><tr><td>Delta Air Lines Inc.</td><td>2023</td><td>2</td><td>3.0507436570428696</td><td>10</td><td>Low</td></tr><tr><td>Envoy Air</td><td>2023</td><td>2</td><td>0.5181498829039812</td><td>11</td><td>Low</td></tr><tr><td>Southwest Airlines Co.</td><td>2023</td><td>2</td><td>-0.12182088075210291</td><td>12</td><td>Low</td></tr><tr><td>PSA Airlines Inc.</td><td>2023</td><td>2</td><td>-2.8286304198210597</td><td>13</td><td>Low</td></tr><tr><td>Endeavor Air Inc.</td><td>2023</td><td>2</td><td>-3.35966149506347</td><td>14</td><td>Low</td></tr><tr><td>Republic Airline</td><td>2023</td><td>2</td><td>-3.467005076142132</td><td>15</td><td>Low</td></tr><tr><td>Allegiant Air</td><td>2023</td><td>3</td><td>23.390815370196812</td><td>1</td><td>High</td></tr><tr><td>Spirit Air Lines</td><td>2023</td><td>3</td><td>21.948775055679288</td><td>2</td><td>High</td></tr><tr><td>Frontier Airlines Inc.</td><td>2023</td><td>3</td><td>19.89077340569878</td><td>3</td><td>Medium</td></tr><tr><td>Hawaiian Airlines Inc.</td><td>2023</td><td>3</td><td>18.749640287769783</td><td>4</td><td>Medium</td></tr><tr><td>JetBlue Airways</td><td>2023</td><td>3</td><td>17.53043815432338</td><td>5</td><td>Medium</td></tr><tr><td>American Airlines Inc.</td><td>2023</td><td>3</td><td>15.219918595777155</td><td>6</td><td>Medium</td></tr><tr><td>Envoy Air</td><td>2023</td><td>3</td><td>10.880673125956145</td><td>7</td><td>Medium</td></tr><tr><td>Delta Air Lines Inc.</td><td>2023</td><td>3</td><td>8.1353338153772</td><td>8</td><td>Low</td></tr><tr><td>United Air Lines Inc.</td><td>2023</td><td>3</td><td>7.849951907662712</td><td>9</td><td>Low</td></tr><tr><td>SkyWest Airlines Inc.</td><td>2023</td><td>3</td><td>7.426218016123379</td><td>10</td><td>Low</td></tr><tr><td>Southwest Airlines Co.</td><td>2023</td><td>3</td><td>7.3022350152387405</td><td>11</td><td>Low</td></tr><tr><td>Alaska Airlines Inc.</td><td>2023</td><td>3</td><td>4.3505775991963835</td><td>12</td><td>Low</td></tr><tr><td>PSA Airlines Inc.</td><td>2023</td><td>3</td><td>2.1929618768328445</td><td>13</td><td>Low</td></tr><tr><td>Endeavor Air Inc.</td><td>2023</td><td>3</td><td>1.9536266349583828</td><td>14</td><td>Low</td></tr><tr><td>Republic Airline</td><td>2023</td><td>3</td><td>-1.1841633823002509</td><td>15</td><td>Low</td></tr><tr><td>Spirit Air Lines</td><td>2023</td><td>4</td><td>22.316907775768534</td><td>1</td><td>High</td></tr><tr><td>Frontier Airlines Inc.</td><td>2023</td><td>4</td><td>18.955269143290373</td><td>2</td><td>Medium</td></tr><tr><td>Hawaiian Airlines Inc.</td><td>2023</td><td>4</td><td>18.81896551724138</td><td>3</td><td>Medium</td></tr><tr><td>JetBlue Airways</td><td>2023</td><td>4</td><td>18.53685556028973</td><td>4</td><td>Medium</td></tr><tr><td>American Airlines Inc.</td><td>2023</td><td>4</td><td>15.038779731127198</td><td>5</td><td>Medium</td></tr><tr><td>Allegiant Air</td><td>2023</td><td>4</td><td>14.994464944649447</td><td>6</td><td>Medium</td></tr><tr><td>United Air Lines Inc.</td><td>2023</td><td>4</td><td>11.096259437199725</td><td>7</td><td>Medium</td></tr><tr><td>Southwest Airlines Co.</td><td>2023</td><td>4</td><td>8.995238095238095</td><td>8</td><td>Low</td></tr><tr><td>Envoy Air</td><td>2023</td><td>4</td><td>6.102389078498294</td><td>9</td><td>Low</td></tr><tr><td>Alaska Airlines Inc.</td><td>2023</td><td>4</td><td>5.251160391954616</td><td>10</td><td>Low</td></tr><tr><td>Delta Air Lines Inc.</td><td>2023</td><td>4</td><td>4.387422654375553</td><td>11</td><td>Low</td></tr><tr><td>SkyWest Airlines Inc.</td><td>2023</td><td>4</td><td>3.134468689018982</td><td>12</td><td>Low</td></tr><tr><td>PSA Airlines Inc.</td><td>2023</td><td>4</td><td>2.88929889298893</td><td>13</td><td>Low</td></tr><tr><td>Endeavor Air Inc.</td><td>2023</td><td>4</td><td>2.7280307889672866</td><td>14</td><td>Low</td></tr><tr><td>Republic Airline</td><td>2023</td><td>4</td><td>1.0829613095238095</td><td>15</td><td>Low</td></tr><tr><td>Hawaiian Airlines Inc.</td><td>2023</td><td>5</td><td>23.60912981455064</td><td>1</td><td>High</td></tr><tr><td>Frontier Airlines Inc.</td><td>2023</td><td>5</td><td>21.265151515151516</td><td>2</td><td>High</td></tr><tr><td>American Airlines Inc.</td><td>2023</td><td>5</td><td>10.26139893154429</td><td>3</td><td>Medium</td></tr><tr><td>JetBlue Airways</td><td>2023</td><td>5</td><td>9.723871492476617</td><td>4</td><td>Low</td></tr><tr><td>Spirit Air Lines</td><td>2023</td><td>5</td><td>8.827144120247569</td><td>5</td><td>Low</td></tr><tr><td>United Air Lines Inc.</td><td>2023</td><td>5</td><td>6.36667708658956</td><td>6</td><td>Low</td></tr><tr><td>Allegiant Air</td><td>2023</td><td>5</td><td>6.0811099252934895</td><td>7</td><td>Low</td></tr><tr><td>Southwest Airlines Co.</td><td>2023</td><td>5</td><td>4.1304905418403335</td><td>8</td><td>Low</td></tr><tr><td>SkyWest Airlines Inc.</td><td>2023</td><td>5</td><td>1.3826777087646653</td><td>9</td><td>Low</td></tr><tr><td>Envoy Air</td><td>2023</td><td>5</td><td>1.0947012401352876</td><td>10</td><td>Low</td></tr><tr><td>Alaska Airlines Inc.</td><td>2023</td><td>5</td><td>0.1067632850241546</td><td>11</td><td>Low</td></tr><tr><td>Delta Air Lines Inc.</td><td>2023</td><td>5</td><td>-1.19466789243852</td><td>12</td><td>Low</td></tr><tr><td>PSA Airlines Inc.</td><td>2023</td><td>5</td><td>-2.2549647661755285</td><td>13</td><td>Low</td></tr><tr><td>Endeavor Air Inc.</td><td>2023</td><td>5</td><td>-8.228318584070797</td><td>14</td><td>Low</td></tr><tr><td>Republic Airline</td><td>2023</td><td>5</td><td>-10.632270168855534</td><td>15</td><td>Low</td></tr><tr><td>Frontier Airlines Inc.</td><td>2023</td><td>6</td><td>31.57960381511372</td><td>1</td><td>High</td></tr><tr><td>JetBlue Airways</td><td>2023</td><td>6</td><td>28.646748681898067</td><td>2</td><td>High</td></tr><tr><td>Spirit Air Lines</td><td>2023</td><td>6</td><td>27.798533007334964</td><td>3</td><td>High</td></tr><tr><td>American Airlines Inc.</td><td>2023</td><td>6</td><td>22.581165582791396</td><td>4</td><td>High</td></tr><tr><td>Allegiant Air</td><td>2023</td><td>6</td><td>20.470383275261323</td><td>5</td><td>High</td></tr><tr><td>United Air Lines Inc.</td><td>2023</td><td>6</td><td>20.109439124487004</td><td>6</td><td>High</td></tr><tr><td>Southwest Airlines Co.</td><td>2023</td><td>6</td><td>12.37979797979798</td><td>7</td><td>Medium</td></tr><tr><td>PSA Airlines Inc.</td><td>2023</td><td>6</td><td>11.775683890577508</td><td>8</td><td>Medium</td></tr><tr><td>Delta Air Lines Inc.</td><td>2023</td><td>6</td><td>10.324293265915882</td><td>9</td><td>Medium</td></tr><tr><td>Envoy Air</td><td>2023</td><td>6</td><td>8.651672433679353</td><td>10</td><td>Low</td></tr><tr><td>Hawaiian Airlines Inc.</td><td>2023</td><td>6</td><td>6.3843797856049</td><td>11</td><td>Low</td></tr><tr><td>SkyWest Airlines Inc.</td><td>2023</td><td>6</td><td>5.539570875835385</td><td>12</td><td>Low</td></tr><tr><td>Alaska Airlines Inc.</td><td>2023</td><td>6</td><td>4.5018115942028984</td><td>13</td><td>Low</td></tr><tr><td>Endeavor Air Inc.</td><td>2023</td><td>6</td><td>4.13757225433526</td><td>14</td><td>Low</td></tr><tr><td>Republic Airline</td><td>2023</td><td>6</td><td>1.9156574394463668</td><td>15</td><td>Low</td></tr><tr><td>JetBlue Airways</td><td>2023</td><td>7</td><td>43.358543417366946</td><td>1</td><td>High</td></tr><tr><td>Frontier Airlines Inc.</td><td>2023</td><td>7</td><td>35.850278551532035</td><td>2</td><td>High</td></tr><tr><td>Allegiant Air</td><td>2023</td><td>7</td><td>30.546948356807512</td><td>3</td><td>High</td></tr><tr><td>Spirit Air Lines</td><td>2023</td><td>7</td><td>26.623095823095824</td><td>4</td><td>High</td></tr><tr><td>American Airlines Inc.</td><td>2023</td><td>7</td><td>25.505938812237552</td><td>5</td><td>High</td></tr><tr><td>United Air Lines Inc.</td><td>2023</td><td>7</td><td>21.436295251527973</td><td>6</td><td>High</td></tr><tr><td>PSA Airlines Inc.</td><td>2023</td><td>7</td><td>16.518028846153847</td><td>7</td><td>Medium</td></tr><tr><td>Southwest Airlines Co.</td><td>2023</td><td>7</td><td>14.317809298660363</td><td>8</td><td>Medium</td></tr><tr><td>Republic Airline</td><td>2023</td><td>7</td><td>12.15514935354436</td><td>9</td><td>Medium</td></tr><tr><td>Delta Air Lines Inc.</td><td>2023</td><td>7</td><td>10.968837574262976</td><td>10</td><td>Medium</td></tr><tr><td>Hawaiian Airlines Inc.</td><td>2023</td><td>7</td><td>10.834254143646408</td><td>11</td><td>Medium</td></tr><tr><td>SkyWest Airlines Inc.</td><td>2023</td><td>7</td><td>7.739313244569026</td><td>12</td><td>Low</td></tr><tr><td>Endeavor Air Inc.</td><td>2023</td><td>7</td><td>6.959567198177677</td><td>13</td><td>Low</td></tr><tr><td>Envoy Air</td><td>2023</td><td>7</td><td>6.548818088386434</td><td>14</td><td>Low</td></tr><tr><td>Alaska Airlines Inc.</td><td>2023</td><td>7</td><td>6.104549431321085</td><td>15</td><td>Low</td></tr><tr><td>Frontier Airlines Inc.</td><td>2023</td><td>8</td><td>25.88117489986649</td><td>1</td><td>High</td></tr><tr><td>JetBlue Airways</td><td>2023</td><td>8</td><td>23.198166739415104</td><td>2</td><td>High</td></tr><tr><td>Allegiant Air</td><td>2023</td><td>8</td><td>23.129651860744296</td><td>3</td><td>High</td></tr><tr><td>Spirit Air Lines</td><td>2023</td><td>8</td><td>19.331195602382042</td><td>4</td><td>Medium</td></tr><tr><td>American Airlines Inc.</td><td>2023</td><td>8</td><td>17.58436069038394</td><td>5</td><td>Medium</td></tr><tr><td>PSA Airlines Inc.</td><td>2023</td><td>8</td><td>7.48440366972477</td><td>6</td><td>Low</td></tr><tr><td>Southwest Airlines Co.</td><td>2023</td><td>8</td><td>6.575231756596149</td><td>7</td><td>Low</td></tr><tr><td>Delta Air Lines Inc.</td><td>2023</td><td>8</td><td>6.146173785641834</td><td>8</td><td>Low</td></tr><tr><td>Alaska Airlines Inc.</td><td>2023</td><td>8</td><td>4.398744769874477</td><td>9</td><td>Low</td></tr><tr><td>Hawaiian Airlines Inc.</td><td>2023</td><td>8</td><td>4.3283582089552235</td><td>10</td><td>Low</td></tr><tr><td>SkyWest Airlines Inc.</td><td>2023</td><td>8</td><td>3.966678058783322</td><td>11</td><td>Low</td></tr><tr><td>United Air Lines Inc.</td><td>2023</td><td>8</td><td>3.796097706285374</td><td>12</td><td>Low</td></tr><tr><td>Endeavor Air Inc.</td><td>2023</td><td>8</td><td>1.4514536478332418</td><td>13</td><td>Low</td></tr><tr><td>Envoy Air</td><td>2023</td><td>8</td><td>0.9396426846933849</td><td>14</td><td>Low</td></tr><tr><td>Republic Airline</td><td>2023</td><td>8</td><td>-4.89351081530782</td><td>15</td><td>Low</td></tr></tbody></table></div>"
      ]
     },
     "metadata": {
      "application/vnd.databricks.v1+output": {
       "addedWidgets": {},
       "aggData": [],
       "aggError": "",
       "aggOverflow": false,
       "aggSchema": [],
       "aggSeriesLimitReached": false,
       "aggType": "",
       "arguments": {},
       "columnCustomDisplayInfos": {},
       "data": [
        [
         "JetBlue Airways",
         2019,
         1,
         14.944398340248963,
         1,
         "Medium"
        ],
        [
         "ExpressJet Airlines LLC d/b/a aha!",
         2019,
         1,
         14.542745098039216,
         2,
         "Medium"
        ],
        [
         "SkyWest Airlines Inc.",
         2019,
         1,
         10.504681796540233,
         3,
         "Medium"
        ],
        [
         "Republic Airline",
         2019,
         1,
         8.696883852691219,
         4,
         "Low"
        ],
        [
         "Allegiant Air",
         2019,
         1,
         8.637829912023461,
         5,
         "Low"
        ],
        [
         "United Air Lines Inc.",
         2019,
         1,
         7.874431695172115,
         6,
         "Low"
        ],
        [
         "Envoy Air",
         2019,
         1,
         7.574979625101874,
         7,
         "Low"
        ],
        [
         "Mesa Airlines Inc.",
         2019,
         1,
         5.837235228539576,
         8,
         "Low"
        ],
        [
         "Frontier Airlines Inc.",
         2019,
         1,
         5.255102040816326,
         9,
         "Low"
        ],
        [
         "Spirit Air Lines",
         2019,
         1,
         4.813245033112583,
         10,
         "Low"
        ],
        [
         "American Airlines Inc.",
         2019,
         1,
         3.144564229120665,
         11,
         "Low"
        ],
        [
         "Endeavor Air Inc.",
         2019,
         1,
         3.1093518060366154,
         12,
         "Low"
        ],
        [
         "PSA Airlines Inc.",
         2019,
         1,
         1.9938407391113067,
         13,
         "Low"
        ],
        [
         "Hawaiian Airlines Inc.",
         2019,
         1,
         0.8263473053892215,
         14,
         "Low"
        ],
        [
         "Alaska Airlines Inc.",
         2019,
         1,
         0.5597051597051597,
         15,
         "Low"
        ],
        [
         "Southwest Airlines Co.",
         2019,
         1,
         -0.555320324005891,
         16,
         "Low"
        ],
        [
         "Delta Air Lines Inc.",
         2019,
         1,
         -2.7794409855610014,
         17,
         "Low"
        ],
        [
         "ExpressJet Airlines LLC d/b/a aha!",
         2019,
         2,
         17.507653061224488,
         1,
         "Medium"
        ],
        [
         "SkyWest Airlines Inc.",
         2019,
         2,
         17.282747603833865,
         2,
         "Medium"
        ],
        [
         "Envoy Air",
         2019,
         2,
         15.040417209908735,
         3,
         "Medium"
        ],
        [
         "JetBlue Airways",
         2019,
         2,
         13.901565995525727,
         4,
         "Medium"
        ],
        [
         "Alaska Airlines Inc.",
         2019,
         2,
         11.751750134625741,
         5,
         "Medium"
        ],
        [
         "Allegiant Air",
         2019,
         2,
         11.541899441340782,
         6,
         "Medium"
        ],
        [
         "Mesa Airlines Inc.",
         2019,
         2,
         11.286084142394822,
         7,
         "Medium"
        ],
        [
         "Spirit Air Lines",
         2019,
         2,
         8.805003679175865,
         8,
         "Low"
        ],
        [
         "United Air Lines Inc.",
         2019,
         2,
         8.27576164874552,
         9,
         "Low"
        ],
        [
         "American Airlines Inc.",
         2019,
         2,
         8.01297071129707,
         10,
         "Low"
        ],
        [
         "Southwest Airlines Co.",
         2019,
         2,
         7.127401623343265,
         11,
         "Low"
        ],
        [
         "Frontier Airlines Inc.",
         2019,
         2,
         6.94392523364486,
         12,
         "Low"
        ],
        [
         "PSA Airlines Inc.",
         2019,
         2,
         6.398806563898558,
         13,
         "Low"
        ],
        [
         "Hawaiian Airlines Inc.",
         2019,
         2,
         5.355242566510172,
         14,
         "Low"
        ],
        [
         "Delta Air Lines Inc.",
         2019,
         2,
         4.587235268693272,
         15,
         "Low"
        ],
        [
         "Endeavor Air Inc.",
         2019,
         2,
         4.05941143808995,
         16,
         "Low"
        ],
        [
         "Republic Airline",
         2019,
         2,
         3.7169811320754715,
         17,
         "Low"
        ],
        [
         "ExpressJet Airlines LLC d/b/a aha!",
         2019,
         3,
         10.438709677419356,
         1,
         "Medium"
        ],
        [
         "JetBlue Airways",
         2019,
         3,
         10.196055684454757,
         2,
         "Medium"
        ],
        [
         "Mesa Airlines Inc.",
         2019,
         3,
         8.132530120481928,
         3,
         "Low"
        ],
        [
         "SkyWest Airlines Inc.",
         2019,
         3,
         6.942020665901263,
         4,
         "Low"
        ],
        [
         "United Air Lines Inc.",
         2019,
         3,
         5.943077212098441,
         5,
         "Low"
        ],
        [
         "Frontier Airlines Inc.",
         2019,
         3,
         5.8193236714975844,
         6,
         "Low"
        ],
        [
         "American Airlines Inc.",
         2019,
         3,
         5.687718859429715,
         7,
         "Low"
        ],
        [
         "PSA Airlines Inc.",
         2019,
         3,
         2.5650260104041616,
         8,
         "Low"
        ],
        [
         "Allegiant Air",
         2019,
         3,
         1.909362549800797,
         9,
         "Low"
        ],
        [
         "Southwest Airlines Co.",
         2019,
         3,
         1.7364749914937054,
         10,
         "Low"
        ],
        [
         "Endeavor Air Inc.",
         2019,
         3,
         1.520671834625323,
         11,
         "Low"
        ],
        [
         "Republic Airline",
         2019,
         3,
         1.2239252336448598,
         12,
         "Low"
        ],
        [
         "Envoy Air",
         2019,
         3,
         0.6904588492352512,
         13,
         "Low"
        ],
        [
         "Alaska Airlines Inc.",
         2019,
         3,
         0.34226055379028597,
         14,
         "Low"
        ],
        [
         "Hawaiian Airlines Inc.",
         2019,
         3,
         0.22434017595307917,
         15,
         "Low"
        ],
        [
         "Spirit Air Lines",
         2019,
         3,
         -0.13217703349282298,
         16,
         "Low"
        ],
        [
         "Delta Air Lines Inc.",
         2019,
         3,
         -1.7064800180627682,
         17,
         "Low"
        ],
        [
         "ExpressJet Airlines LLC d/b/a aha!",
         2019,
         4,
         16.641346153846154,
         1,
         "Medium"
        ],
        [
         "PSA Airlines Inc.",
         2019,
         4,
         11.242971044901385,
         2,
         "Medium"
        ],
        [
         "JetBlue Airways",
         2019,
         4,
         10.75364077669903,
         3,
         "Medium"
        ],
        [
         "American Airlines Inc.",
         2019,
         4,
         7.714669171923232,
         4,
         "Low"
        ],
        [
         "Allegiant Air",
         2019,
         4,
         7.312227074235808,
         5,
         "Low"
        ],
        [
         "Mesa Airlines Inc.",
         2019,
         4,
         6.263009049773756,
         6,
         "Low"
        ],
        [
         "United Air Lines Inc.",
         2019,
         4,
         6.226459143968872,
         7,
         "Low"
        ],
        [
         "Republic Airline",
         2019,
         4,
         5.151403249630723,
         8,
         "Low"
        ],
        [
         "Endeavor Air Inc.",
         2019,
         4,
         4.9282051282051285,
         9,
         "Low"
        ],
        [
         "SkyWest Airlines Inc.",
         2019,
         4,
         3.20967504778709,
         10,
         "Low"
        ],
        [
         "Southwest Airlines Co.",
         2019,
         4,
         3.1114067766542486,
         11,
         "Low"
        ],
        [
         "Envoy Air",
         2019,
         4,
         2.6255436931593517,
         12,
         "Low"
        ],
        [
         "Spirit Air Lines",
         2019,
         4,
         2.5245494095711623,
         13,
         "Low"
        ],
        [
         "Frontier Airlines Inc.",
         2019,
         4,
         1.9595261599210267,
         14,
         "Low"
        ],
        [
         "Delta Air Lines Inc.",
         2019,
         4,
         1.0417459562321598,
         15,
         "Low"
        ],
        [
         "Hawaiian Airlines Inc.",
         2019,
         4,
         -1.1323529411764706,
         16,
         "Low"
        ],
        [
         "Alaska Airlines Inc.",
         2019,
         4,
         -2.0137898240608654,
         17,
         "Low"
        ],
        [
         "Frontier Airlines Inc.",
         2019,
         5,
         16.6584938704028,
         1,
         "Medium"
        ],
        [
         "ExpressJet Airlines LLC d/b/a aha!",
         2019,
         5,
         15.564825253664036,
         2,
         "Medium"
        ],
        [
         "Mesa Airlines Inc.",
         2019,
         5,
         13.307490832896805,
         3,
         "Medium"
        ],
        [
         "American Airlines Inc.",
         2019,
         5,
         13.105768048210551,
         4,
         "Medium"
        ],
        [
         "United Air Lines Inc.",
         2019,
         5,
         10.900130426681573,
         5,
         "Medium"
        ],
        [
         "Envoy Air",
         2019,
         5,
         9.385374771480805,
         6,
         "Low"
        ],
        [
         "Spirit Air Lines",
         2019,
         5,
         7.835170893054024,
         7,
         "Low"
        ],
        [
         "Southwest Airlines Co.",
         2019,
         5,
         6.0944019471488176,
         8,
         "Low"
        ],
        [
         "PSA Airlines Inc.",
         2019,
         5,
         5.642769857433809,
         9,
         "Low"
        ],
        [
         "Republic Airline",
         2019,
         5,
         5.543997149982188,
         10,
         "Low"
        ],
        [
         "JetBlue Airways",
         2019,
         5,
         5.120857699805068,
         11,
         "Low"
        ],
        [
         "SkyWest Airlines Inc.",
         2019,
         5,
         4.939234184239734,
         12,
         "Low"
        ],
        [
         "Allegiant Air",
         2019,
         5,
         4.519148936170213,
         13,
         "Low"
        ],
        [
         "Alaska Airlines Inc.",
         2019,
         5,
         0.3349158394475615,
         14,
         "Low"
        ],
        [
         "Delta Air Lines Inc.",
         2019,
         5,
         0.04530855700848819,
         15,
         "Low"
        ],
        [
         "Endeavor Air Inc.",
         2019,
         5,
         -0.349906191369606,
         16,
         "Low"
        ],
        [
         "Hawaiian Airlines Inc.",
         2019,
         5,
         -1.9642857142857142,
         17,
         "Low"
        ],
        [
         "ExpressJet Airlines LLC d/b/a aha!",
         2019,
         6,
         30.358342665173573,
         1,
         "High"
        ],
        [
         "Mesa Airlines Inc.",
         2019,
         6,
         22.816283924843425,
         2,
         "High"
        ],
        [
         "Frontier Airlines Inc.",
         2019,
         6,
         20.42928870292887,
         3,
         "High"
        ],
        [
         "United Air Lines Inc.",
         2019,
         6,
         16.023726957473993,
         4,
         "Medium"
        ],
        [
         "American Airlines Inc.",
         2019,
         6,
         15.342173350582147,
         5,
         "Medium"
        ],
        [
         "JetBlue Airways",
         2019,
         6,
         14.767480347538271,
         6,
         "Medium"
        ],
        [
         "Envoy Air",
         2019,
         6,
         13.876180101670299,
         7,
         "Medium"
        ],
        [
         "Endeavor Air Inc.",
         2019,
         6,
         13.674581005586592,
         8,
         "Medium"
        ],
        [
         "Allegiant Air",
         2019,
         6,
         13.3671875,
         9,
         "Medium"
        ],
        [
         "Spirit Air Lines",
         2019,
         6,
         12.975135135135135,
         10,
         "Medium"
        ],
        [
         "Republic Airline",
         2019,
         6,
         12.68486171761281,
         11,
         "Medium"
        ],
        [
         "PSA Airlines Inc.",
         2019,
         6,
         12.06484502446982,
         12,
         "Medium"
        ],
        [
         "SkyWest Airlines Inc.",
         2019,
         6,
         11.913007226236799,
         13,
         "Medium"
        ],
        [
         "Southwest Airlines Co.",
         2019,
         6,
         7.451249132546843,
         14,
         "Low"
        ],
        [
         "Delta Air Lines Inc.",
         2019,
         6,
         7.061444814517055,
         15,
         "Low"
        ],
        [
         "Alaska Airlines Inc.",
         2019,
         6,
         1.367816091954023,
         16,
         "Low"
        ],
        [
         "Hawaiian Airlines Inc.",
         2019,
         6,
         1.1468253968253967,
         17,
         "Low"
        ],
        [
         "ExpressJet Airlines LLC d/b/a aha!",
         2019,
         7,
         20.13085004775549,
         1,
         "High"
        ],
        [
         "JetBlue Airways",
         2019,
         7,
         15.785288270377734,
         2,
         "Medium"
        ],
        [
         "Frontier Airlines Inc.",
         2019,
         7,
         14.88770053475936,
         3,
         "Medium"
        ],
        [
         "United Air Lines Inc.",
         2019,
         7,
         13.665101156069364,
         4,
         "Medium"
        ],
        [
         "Mesa Airlines Inc.",
         2019,
         7,
         12.292181069958847,
         5,
         "Medium"
        ],
        [
         "American Airlines Inc.",
         2019,
         7,
         10.741052631578947,
         6,
         "Medium"
        ],
        [
         "Spirit Air Lines",
         2019,
         7,
         9.996268656716419,
         7,
         "Low"
        ],
        [
         "Envoy Air",
         2019,
         7,
         8.680156194533192,
         8,
         "Low"
        ],
        [
         "Delta Air Lines Inc.",
         2019,
         7,
         8.399192668557713,
         9,
         "Low"
        ],
        [
         "Allegiant Air",
         2019,
         7,
         8.309778142974528,
         10,
         "Low"
        ],
        [
         "PSA Airlines Inc.",
         2019,
         7,
         8.22953517071164,
         11,
         "Low"
        ],
        [
         "SkyWest Airlines Inc.",
         2019,
         7,
         7.350767178118746,
         12,
         "Low"
        ],
        [
         "Republic Airline",
         2019,
         7,
         6.217182890855457,
         13,
         "Low"
        ],
        [
         "Endeavor Air Inc.",
         2019,
         7,
         4.760379061371841,
         14,
         "Low"
        ],
        [
         "Southwest Airlines Co.",
         2019,
         7,
         4.06982937994174,
         15,
         "Low"
        ],
        [
         "Hawaiian Airlines Inc.",
         2019,
         7,
         2.1608108108108106,
         16,
         "Low"
        ],
        [
         "Alaska Airlines Inc.",
         2019,
         7,
         -1.0099641291351136,
         17,
         "Low"
        ],
        [
         "ExpressJet Airlines LLC d/b/a aha!",
         2019,
         8,
         29.38909426987061,
         1,
         "High"
        ],
        [
         "JetBlue Airways",
         2019,
         8,
         21.436523065192528,
         2,
         "High"
        ],
        [
         "Spirit Air Lines",
         2019,
         8,
         15.286324786324787,
         3,
         "Medium"
        ],
        [
         "Mesa Airlines Inc.",
         2019,
         8,
         13.474534769833497,
         4,
         "Medium"
        ],
        [
         "Frontier Airlines Inc.",
         2019,
         8,
         12.606324110671936,
         5,
         "Medium"
        ],
        [
         "PSA Airlines Inc.",
         2019,
         8,
         12.601426307448495,
         6,
         "Medium"
        ],
        [
         "Allegiant Air",
         2019,
         8,
         10.491408934707904,
         7,
         "Medium"
        ],
        [
         "United Air Lines Inc.",
         2019,
         8,
         9.88960925179604,
         8,
         "Low"
        ],
        [
         "Republic Airline",
         2019,
         8,
         9.366444366444366,
         9,
         "Low"
        ],
        [
         "American Airlines Inc.",
         2019,
         8,
         9.16376051701012,
         10,
         "Low"
        ],
        [
         "Envoy Air",
         2019,
         8,
         6.496526629176315,
         11,
         "Low"
        ],
        [
         "SkyWest Airlines Inc.",
         2019,
         8,
         5.413965087281795,
         12,
         "Low"
        ],
        [
         "Endeavor Air Inc.",
         2019,
         8,
         5.089316987740806,
         13,
         "Low"
        ],
        [
         "Delta Air Lines Inc.",
         2019,
         8,
         4.19496855345912,
         14,
         "Low"
        ],
        [
         "Alaska Airlines Inc.",
         2019,
         8,
         3.3251077164120644,
         15,
         "Low"
        ],
        [
         "Southwest Airlines Co.",
         2019,
         8,
         2.5099303585246324,
         16,
         "Low"
        ],
        [
         "Hawaiian Airlines Inc.",
         2019,
         8,
         -0.27918781725888325,
         17,
         "Low"
        ],
        [
         "ExpressJet Airlines LLC d/b/a aha!",
         2019,
         9,
         11.172003659652333,
         1,
         "Medium"
        ],
        [
         "Envoy Air",
         2019,
         9,
         5.292156119742327,
         2,
         "Low"
        ],
        [
         "United Air Lines Inc.",
         2019,
         9,
         3.856644711352189,
         3,
         "Low"
        ],
        [
         "Frontier Airlines Inc.",
         2019,
         9,
         2.823232323232323,
         4,
         "Low"
        ],
        [
         "Mesa Airlines Inc.",
         2019,
         9,
         2.736641221374046,
         5,
         "Low"
        ],
        [
         "SkyWest Airlines Inc.",
         2019,
         9,
         1.8905516431924883,
         6,
         "Low"
        ],
        [
         "American Airlines Inc.",
         2019,
         9,
         1.639005202385484,
         7,
         "Low"
        ],
        [
         "PSA Airlines Inc.",
         2019,
         9,
         0.29190125595495886,
         8,
         "Low"
        ],
        [
         "Allegiant Air",
         2019,
         9,
         0.25208681135225375,
         9,
         "Low"
        ],
        [
         "Alaska Airlines Inc.",
         2019,
         9,
         0.22089825847846012,
         10,
         "Low"
        ],
        [
         "JetBlue Airways",
         2019,
         9,
         -0.13499184339314846,
         11,
         "Low"
        ],
        [
         "Hawaiian Airlines Inc.",
         2019,
         9,
         -1.6402777777777777,
         12,
         "Low"
        ],
        [
         "Delta Air Lines Inc.",
         2019,
         9,
         -2.0955216769890423,
         13,
         "Low"
        ],
        [
         "Republic Airline",
         2019,
         9,
         -2.28988603988604,
         14,
         "Low"
        ],
        [
         "Southwest Airlines Co.",
         2019,
         9,
         -3.2008808197015997,
         15,
         "Low"
        ],
        [
         "Spirit Air Lines",
         2019,
         9,
         -3.919525888958203,
         16,
         "Low"
        ],
        [
         "Endeavor Air Inc.",
         2019,
         9,
         -5.075634274772619,
         17,
         "Low"
        ],
        [
         "Mesa Airlines Inc.",
         2019,
         10,
         11.648818137964303,
         1,
         "Medium"
        ],
        [
         "ExpressJet Airlines LLC d/b/a aha!",
         2019,
         10,
         10.812903225806451,
         2,
         "Medium"
        ],
        [
         "Frontier Airlines Inc.",
         2019,
         10,
         9.332307692307692,
         3,
         "Low"
        ],
        [
         "American Airlines Inc.",
         2019,
         10,
         5.107169436864302,
         4,
         "Low"
        ],
        [
         "Allegiant Air",
         2019,
         10,
         4.753512132822478,
         5,
         "Low"
        ],
        [
         "Envoy Air",
         2019,
         10,
         4.294180269694819,
         6,
         "Low"
        ],
        [
         "Hawaiian Airlines Inc.",
         2019,
         10,
         3.806318681318681,
         7,
         "Low"
        ],
        [
         "PSA Airlines Inc.",
         2019,
         10,
         3.26806620912394,
         8,
         "Low"
        ],
        [
         "SkyWest Airlines Inc.",
         2019,
         10,
         2.7953015524110456,
         9,
         "Low"
        ],
        [
         "Republic Airline",
         2019,
         10,
         2.3367037411526796,
         10,
         "Low"
        ],
        [
         "JetBlue Airways",
         2019,
         10,
         2.1534475886807494,
         11,
         "Low"
        ],
        [
         "United Air Lines Inc.",
         2019,
         10,
         1.9676347095871238,
         12,
         "Low"
        ],
        [
         "Spirit Air Lines",
         2019,
         10,
         0.14235500878734622,
         13,
         "Low"
        ],
        [
         "Southwest Airlines Co.",
         2019,
         10,
         0.06975340575961372,
         14,
         "Low"
        ],
        [
         "Endeavor Air Inc.",
         2019,
         10,
         -0.5004591368227732,
         15,
         "Low"
        ],
        [
         "Delta Air Lines Inc.",
         2019,
         10,
         -0.5859267734553776,
         16,
         "Low"
        ],
        [
         "Alaska Airlines Inc.",
         2019,
         10,
         -1.8237668161434977,
         17,
         "Low"
        ],
        [
         "Frontier Airlines Inc.",
         2019,
         11,
         5.082448979591836,
         1,
         "Low"
        ],
        [
         "Allegiant Air",
         2019,
         11,
         3.937136204889406,
         2,
         "Low"
        ],
        [
         "Mesa Airlines Inc.",
         2019,
         11,
         3.5892951775304716,
         3,
         "Low"
        ],
        [
         "PSA Airlines Inc.",
         2019,
         11,
         3.4260162601626014,
         4,
         "Low"
        ],
        [
         "JetBlue Airways",
         2019,
         11,
         2.524091627172196,
         5,
         "Low"
        ],
        [
         "SkyWest Airlines Inc.",
         2019,
         11,
         1.7548819586126494,
         6,
         "Low"
        ],
        [
         "ExpressJet Airlines LLC d/b/a aha!",
         2019,
         11,
         1.0865644724977457,
         7,
         "Low"
        ],
        [
         "American Airlines Inc.",
         2019,
         11,
         0.4648082744702321,
         8,
         "Low"
        ],
        [
         "Envoy Air",
         2019,
         11,
         0.3369439071566731,
         9,
         "Low"
        ],
        [
         "United Air Lines Inc.",
         2019,
         11,
         0.2607149911119889,
         10,
         "Low"
        ],
        [
         "Hawaiian Airlines Inc.",
         2019,
         11,
         -0.7115942028985507,
         11,
         "Low"
        ],
        [
         "Southwest Airlines Co.",
         2019,
         11,
         -1.2014721919302072,
         12,
         "Low"
        ],
        [
         "Delta Air Lines Inc.",
         2019,
         11,
         -2.1145196773405037,
         13,
         "Low"
        ],
        [
         "Spirit Air Lines",
         2019,
         11,
         -2.4662236987818384,
         14,
         "Low"
        ],
        [
         "Republic Airline",
         2019,
         11,
         -2.5512866980790143,
         15,
         "Low"
        ],
        [
         "Alaska Airlines Inc.",
         2019,
         11,
         -2.6248168050806058,
         16,
         "Low"
        ],
        [
         "Endeavor Air Inc.",
         2019,
         11,
         -3.878211227402474,
         17,
         "Low"
        ],
        [
         "JetBlue Airways",
         2019,
         12,
         21.98804934464148,
         1,
         "High"
        ],
        [
         "Mesa Airlines Inc.",
         2019,
         12,
         16.182250396196512,
         2,
         "Medium"
        ],
        [
         "ExpressJet Airlines LLC d/b/a aha!",
         2019,
         12,
         13.817223198594025,
         3,
         "Medium"
        ],
        [
         "Allegiant Air",
         2019,
         12,
         10.18927125506073,
         4,
         "Medium"
        ],
        [
         "PSA Airlines Inc.",
         2019,
         12,
         8.992046881540393,
         5,
         "Low"
        ],
        [
         "SkyWest Airlines Inc.",
         2019,
         12,
         8.176661492874278,
         6,
         "Low"
        ],
        [
         "Frontier Airlines Inc.",
         2019,
         12,
         6.985617597292724,
         7,
         "Low"
        ],
        [
         "Republic Airline",
         2019,
         12,
         6.592205984690327,
         8,
         "Low"
        ],
        [
         "United Air Lines Inc.",
         2019,
         12,
         6.368100494861058,
         9,
         "Low"
        ],
        [
         "Alaska Airlines Inc.",
         2019,
         12,
         5.955036748811068,
         10,
         "Low"
        ],
        [
         "Envoy Air",
         2019,
         12,
         5.875945537065053,
         11,
         "Low"
        ],
        [
         "Southwest Airlines Co.",
         2019,
         12,
         4.922438857533778,
         12,
         "Low"
        ],
        [
         "American Airlines Inc.",
         2019,
         12,
         4.046733606049337,
         13,
         "Low"
        ],
        [
         "Spirit Air Lines",
         2019,
         12,
         3.3382920110192837,
         14,
         "Low"
        ],
        [
         "Delta Air Lines Inc.",
         2019,
         12,
         -0.01961505455437048,
         15,
         "Low"
        ],
        [
         "Hawaiian Airlines Inc.",
         2019,
         12,
         -0.4546742209631728,
         16,
         "Low"
        ],
        [
         "Endeavor Air Inc.",
         2019,
         12,
         -0.484409310496267,
         17,
         "Low"
        ],
        [
         "PSA Airlines Inc.",
         2020,
         1,
         7.9091636654661865,
         1,
         "Low"
        ],
        [
         "Allegiant Air",
         2020,
         1,
         6.280254777070064,
         2,
         "Low"
        ],
        [
         "Mesa Airlines Inc.",
         2020,
         1,
         6.14203565267395,
         3,
         "Low"
        ],
        [
         "Envoy Air",
         2020,
         1,
         5.333460365853658,
         4,
         "Low"
        ],
        [
         "SkyWest Airlines Inc.",
         2020,
         1,
         2.48732782369146,
         5,
         "Low"
        ],
        [
         "Alaska Airlines Inc.",
         2020,
         1,
         2.020417853751187,
         6,
         "Low"
        ],
        [
         "Spirit Air Lines",
         2020,
         1,
         0.33178922987840187,
         7,
         "Low"
        ],
        [
         "American Airlines Inc.",
         2020,
         1,
         -0.33877183967112023,
         8,
         "Low"
        ],
        [
         "Hawaiian Airlines Inc.",
         2020,
         1,
         -1.3210382513661203,
         9,
         "Low"
        ],
        [
         "ExpressJet Airlines LLC d/b/a aha!",
         2020,
         1,
         -1.9850746268656716,
         10,
         "Low"
        ],
        [
         "JetBlue Airways",
         2020,
         1,
         -2.965111561866126,
         11,
         "Low"
        ],
        [
         "United Air Lines Inc.",
         2020,
         1,
         -3.5096193205075727,
         12,
         "Low"
        ],
        [
         "Endeavor Air Inc.",
         2020,
         1,
         -4.932385874246339,
         13,
         "Low"
        ],
        [
         "Delta Air Lines Inc.",
         2020,
         1,
         -5.394269621648096,
         14,
         "Low"
        ],
        [
         "Southwest Airlines Co.",
         2020,
         1,
         -5.849206349206349,
         15,
         "Low"
        ],
        [
         "Republic Airline",
         2020,
         1,
         -5.862582208376601,
         16,
         "Low"
        ],
        [
         "Frontier Airlines Inc.",
         2020,
         1,
         -5.899842271293376,
         17,
         "Low"
        ],
        [
         "PSA Airlines Inc.",
         2020,
         2,
         17.49476082004556,
         1,
         "Medium"
        ],
        [
         "Allegiant Air",
         2020,
         2,
         12.848203939745074,
         2,
         "Medium"
        ],
        [
         "Mesa Airlines Inc.",
         2020,
         2,
         4.472270869819031,
         3,
         "Low"
        ],
        [
         "Spirit Air Lines",
         2020,
         2,
         2.965921787709497,
         4,
         "Low"
        ],
        [
         "SkyWest Airlines Inc.",
         2020,
         2,
         2.0382480875956204,
         5,
         "Low"
        ],
        [
         "Envoy Air",
         2020,
         2,
         1.274729842061513,
         6,
         "Low"
        ],
        [
         "Frontier Airlines Inc.",
         2020,
         2,
         0.9530842745438749,
         7,
         "Low"
        ],
        [
         "American Airlines Inc.",
         2020,
         2,
         0.3610386042038742,
         8,
         "Low"
        ],
        [
         "Endeavor Air Inc.",
         2020,
         2,
         0.29063604240282687,
         9,
         "Low"
        ],
        [
         "ExpressJet Airlines LLC d/b/a aha!",
         2020,
         2,
         0.1646655231560892,
         10,
         "Low"
        ],
        [
         "Republic Airline",
         2020,
         2,
         -1.0212765957446808,
         11,
         "Low"
        ],
        [
         "JetBlue Airways",
         2020,
         2,
         -1.1936041486603284,
         12,
         "Low"
        ],
        [
         "Hawaiian Airlines Inc.",
         2020,
         2,
         -1.3121301775147929,
         13,
         "Low"
        ],
        [
         "Delta Air Lines Inc.",
         2020,
         2,
         -1.5861222380152475,
         14,
         "Low"
        ],
        [
         "United Air Lines Inc.",
         2020,
         2,
         -3.2577843677187035,
         15,
         "Low"
        ],
        [
         "Alaska Airlines Inc.",
         2020,
         2,
         -3.325392802838317,
         16,
         "Low"
        ],
        [
         "Southwest Airlines Co.",
         2020,
         2,
         -5.795412214488776,
         17,
         "Low"
        ],
        [
         "Allegiant Air",
         2020,
         3,
         8.981111111111112,
         1,
         "Low"
        ],
        [
         "PSA Airlines Inc.",
         2020,
         3,
         1.3532293986636972,
         2,
         "Low"
        ],
        [
         "Mesa Airlines Inc.",
         2020,
         3,
         0.864549578742709,
         3,
         "Low"
        ],
        [
         "Hawaiian Airlines Inc.",
         2020,
         3,
         -1.8095238095238095,
         4,
         "Low"
        ],
        [
         "Envoy Air",
         2020,
         3,
         -3.480948348856901,
         5,
         "Low"
        ],
        [
         "American Airlines Inc.",
         2020,
         3,
         -4.105395790097836,
         6,
         "Low"
        ],
        [
         "Spirit Air Lines",
         2020,
         3,
         -4.178494623655914,
         7,
         "Low"
        ],
        [
         "Alaska Airlines Inc.",
         2020,
         3,
         -5.976060935799782,
         8,
         "Low"
        ],
        [
         "Frontier Airlines Inc.",
         2020,
         3,
         -6.832517140058766,
         9,
         "Low"
        ],
        [
         "SkyWest Airlines Inc.",
         2020,
         3,
         -7.408035714285714,
         10,
         "Low"
        ],
        [
         "United Air Lines Inc.",
         2020,
         3,
         -7.425209692451071,
         11,
         "Low"
        ],
        [
         "Delta Air Lines Inc.",
         2020,
         3,
         -7.750443524541692,
         12,
         "Low"
        ],
        [
         "Southwest Airlines Co.",
         2020,
         3,
         -8.139668753787113,
         13,
         "Low"
        ],
        [
         "JetBlue Airways",
         2020,
         3,
         -8.449478930675125,
         14,
         "Low"
        ],
        [
         "ExpressJet Airlines LLC d/b/a aha!",
         2020,
         3,
         -9.525490196078431,
         15,
         "Low"
        ],
        [
         "Republic Airline",
         2020,
         3,
         -9.990298507462686,
         16,
         "Low"
        ],
        [
         "Endeavor Air Inc.",
         2020,
         3,
         -11.732643380767572,
         17,
         "Low"
        ],
        [
         "Allegiant Air",
         2020,
         4,
         4.253164556962025,
         1,
         "Low"
        ],
        [
         "Delta Air Lines Inc.",
         2020,
         4,
         -5.6018662519440126,
         2,
         "Low"
        ],
        [
         "Endeavor Air Inc.",
         2020,
         4,
         -7.700913242009133,
         3,
         "Low"
        ],
        [
         "SkyWest Airlines Inc.",
         2020,
         4,
         -10.914608327452363,
         4,
         "Low"
        ],
        [
         "Spirit Air Lines",
         2020,
         4,
         -12.57752808988764,
         5,
         "Low"
        ],
        [
         "Mesa Airlines Inc.",
         2020,
         4,
         -13.851919561243145,
         6,
         "Low"
        ],
        [
         "Hawaiian Airlines Inc.",
         2020,
         4,
         -13.957627118644067,
         7,
         "Low"
        ],
        [
         "Southwest Airlines Co.",
         2020,
         4,
         -13.995752813760884,
         8,
         "Low"
        ],
        [
         "Frontier Airlines Inc.",
         2020,
         4,
         -15.795774647887324,
         9,
         "Low"
        ],
        [
         "PSA Airlines Inc.",
         2020,
         4,
         -15.879837067209776,
         10,
         "Low"
        ],
        [
         "Envoy Air",
         2020,
         4,
         -15.951668584579977,
         11,
         "Low"
        ],
        [
         "American Airlines Inc.",
         2020,
         4,
         -15.985001874765654,
         12,
         "Low"
        ],
        [
         "ExpressJet Airlines LLC d/b/a aha!",
         2020,
         4,
         -17.473684210526315,
         13,
         "Low"
        ],
        [
         "Republic Airline",
         2020,
         4,
         -18.285329744279945,
         14,
         "Low"
        ],
        [
         "United Air Lines Inc.",
         2020,
         4,
         -20.52467811158798,
         15,
         "Low"
        ],
        [
         "Alaska Airlines Inc.",
         2020,
         4,
         -21.46186440677966,
         16,
         "Low"
        ],
        [
         "JetBlue Airways",
         2020,
         4,
         -23.61111111111111,
         17,
         "Low"
        ],
        [
         "Allegiant Air",
         2020,
         5,
         7.6866666666666665,
         1,
         "Low"
        ],
        [
         "Delta Air Lines Inc.",
         2020,
         5,
         -6.380597014925373,
         2,
         "Low"
        ],
        [
         "Endeavor Air Inc.",
         2020,
         5,
         -8.16268656716418,
         3,
         "Low"
        ],
        [
         "Envoy Air",
         2020,
         5,
         -9.043157894736842,
         4,
         "Low"
        ],
        [
         "ExpressJet Airlines LLC d/b/a aha!",
         2020,
         5,
         -9.310638297872341,
         5,
         "Low"
        ],
        [
         "Mesa Airlines Inc.",
         2020,
         5,
         -9.451519536903039,
         6,
         "Low"
        ],
        [
         "SkyWest Airlines Inc.",
         2020,
         5,
         -11.342958860759493,
         7,
         "Low"
        ],
        [
         "JetBlue Airways",
         2020,
         5,
         -11.633744855967079,
         8,
         "Low"
        ],
        [
         "Southwest Airlines Co.",
         2020,
         5,
         -11.744967978042085,
         9,
         "Low"
        ],
        [
         "Hawaiian Airlines Inc.",
         2020,
         5,
         -11.881889763779528,
         10,
         "Low"
        ],
        [
         "Spirit Air Lines",
         2020,
         5,
         -11.932515337423313,
         11,
         "Low"
        ],
        [
         "PSA Airlines Inc.",
         2020,
         5,
         -13.129976580796253,
         12,
         "Low"
        ],
        [
         "American Airlines Inc.",
         2020,
         5,
         -14.760917512130568,
         13,
         "Low"
        ],
        [
         "Frontier Airlines Inc.",
         2020,
         5,
         -15.85,
         14,
         "Low"
        ],
        [
         "United Air Lines Inc.",
         2020,
         5,
         -16.58377659574468,
         15,
         "Low"
        ],
        [
         "Republic Airline",
         2020,
         5,
         -16.878688524590164,
         16,
         "Low"
        ],
        [
         "Alaska Airlines Inc.",
         2020,
         5,
         -18.736051502145923,
         17,
         "Low"
        ],
        [
         "ExpressJet Airlines LLC d/b/a aha!",
         2020,
         6,
         -0.3246753246753247,
         1,
         "Low"
        ],
        [
         "Allegiant Air",
         2020,
         6,
         -1.4230769230769231,
         2,
         "Low"
        ],
        [
         "Mesa Airlines Inc.",
         2020,
         6,
         -1.6424682395644283,
         3,
         "Low"
        ],
        [
         "Envoy Air",
         2020,
         6,
         -2.0340314136125652,
         4,
         "Low"
        ],
        [
         "Hawaiian Airlines Inc.",
         2020,
         6,
         -3.2245989304812834,
         5,
         "Low"
        ],
        [
         "Delta Air Lines Inc.",
         2020,
         6,
         -6.306868867082962,
         6,
         "Low"
        ],
        [
         "SkyWest Airlines Inc.",
         2020,
         6,
         -6.823352165725047,
         7,
         "Low"
        ],
        [
         "PSA Airlines Inc.",
         2020,
         6,
         -6.847328244274809,
         8,
         "Low"
        ],
        [
         "Endeavor Air Inc.",
         2020,
         6,
         -8.071717171717172,
         9,
         "Low"
        ],
        [
         "JetBlue Airways",
         2020,
         6,
         -8.252189141856393,
         10,
         "Low"
        ],
        [
         "American Airlines Inc.",
         2020,
         6,
         -8.357067324638702,
         11,
         "Low"
        ],
        [
         "Southwest Airlines Co.",
         2020,
         6,
         -8.42701458173446,
         12,
         "Low"
        ],
        [
         "Alaska Airlines Inc.",
         2020,
         6,
         -10.291079812206572,
         13,
         "Low"
        ],
        [
         "Spirit Air Lines",
         2020,
         6,
         -11.463576158940397,
         14,
         "Low"
        ],
        [
         "United Air Lines Inc.",
         2020,
         6,
         -11.876510067114094,
         15,
         "Low"
        ],
        [
         "Republic Airline",
         2020,
         6,
         -14.08936170212766,
         16,
         "Low"
        ],
        [
         "Frontier Airlines Inc.",
         2020,
         6,
         -15.061946902654867,
         17,
         "Low"
        ],
        [
         "Mesa Airlines Inc.",
         2020,
         7,
         3.3270300333704115,
         1,
         "Low"
        ],
        [
         "PSA Airlines Inc.",
         2020,
         7,
         2.2066176470588235,
         2,
         "Low"
        ],
        [
         "Allegiant Air",
         2020,
         7,
         1.6438492063492063,
         3,
         "Low"
        ],
        [
         "Envoy Air",
         2020,
         7,
         0.02262693156732892,
         4,
         "Low"
        ],
        [
         "ExpressJet Airlines LLC d/b/a aha!",
         2020,
         7,
         -1.4517374517374517,
         5,
         "Low"
        ],
        [
         "SkyWest Airlines Inc.",
         2020,
         7,
         -1.679544328875681,
         6,
         "Low"
        ],
        [
         "Delta Air Lines Inc.",
         2020,
         7,
         -1.8961175236096537,
         7,
         "Low"
        ],
        [
         "Hawaiian Airlines Inc.",
         2020,
         7,
         -2.814814814814815,
         8,
         "Low"
        ],
        [
         "Spirit Air Lines",
         2020,
         7,
         -4.398315282791817,
         9,
         "Low"
        ],
        [
         "American Airlines Inc.",
         2020,
         7,
         -4.678794402583423,
         10,
         "Low"
        ],
        [
         "Endeavor Air Inc.",
         2020,
         7,
         -4.983985765124555,
         11,
         "Low"
        ],
        [
         "JetBlue Airways",
         2020,
         7,
         -5.093422306959009,
         12,
         "Low"
        ],
        [
         "Frontier Airlines Inc.",
         2020,
         7,
         -5.93619972260749,
         13,
         "Low"
        ],
        [
         "Alaska Airlines Inc.",
         2020,
         7,
         -7.771820448877805,
         14,
         "Low"
        ],
        [
         "Southwest Airlines Co.",
         2020,
         7,
         -10.50755965036617,
         15,
         "Low"
        ],
        [
         "Republic Airline",
         2020,
         7,
         -10.525773195876289,
         16,
         "Low"
        ],
        [
         "United Air Lines Inc.",
         2020,
         7,
         -12.851006711409395,
         17,
         "Low"
        ],
        [
         "PSA Airlines Inc.",
         2020,
         8,
         1.589923469387755,
         1,
         "Low"
        ],
        [
         "Envoy Air",
         2020,
         8,
         -1.6781035558328135,
         2,
         "Low"
        ],
        [
         "Allegiant Air",
         2020,
         8,
         -1.7066666666666668,
         3,
         "Low"
        ],
        [
         "Frontier Airlines Inc.",
         2020,
         8,
         -2.299862448418157,
         4,
         "Low"
        ],
        [
         "Delta Air Lines Inc.",
         2020,
         8,
         -2.876840140991084,
         5,
         "Low"
        ],
        [
         "Hawaiian Airlines Inc.",
         2020,
         8,
         -4.131914893617021,
         6,
         "Low"
        ],
        [
         "SkyWest Airlines Inc.",
         2020,
         8,
         -4.60671743800039,
         7,
         "Low"
        ],
        [
         "Mesa Airlines Inc.",
         2020,
         8,
         -4.748496993987976,
         8,
         "Low"
        ],
        [
         "Alaska Airlines Inc.",
         2020,
         8,
         -5.113984674329502,
         9,
         "Low"
        ],
        [
         "Endeavor Air Inc.",
         2020,
         8,
         -5.38034425319267,
         10,
         "Low"
        ],
        [
         "ExpressJet Airlines LLC d/b/a aha!",
         2020,
         8,
         -5.382089552238806,
         11,
         "Low"
        ],
        [
         "American Airlines Inc.",
         2020,
         8,
         -5.6890114552397115,
         12,
         "Low"
        ],
        [
         "Spirit Air Lines",
         2020,
         8,
         -6.60168776371308,
         13,
         "Low"
        ],
        [
         "JetBlue Airways",
         2020,
         8,
         -8.749029754204399,
         14,
         "Low"
        ],
        [
         "Southwest Airlines Co.",
         2020,
         8,
         -9.611412402735205,
         15,
         "Low"
        ],
        [
         "United Air Lines Inc.",
         2020,
         8,
         -10.33943661971831,
         16,
         "Low"
        ],
        [
         "Republic Airline",
         2020,
         8,
         -11.8891523414345,
         17,
         "Low"
        ],
        [
         "Envoy Air",
         2020,
         9,
         -0.13537675606641125,
         1,
         "Low"
        ],
        [
         "Allegiant Air",
         2020,
         9,
         -2.509240246406571,
         2,
         "Low"
        ],
        [
         "PSA Airlines Inc.",
         2020,
         9,
         -3.7505454545454544,
         3,
         "Low"
        ],
        [
         "Hawaiian Airlines Inc.",
         2020,
         9,
         -4.178571428571429,
         4,
         "Low"
        ],
        [
         "Mesa Airlines Inc.",
         2020,
         9,
         -4.542563143124416,
         5,
         "Low"
        ],
        [
         "American Airlines Inc.",
         2020,
         9,
         -5.230979612133267,
         6,
         "Low"
        ],
        [
         "Spirit Air Lines",
         2020,
         9,
         -5.784713375796178,
         7,
         "Low"
        ],
        [
         "SkyWest Airlines Inc.",
         2020,
         9,
         -5.919052744886975,
         8,
         "Low"
        ],
        [
         "Delta Air Lines Inc.",
         2020,
         9,
         -6.985826771653543,
         9,
         "Low"
        ],
        [
         "ExpressJet Airlines LLC d/b/a aha!",
         2020,
         9,
         -8.371681415929203,
         10,
         "Low"
        ],
        [
         "Alaska Airlines Inc.",
         2020,
         9,
         -8.952430196483972,
         11,
         "Low"
        ],
        [
         "Southwest Airlines Co.",
         2020,
         9,
         -9.050594282043045,
         12,
         "Low"
        ],
        [
         "Endeavor Air Inc.",
         2020,
         9,
         -9.965020576131687,
         13,
         "Low"
        ],
        [
         "United Air Lines Inc.",
         2020,
         9,
         -10.925249169435215,
         14,
         "Low"
        ],
        [
         "JetBlue Airways",
         2020,
         9,
         -11.72668810289389,
         15,
         "Low"
        ],
        [
         "Frontier Airlines Inc.",
         2020,
         9,
         -12.657817109144542,
         16,
         "Low"
        ],
        [
         "Republic Airline",
         2020,
         9,
         -13.200259235255995,
         17,
         "Low"
        ],
        [
         "Allegiant Air",
         2020,
         10,
         10.216551724137931,
         1,
         "Medium"
        ],
        [
         "Envoy Air",
         2020,
         10,
         1.8908879860708068,
         2,
         "Low"
        ],
        [
         "Mesa Airlines Inc.",
         2020,
         10,
         0.12277227722772277,
         3,
         "Low"
        ],
        [
         "American Airlines Inc.",
         2020,
         10,
         -1.9099876695437732,
         4,
         "Low"
        ],
        [
         "PSA Airlines Inc.",
         2020,
         10,
         -2.223901098901099,
         5,
         "Low"
        ],
        [
         "Frontier Airlines Inc.",
         2020,
         10,
         -2.6125786163522013,
         6,
         "Low"
        ],
        [
         "SkyWest Airlines Inc.",
         2020,
         10,
         -3.316214088941362,
         7,
         "Low"
        ],
        [
         "Hawaiian Airlines Inc.",
         2020,
         10,
         -3.982905982905983,
         8,
         "Low"
        ],
        [
         "Spirit Air Lines",
         2020,
         10,
         -4.264232008592911,
         9,
         "Low"
        ],
        [
         "Delta Air Lines Inc.",
         2020,
         10,
         -5.833931967039932,
         10,
         "Low"
        ],
        [
         "United Air Lines Inc.",
         2020,
         10,
         -6.823577906018137,
         11,
         "Low"
        ],
        [
         "Endeavor Air Inc.",
         2020,
         10,
         -7.968161434977579,
         12,
         "Low"
        ],
        [
         "JetBlue Airways",
         2020,
         10,
         -8.433918128654971,
         13,
         "Low"
        ],
        [
         "Southwest Airlines Co.",
         2020,
         10,
         -8.886580742987112,
         14,
         "Low"
        ],
        [
         "Republic Airline",
         2020,
         10,
         -9.628132118451026,
         15,
         "Low"
        ],
        [
         "Alaska Airlines Inc.",
         2020,
         10,
         -10.567493112947659,
         16,
         "Low"
        ],
        [
         "Allegiant Air",
         2020,
         11,
         0.9857142857142858,
         1,
         "Low"
        ],
        [
         "Hawaiian Airlines Inc.",
         2020,
         11,
         -1.5457627118644068,
         2,
         "Low"
        ],
        [
         "Envoy Air",
         2020,
         11,
         -2.065954773869347,
         3,
         "Low"
        ],
        [
         "Spirit Air Lines",
         2020,
         11,
         -2.920435510887772,
         4,
         "Low"
        ],
        [
         "Delta Air Lines Inc.",
         2020,
         11,
         -3.305064063453325,
         5,
         "Low"
        ],
        [
         "JetBlue Airways",
         2020,
         11,
         -5.269724770642202,
         6,
         "Low"
        ],
        [
         "SkyWest Airlines Inc.",
         2020,
         11,
         -5.375285605483625,
         7,
         "Low"
        ],
        [
         "PSA Airlines Inc.",
         2020,
         11,
         -5.395877754086709,
         8,
         "Low"
        ],
        [
         "Mesa Airlines Inc.",
         2020,
         11,
         -5.7413162705667276,
         9,
         "Low"
        ],
        [
         "Alaska Airlines Inc.",
         2020,
         11,
         -6.2729857819905215,
         10,
         "Low"
        ],
        [
         "American Airlines Inc.",
         2020,
         11,
         -6.273302938196555,
         11,
         "Low"
        ],
        [
         "United Air Lines Inc.",
         2020,
         11,
         -7.355808285946385,
         12,
         "Low"
        ],
        [
         "Republic Airline",
         2020,
         11,
         -8.38798102266737,
         13,
         "Low"
        ],
        [
         "Frontier Airlines Inc.",
         2020,
         11,
         -10.539559014267185,
         14,
         "Low"
        ],
        [
         "Southwest Airlines Co.",
         2020,
         11,
         -10.668606262122472,
         15,
         "Low"
        ],
        [
         "Endeavor Air Inc.",
         2020,
         11,
         -11.217011494252873,
         16,
         "Low"
        ],
        [
         "JetBlue Airways",
         2020,
         12,
         5.3136363636363635,
         1,
         "Low"
        ],
        [
         "Mesa Airlines Inc.",
         2020,
         12,
         2.2506082725060828,
         2,
         "Low"
        ],
        [
         "Spirit Air Lines",
         2020,
         12,
         1.5767731878409976,
         3,
         "Low"
        ],
        [
         "Delta Air Lines Inc.",
         2020,
         12,
         1.271138211382114,
         4,
         "Low"
        ],
        [
         "Envoy Air",
         2020,
         12,
         0.48,
         5,
         "Low"
        ],
        [
         "Allegiant Air",
         2020,
         12,
         0.42450142450142453,
         6,
         "Low"
        ],
        [
         "SkyWest Airlines Inc.",
         2020,
         12,
         -0.09793253536452666,
         7,
         "Low"
        ],
        [
         "American Airlines Inc.",
         2020,
         12,
         -1.0865834633385336,
         8,
         "Low"
        ],
        [
         "PSA Airlines Inc.",
         2020,
         12,
         -3.71313672922252,
         9,
         "Low"
        ],
        [
         "Endeavor Air Inc.",
         2020,
         12,
         -4.211274060494959,
         10,
         "Low"
        ],
        [
         "United Air Lines Inc.",
         2020,
         12,
         -4.317557251908397,
         11,
         "Low"
        ],
        [
         "Hawaiian Airlines Inc.",
         2020,
         12,
         -4.598639455782313,
         12,
         "Low"
        ],
        [
         "Southwest Airlines Co.",
         2020,
         12,
         -5.119318181818182,
         13,
         "Low"
        ],
        [
         "Republic Airline",
         2020,
         12,
         -5.536918869644485,
         14,
         "Low"
        ],
        [
         "Frontier Airlines Inc.",
         2020,
         12,
         -6.022546419098143,
         15,
         "Low"
        ],
        [
         "Alaska Airlines Inc.",
         2020,
         12,
         -11.16196542311192,
         16,
         "Low"
        ],
        [
         "Allegiant Air",
         2021,
         1,
         4.835740072202166,
         1,
         "Low"
        ],
        [
         "JetBlue Airways",
         2021,
         1,
         3.68268156424581,
         2,
         "Low"
        ],
        [
         "Envoy Air",
         2021,
         1,
         -0.21878393051031486,
         3,
         "Low"
        ],
        [
         "PSA Airlines Inc.",
         2021,
         1,
         -1.4515077424612877,
         4,
         "Low"
        ],
        [
         "Mesa Airlines Inc.",
         2021,
         1,
         -3.4561904761904763,
         5,
         "Low"
        ],
        [
         "Delta Air Lines Inc.",
         2021,
         1,
         -4.1113161131611315,
         6,
         "Low"
        ],
        [
         "SkyWest Airlines Inc.",
         2021,
         1,
         -4.618280613235009,
         7,
         "Low"
        ],
        [
         "Spirit Air Lines",
         2021,
         1,
         -5.036874451273047,
         8,
         "Low"
        ],
        [
         "American Airlines Inc.",
         2021,
         1,
         -5.703846153846154,
         9,
         "Low"
        ],
        [
         "United Air Lines Inc.",
         2021,
         1,
         -6.077846790890269,
         10,
         "Low"
        ],
        [
         "Horizon Air",
         2021,
         1,
         -6.5234375,
         11,
         "Low"
        ],
        [
         "Hawaiian Airlines Inc.",
         2021,
         1,
         -6.58282208588957,
         12,
         "Low"
        ],
        [
         "Endeavor Air Inc.",
         2021,
         1,
         -6.944255937954435,
         13,
         "Low"
        ],
        [
         "Southwest Airlines Co.",
         2021,
         1,
         -6.990355248352355,
         14,
         "Low"
        ],
        [
         "Alaska Airlines Inc.",
         2021,
         1,
         -7.491340018231541,
         15,
         "Low"
        ],
        [
         "Frontier Airlines Inc.",
         2021,
         1,
         -7.681281618887015,
         16,
         "Low"
        ],
        [
         "Republic Airline",
         2021,
         1,
         -8.95774647887324,
         17,
         "Low"
        ],
        [
         "JetBlue Airways",
         2021,
         2,
         11.646632124352331,
         1,
         "Medium"
        ],
        [
         "Envoy Air",
         2021,
         2,
         8.277027027027026,
         2,
         "Low"
        ],
        [
         "SkyWest Airlines Inc.",
         2021,
         2,
         6.368281938325991,
         3,
         "Low"
        ],
        [
         "Allegiant Air",
         2021,
         2,
         5.218085106382978,
         4,
         "Low"
        ],
        [
         "Horizon Air",
         2021,
         2,
         4.271052631578947,
         5,
         "Low"
        ],
        [
         "Mesa Airlines Inc.",
         2021,
         2,
         3.529723991507431,
         6,
         "Low"
        ],
        [
         "Frontier Airlines Inc.",
         2021,
         2,
         1.6161764705882353,
         7,
         "Low"
        ],
        [
         "Republic Airline",
         2021,
         2,
         0.9902813299232737,
         8,
         "Low"
        ],
        [
         "Spirit Air Lines",
         2021,
         2,
         0.8878695208970439,
         9,
         "Low"
        ],
        [
         "Alaska Airlines Inc.",
         2021,
         2,
         0.7520288548241659,
         10,
         "Low"
        ],
        [
         "American Airlines Inc.",
         2021,
         2,
         -0.622895622895623,
         11,
         "Low"
        ],
        [
         "United Air Lines Inc.",
         2021,
         2,
         -2.3781474820143886,
         12,
         "Low"
        ],
        [
         "Southwest Airlines Co.",
         2021,
         2,
         -2.625842008573178,
         13,
         "Low"
        ],
        [
         "PSA Airlines Inc.",
         2021,
         2,
         -3.2534364261168385,
         14,
         "Low"
        ],
        [
         "Delta Air Lines Inc.",
         2021,
         2,
         -4.100661625708884,
         15,
         "Low"
        ],
        [
         "Endeavor Air Inc.",
         2021,
         2,
         -6.044585987261146,
         16,
         "Low"
        ],
        [
         "Hawaiian Airlines Inc.",
         2021,
         2,
         -6.1992481203007515,
         17,
         "Low"
        ],
        [
         "Allegiant Air",
         2021,
         3,
         1.3707317073170733,
         1,
         "Low"
        ],
        [
         "Spirit Air Lines",
         2021,
         3,
         0.3514467184191955,
         2,
         "Low"
        ],
        [
         "Hawaiian Airlines Inc.",
         2021,
         3,
         -0.24629080118694363,
         3,
         "Low"
        ],
        [
         "Horizon Air",
         2021,
         3,
         -1.2222222222222223,
         4,
         "Low"
        ],
        [
         "Southwest Airlines Co.",
         2021,
         3,
         -2.337223739756643,
         5,
         "Low"
        ],
        [
         "Envoy Air",
         2021,
         3,
         -3.6917670682730925,
         6,
         "Low"
        ],
        [
         "Alaska Airlines Inc.",
         2021,
         3,
         -3.9167249825052486,
         7,
         "Low"
        ],
        [
         "SkyWest Airlines Inc.",
         2021,
         3,
         -4.060669456066946,
         8,
         "Low"
        ],
        [
         "Mesa Airlines Inc.",
         2021,
         3,
         -4.240369799691834,
         9,
         "Low"
        ],
        [
         "Frontier Airlines Inc.",
         2021,
         3,
         -4.746108949416342,
         10,
         "Low"
        ],
        [
         "United Air Lines Inc.",
         2021,
         3,
         -5.293914246196404,
         11,
         "Low"
        ],
        [
         "PSA Airlines Inc.",
         2021,
         3,
         -5.495061728395061,
         12,
         "Low"
        ],
        [
         "American Airlines Inc.",
         2021,
         3,
         -5.932106598984771,
         13,
         "Low"
        ],
        [
         "JetBlue Airways",
         2021,
         3,
         -6.913922155688622,
         14,
         "Low"
        ],
        [
         "Delta Air Lines Inc.",
         2021,
         3,
         -7.105888612983327,
         15,
         "Low"
        ],
        [
         "Republic Airline",
         2021,
         3,
         -7.238532110091743,
         16,
         "Low"
        ],
        [
         "Endeavor Air Inc.",
         2021,
         3,
         -10.677667269439421,
         17,
         "Low"
        ],
        [
         "Allegiant Air",
         2021,
         4,
         10.849740932642487,
         1,
         "Medium"
        ],
        [
         "Spirit Air Lines",
         2021,
         4,
         9.537190082644628,
         2,
         "Low"
        ],
        [
         "Frontier Airlines Inc.",
         2021,
         4,
         4.333933393339334,
         3,
         "Low"
        ],
        [
         "Mesa Airlines Inc.",
         2021,
         4,
         1.7867820613690009,
         4,
         "Low"
        ],
        [
         "JetBlue Airways",
         2021,
         4,
         0.05012531328320802,
         5,
         "Low"
        ],
        [
         "Envoy Air",
         2021,
         4,
         -1.8872802481902793,
         6,
         "Low"
        ],
        [
         "Hawaiian Airlines Inc.",
         2021,
         4,
         -3.101736972704715,
         7,
         "Low"
        ],
        [
         "United Air Lines Inc.",
         2021,
         4,
         -3.2431289640591965,
         8,
         "Low"
        ],
        [
         "Southwest Airlines Co.",
         2021,
         4,
         -3.281790820165538,
         9,
         "Low"
        ],
        [
         "Horizon Air",
         2021,
         4,
         -3.669,
         10,
         "Low"
        ],
        [
         "Alaska Airlines Inc.",
         2021,
         4,
         -4.156741957563312,
         11,
         "Low"
        ],
        [
         "Delta Air Lines Inc.",
         2021,
         4,
         -4.621353979114152,
         12,
         "Low"
        ],
        [
         "American Airlines Inc.",
         2021,
         4,
         -5.043224957714715,
         13,
         "Low"
        ],
        [
         "SkyWest Airlines Inc.",
         2021,
         4,
         -6.139137931034483,
         14,
         "Low"
        ],
        [
         "Republic Airline",
         2021,
         4,
         -7.354933726067746,
         15,
         "Low"
        ],
        [
         "PSA Airlines Inc.",
         2021,
         4,
         -7.848582129481006,
         16,
         "Low"
        ],
        [
         "Endeavor Air Inc.",
         2021,
         4,
         -13.001381851681252,
         17,
         "Low"
        ],
        [
         "Mesa Airlines Inc.",
         2021,
         5,
         9.361370716510903,
         1,
         "Low"
        ],
        [
         "Allegiant Air",
         2021,
         5,
         9.161538461538461,
         2,
         "Low"
        ],
        [
         "Envoy Air",
         2021,
         5,
         3.513744075829384,
         3,
         "Low"
        ],
        [
         "Southwest Airlines Co.",
         2021,
         5,
         2.672824116047144,
         4,
         "Low"
        ],
        [
         "Spirit Air Lines",
         2021,
         5,
         2.6211683053788315,
         5,
         "Low"
        ],
        [
         "JetBlue Airways",
         2021,
         5,
         1.2390829694323144,
         6,
         "Low"
        ],
        [
         "American Airlines Inc.",
         2021,
         5,
         0.6695992179863147,
         7,
         "Low"
        ],
        [
         "Hawaiian Airlines Inc.",
         2021,
         5,
         -1.4848484848484849,
         8,
         "Low"
        ],
        [
         "SkyWest Airlines Inc.",
         2021,
         5,
         -1.600227420402859,
         9,
         "Low"
        ],
        [
         "Horizon Air",
         2021,
         5,
         -1.6596596596596596,
         10,
         "Low"
        ],
        [
         "PSA Airlines Inc.",
         2021,
         5,
         -1.7220095693779904,
         11,
         "Low"
        ],
        [
         "Frontier Airlines Inc.",
         2021,
         5,
         -2.077932731747334,
         12,
         "Low"
        ],
        [
         "United Air Lines Inc.",
         2021,
         5,
         -2.4359974009096814,
         13,
         "Low"
        ],
        [
         "Delta Air Lines Inc.",
         2021,
         5,
         -3.1382743362831858,
         14,
         "Low"
        ],
        [
         "Alaska Airlines Inc.",
         2021,
         5,
         -4.605744125326371,
         15,
         "Low"
        ],
        [
         "Endeavor Air Inc.",
         2021,
         5,
         -5.9250732524068646,
         16,
         "Low"
        ],
        [
         "Republic Airline",
         2021,
         5,
         -6.706079946254619,
         17,
         "Low"
        ],
        [
         "Allegiant Air",
         2021,
         6,
         29.55870108243131,
         1,
         "High"
        ],
        [
         "Mesa Airlines Inc.",
         2021,
         6,
         21.735543018335683,
         2,
         "High"
        ],
        [
         "JetBlue Airways",
         2021,
         6,
         19.778474399164054,
         3,
         "Medium"
        ],
        [
         "Southwest Airlines Co.",
         2021,
         6,
         18.223111658456485,
         4,
         "Medium"
        ],
        [
         "Frontier Airlines Inc.",
         2021,
         6,
         13.303265940902023,
         5,
         "Medium"
        ],
        [
         "American Airlines Inc.",
         2021,
         6,
         13.094836363636364,
         6,
         "Medium"
        ],
        [
         "Spirit Air Lines",
         2021,
         6,
         11.962252475247524,
         7,
         "Medium"
        ],
        [
         "United Air Lines Inc.",
         2021,
         6,
         10.503452085059376,
         8,
         "Medium"
        ],
        [
         "Republic Airline",
         2021,
         6,
         9.518132975151108,
         9,
         "Low"
        ],
        [
         "SkyWest Airlines Inc.",
         2021,
         6,
         9.400916211024088,
         10,
         "Low"
        ],
        [
         "PSA Airlines Inc.",
         2021,
         6,
         5.603590490053372,
         11,
         "Low"
        ],
        [
         "Envoy Air",
         2021,
         6,
         5.586730268863834,
         12,
         "Low"
        ],
        [
         "Alaska Airlines Inc.",
         2021,
         6,
         3.9874626865671643,
         13,
         "Low"
        ],
        [
         "Horizon Air",
         2021,
         6,
         1.9048067860508955,
         14,
         "Low"
        ],
        [
         "Hawaiian Airlines Inc.",
         2021,
         6,
         0.835820895522388,
         15,
         "Low"
        ],
        [
         "Delta Air Lines Inc.",
         2021,
         6,
         -0.32762539778754357,
         16,
         "Low"
        ],
        [
         "Endeavor Air Inc.",
         2021,
         6,
         -2.8887171561051006,
         17,
         "Low"
        ],
        [
         "JetBlue Airways",
         2021,
         7,
         33.76579739217653,
         1,
         "High"
        ],
        [
         "Allegiant Air",
         2021,
         7,
         31.3587842846553,
         2,
         "High"
        ],
        [
         "Mesa Airlines Inc.",
         2021,
         7,
         24.469895287958114,
         3,
         "High"
        ],
        [
         "Frontier Airlines Inc.",
         2021,
         7,
         24.112191473448018,
         4,
         "High"
        ],
        [
         "Spirit Air Lines",
         2021,
         7,
         21.1605,
         5,
         "High"
        ],
        [
         "United Air Lines Inc.",
         2021,
         7,
         15.240793201133144,
         6,
         "Medium"
        ],
        [
         "SkyWest Airlines Inc.",
         2021,
         7,
         13.451995097371647,
         7,
         "Medium"
        ],
        [
         "Southwest Airlines Co.",
         2021,
         7,
         12.92064105039583,
         8,
         "Medium"
        ],
        [
         "American Airlines Inc.",
         2021,
         7,
         12.342398022249691,
         9,
         "Medium"
        ],
        [
         "Republic Airline",
         2021,
         7,
         10.555417185554171,
         10,
         "Medium"
        ],
        [
         "PSA Airlines Inc.",
         2021,
         7,
         8.578066914498141,
         11,
         "Low"
        ],
        [
         "Envoy Air",
         2021,
         7,
         6.290229885057471,
         12,
         "Low"
        ],
        [
         "Alaska Airlines Inc.",
         2021,
         7,
         2.722606689734717,
         13,
         "Low"
        ],
        [
         "Delta Air Lines Inc.",
         2021,
         7,
         2.302456140350877,
         14,
         "Low"
        ],
        [
         "Horizon Air",
         2021,
         7,
         0.7839607201309329,
         15,
         "Low"
        ],
        [
         "Hawaiian Airlines Inc.",
         2021,
         7,
         0.16993464052287582,
         16,
         "Low"
        ],
        [
         "Endeavor Air Inc.",
         2021,
         7,
         -2.9734001542020048,
         17,
         "Low"
        ],
        [
         "JetBlue Airways",
         2021,
         8,
         17.95024154589372,
         1,
         "Medium"
        ],
        [
         "Allegiant Air",
         2021,
         8,
         17.640776699029125,
         2,
         "Medium"
        ],
        [
         "Mesa Airlines Inc.",
         2021,
         8,
         16.839058524173026,
         3,
         "Medium"
        ],
        [
         "Frontier Airlines Inc.",
         2021,
         8,
         15.343522561863173,
         4,
         "Medium"
        ],
        [
         "Spirit Air Lines",
         2021,
         8,
         12.587464387464388,
         5,
         "Medium"
        ],
        [
         "SkyWest Airlines Inc.",
         2021,
         8,
         12.200278940027895,
         6,
         "Medium"
        ],
        [
         "Southwest Airlines Co.",
         2021,
         8,
         12.019697263729865,
         7,
         "Medium"
        ],
        [
         "United Air Lines Inc.",
         2021,
         8,
         11.540780141843971,
         8,
         "Medium"
        ],
        [
         "Republic Airline",
         2021,
         8,
         10.304222648752399,
         9,
         "Medium"
        ],
        [
         "American Airlines Inc.",
         2021,
         8,
         9.177808792742498,
         10,
         "Low"
        ],
        [
         "PSA Airlines Inc.",
         2021,
         8,
         9.002838221381268,
         11,
         "Low"
        ],
        [
         "Envoy Air",
         2021,
         8,
         5.879692832764505,
         12,
         "Low"
        ],
        [
         "Alaska Airlines Inc.",
         2021,
         8,
         3.818773738469886,
         13,
         "Low"
        ],
        [
         "Horizon Air",
         2021,
         8,
         2.855421686746988,
         14,
         "Low"
        ],
        [
         "Delta Air Lines Inc.",
         2021,
         8,
         0.845423632757155,
         15,
         "Low"
        ],
        [
         "Endeavor Air Inc.",
         2021,
         8,
         -1.5227568270481144,
         16,
         "Low"
        ],
        [
         "Hawaiian Airlines Inc.",
         2021,
         8,
         -2.0197268588770867,
         17,
         "Low"
        ],
        [
         "Allegiant Air",
         2021,
         9,
         13.957290132547865,
         1,
         "Medium"
        ],
        [
         "JetBlue Airways",
         2021,
         9,
         6.242356864924958,
         2,
         "Low"
        ],
        [
         "Frontier Airlines Inc.",
         2021,
         9,
         3.555993690851735,
         3,
         "Low"
        ],
        [
         "Spirit Air Lines",
         2021,
         9,
         2.6642212189616252,
         4,
         "Low"
        ],
        [
         "SkyWest Airlines Inc.",
         2021,
         9,
         2.457856093979442,
         5,
         "Low"
        ],
        [
         "Southwest Airlines Co.",
         2021,
         9,
         2.1200535861500414,
         6,
         "Low"
        ],
        [
         "PSA Airlines Inc.",
         2021,
         9,
         0.7032457496136012,
         7,
         "Low"
        ],
        [
         "United Air Lines Inc.",
         2021,
         9,
         0.5091030195381883,
         8,
         "Low"
        ],
        [
         "Horizon Air",
         2021,
         9,
         -0.6684210526315789,
         9,
         "Low"
        ],
        [
         "Mesa Airlines Inc.",
         2021,
         9,
         -0.6748423265592152,
         10,
         "Low"
        ],
        [
         "American Airlines Inc.",
         2021,
         9,
         -0.8675457875457876,
         11,
         "Low"
        ],
        [
         "Delta Air Lines Inc.",
         2021,
         9,
         -1.4616398243045388,
         12,
         "Low"
        ],
        [
         "Hawaiian Airlines Inc.",
         2021,
         9,
         -2.420221169036335,
         13,
         "Low"
        ],
        [
         "Republic Airline",
         2021,
         9,
         -2.5082022095748244,
         14,
         "Low"
        ],
        [
         "Alaska Airlines Inc.",
         2021,
         9,
         -2.597380410022779,
         15,
         "Low"
        ],
        [
         "Envoy Air",
         2021,
         9,
         -3.1873001370488807,
         16,
         "Low"
        ],
        [
         "Endeavor Air Inc.",
         2021,
         9,
         -4.48792270531401,
         17,
         "Low"
        ],
        [
         "Allegiant Air",
         2021,
         10,
         18.10301768990635,
         1,
         "Medium"
        ],
        [
         "Southwest Airlines Co.",
         2021,
         10,
         10.400732383214569,
         2,
         "Medium"
        ],
        [
         "Mesa Airlines Inc.",
         2021,
         10,
         8.655294953802416,
         3,
         "Low"
        ],
        [
         "SkyWest Airlines Inc.",
         2021,
         10,
         8.128835247927876,
         4,
         "Low"
        ],
        [
         "Frontier Airlines Inc.",
         2021,
         10,
         5.008116883116883,
         5,
         "Low"
        ],
        [
         "American Airlines Inc.",
         2021,
         10,
         4.541104642907852,
         6,
         "Low"
        ],
        [
         "JetBlue Airways",
         2021,
         10,
         4.5383033419023135,
         7,
         "Low"
        ],
        [
         "Spirit Air Lines",
         2021,
         10,
         2.085681426106958,
         8,
         "Low"
        ],
        [
         "Envoy Air",
         2021,
         10,
         0.5410928476232786,
         9,
         "Low"
        ],
        [
         "Alaska Airlines Inc.",
         2021,
         10,
         0.11123658949745906,
         10,
         "Low"
        ],
        [
         "Delta Air Lines Inc.",
         2021,
         10,
         0.005661419497376415,
         11,
         "Low"
        ],
        [
         "Horizon Air",
         2021,
         10,
         -0.3764861294583884,
         12,
         "Low"
        ],
        [
         "United Air Lines Inc.",
         2021,
         10,
         -0.6894891122278057,
         13,
         "Low"
        ],
        [
         "PSA Airlines Inc.",
         2021,
         10,
         -1.5223148602256007,
         14,
         "Low"
        ],
        [
         "Republic Airline",
         2021,
         10,
         -2.523505708529214,
         15,
         "Low"
        ],
        [
         "Hawaiian Airlines Inc.",
         2021,
         10,
         -2.61340206185567,
         16,
         "Low"
        ],
        [
         "Endeavor Air Inc.",
         2021,
         10,
         -3.063296341964653,
         17,
         "Low"
        ],
        [
         "Allegiant Air",
         2021,
         11,
         14.830734966592427,
         1,
         "Medium"
        ],
        [
         "Mesa Airlines Inc.",
         2021,
         11,
         8.4996138996139,
         2,
         "Low"
        ],
        [
         "JetBlue Airways",
         2021,
         11,
         4.5547150781643975,
         3,
         "Low"
        ],
        [
         "Frontier Airlines Inc.",
         2021,
         11,
         3.9750378214826023,
         4,
         "Low"
        ],
        [
         "Spirit Air Lines",
         2021,
         11,
         3.228948816730875,
         5,
         "Low"
        ],
        [
         "SkyWest Airlines Inc.",
         2021,
         11,
         2.0354116222760292,
         6,
         "Low"
        ],
        [
         "Southwest Airlines Co.",
         2021,
         11,
         1.6709978682367272,
         7,
         "Low"
        ],
        [
         "Alaska Airlines Inc.",
         2021,
         11,
         1.2183381088825216,
         8,
         "Low"
        ],
        [
         "American Airlines Inc.",
         2021,
         11,
         0.7,
         9,
         "Low"
        ],
        [
         "PSA Airlines Inc.",
         2021,
         11,
         0.09140586189766518,
         10,
         "Low"
        ],
        [
         "Horizon Air",
         2021,
         11,
         -0.6405405405405405,
         11,
         "Low"
        ],
        [
         "United Air Lines Inc.",
         2021,
         11,
         -0.9578464106844741,
         12,
         "Low"
        ],
        [
         "Republic Airline",
         2021,
         11,
         -1.8915881073241478,
         13,
         "Low"
        ],
        [
         "Envoy Air",
         2021,
         11,
         -2.195831524099001,
         14,
         "Low"
        ],
        [
         "Hawaiian Airlines Inc.",
         2021,
         11,
         -2.596345514950166,
         15,
         "Low"
        ],
        [
         "Delta Air Lines Inc.",
         2021,
         11,
         -2.7836313617606603,
         16,
         "Low"
        ],
        [
         "Endeavor Air Inc.",
         2021,
         11,
         -4.792153199439515,
         17,
         "Low"
        ],
        [
         "Allegiant Air",
         2021,
         12,
         19.35152151101784,
         1,
         "Medium"
        ],
        [
         "JetBlue Airways",
         2021,
         12,
         17.8197729422895,
         2,
         "Medium"
        ],
        [
         "Horizon Air",
         2021,
         12,
         13.731283422459892,
         3,
         "Medium"
        ],
        [
         "Alaska Airlines Inc.",
         2021,
         12,
         13.282428115015975,
         4,
         "Medium"
        ],
        [
         "Frontier Airlines Inc.",
         2021,
         12,
         12.244477172312223,
         5,
         "Medium"
        ],
        [
         "SkyWest Airlines Inc.",
         2021,
         12,
         11.784986679203886,
         6,
         "Medium"
        ],
        [
         "Southwest Airlines Co.",
         2021,
         12,
         9.03713768115942,
         7,
         "Low"
        ],
        [
         "United Air Lines Inc.",
         2021,
         12,
         8.289644012944985,
         8,
         "Low"
        ],
        [
         "Spirit Air Lines",
         2021,
         12,
         7.825,
         9,
         "Low"
        ],
        [
         "Hawaiian Airlines Inc.",
         2021,
         12,
         7.627627627627628,
         10,
         "Low"
        ],
        [
         "Mesa Airlines Inc.",
         2021,
         12,
         7.5542071197411005,
         11,
         "Low"
        ],
        [
         "Delta Air Lines Inc.",
         2021,
         12,
         5.453949285922471,
         12,
         "Low"
        ],
        [
         "PSA Airlines Inc.",
         2021,
         12,
         1.6184084372003835,
         13,
         "Low"
        ],
        [
         "American Airlines Inc.",
         2021,
         12,
         0.819955715471907,
         14,
         "Low"
        ],
        [
         "Envoy Air",
         2021,
         12,
         -0.5368869936034115,
         15,
         "Low"
        ],
        [
         "Republic Airline",
         2021,
         12,
         -0.9402560455192034,
         16,
         "Low"
        ],
        [
         "Endeavor Air Inc.",
         2021,
         12,
         -3.340634778721502,
         17,
         "Low"
        ],
        [
         "JetBlue Airways",
         2022,
         1,
         17.998471726948548,
         1,
         "Medium"
        ],
        [
         "Allegiant Air",
         2022,
         1,
         11.220663265306122,
         2,
         "Medium"
        ],
        [
         "Horizon Air",
         2022,
         1,
         10.324468085106384,
         3,
         "Medium"
        ],
        [
         "PSA Airlines Inc.",
         2022,
         1,
         10.107433532284318,
         4,
         "Medium"
        ],
        [
         "Mesa Airlines Inc.",
         2022,
         1,
         9.740963855421686,
         5,
         "Low"
        ],
        [
         "Frontier Airlines Inc.",
         2022,
         1,
         8.452181208053691,
         6,
         "Low"
        ],
        [
         "Hawaiian Airlines Inc.",
         2022,
         1,
         8.208406304728546,
         7,
         "Low"
        ],
        [
         "Spirit Air Lines",
         2022,
         1,
         8.125979505726342,
         8,
         "Low"
        ],
        [
         "SkyWest Airlines Inc.",
         2022,
         1,
         7.11485348602223,
         9,
         "Low"
        ],
        [
         "Alaska Airlines Inc.",
         2022,
         1,
         5.873362445414847,
         10,
         "Low"
        ],
        [
         "United Air Lines Inc.",
         2022,
         1,
         5.084269662921348,
         11,
         "Low"
        ],
        [
         "Republic Airline",
         2022,
         1,
         4.685894903200316,
         12,
         "Low"
        ],
        [
         "Endeavor Air Inc.",
         2022,
         1,
         2.236009732360097,
         13,
         "Low"
        ],
        [
         "Southwest Airlines Co.",
         2022,
         1,
         2.127373586515895,
         14,
         "Low"
        ],
        [
         "American Airlines Inc.",
         2022,
         1,
         -0.7295673076923077,
         15,
         "Low"
        ],
        [
         "Delta Air Lines Inc.",
         2022,
         1,
         -0.9499852897911151,
         16,
         "Low"
        ],
        [
         "Envoy Air",
         2022,
         1,
         -1.5591743119266055,
         17,
         "Low"
        ],
        [
         "JetBlue Airways",
         2022,
         2,
         20.571787148594378,
         1,
         "High"
        ],
        [
         "Allegiant Air",
         2022,
         2,
         13.890330188679245,
         2,
         "Medium"
        ],
        [
         "Spirit Air Lines",
         2022,
         2,
         13.432464454976303,
         3,
         "Medium"
        ],
        [
         "Frontier Airlines Inc.",
         2022,
         2,
         12.466417910447761,
         4,
         "Medium"
        ],
        [
         "Mesa Airlines Inc.",
         2022,
         2,
         9.141630901287554,
         5,
         "Low"
        ],
        [
         "American Airlines Inc.",
         2022,
         2,
         8.747730220492866,
         6,
         "Low"
        ],
        [
         "PSA Airlines Inc.",
         2022,
         2,
         7.975789473684211,
         7,
         "Low"
        ],
        [
         "SkyWest Airlines Inc.",
         2022,
         2,
         6.536321195144724,
         8,
         "Low"
        ],
        [
         "Republic Airline",
         2022,
         2,
         5.548539518900344,
         9,
         "Low"
        ],
        [
         "United Air Lines Inc.",
         2022,
         2,
         2.8704472106961734,
         10,
         "Low"
        ],
        [
         "Endeavor Air Inc.",
         2022,
         2,
         1.6042345276872965,
         11,
         "Low"
        ],
        [
         "Horizon Air",
         2022,
         2,
         1.5106382978723405,
         12,
         "Low"
        ],
        [
         "Envoy Air",
         2022,
         2,
         1.2982180293501049,
         13,
         "Low"
        ],
        [
         "Southwest Airlines Co.",
         2022,
         2,
         -0.1911929903392496,
         14,
         "Low"
        ],
        [
         "Alaska Airlines Inc.",
         2022,
         2,
         -0.4269230769230769,
         15,
         "Low"
        ],
        [
         "Hawaiian Airlines Inc.",
         2022,
         2,
         -0.6063157894736843,
         16,
         "Low"
        ],
        [
         "Delta Air Lines Inc.",
         2022,
         2,
         -1.3037994639760366,
         17,
         "Low"
        ],
        [
         "Frontier Airlines Inc.",
         2022,
         3,
         26.564437194127244,
         1,
         "High"
        ],
        [
         "Allegiant Air",
         2022,
         3,
         20.870547350130323,
         2,
         "High"
        ],
        [
         "JetBlue Airways",
         2022,
         3,
         19.283595113438047,
         3,
         "Medium"
        ],
        [
         "Spirit Air Lines",
         2022,
         3,
         17.25232678386763,
         4,
         "Medium"
        ],
        [
         "Southwest Airlines Co.",
         2022,
         3,
         8.556962025316455,
         5,
         "Low"
        ],
        [
         "PSA Airlines Inc.",
         2022,
         3,
         7.8173515981735155,
         6,
         "Low"
        ],
        [
         "Republic Airline",
         2022,
         3,
         6.952557200538358,
         7,
         "Low"
        ],
        [
         "Endeavor Air Inc.",
         2022,
         3,
         5.651764705882353,
         8,
         "Low"
        ],
        [
         "American Airlines Inc.",
         2022,
         3,
         5.415493938971715,
         9,
         "Low"
        ],
        [
         "United Air Lines Inc.",
         2022,
         3,
         5.297673531655225,
         10,
         "Low"
        ],
        [
         "Delta Air Lines Inc.",
         2022,
         3,
         5.047055695866011,
         11,
         "Low"
        ],
        [
         "SkyWest Airlines Inc.",
         2022,
         3,
         4.5456168831168835,
         12,
         "Low"
        ],
        [
         "Hawaiian Airlines Inc.",
         2022,
         3,
         4.4139693356047704,
         13,
         "Low"
        ],
        [
         "Mesa Airlines Inc.",
         2022,
         3,
         3.406798245614035,
         14,
         "Low"
        ],
        [
         "Horizon Air",
         2022,
         3,
         1.7474489795918366,
         15,
         "Low"
        ],
        [
         "Alaska Airlines Inc.",
         2022,
         3,
         0.8412127440904419,
         16,
         "Low"
        ],
        [
         "Envoy Air",
         2022,
         3,
         0.1487935656836461,
         17,
         "Low"
        ],
        [
         "JetBlue Airways",
         2022,
         4,
         30.143116765106768,
         1,
         "High"
        ],
        [
         "Frontier Airlines Inc.",
         2022,
         4,
         25.616426756985604,
         2,
         "High"
        ],
        [
         "Allegiant Air",
         2022,
         4,
         23.84976076555024,
         3,
         "High"
        ],
        [
         "Spirit Air Lines",
         2022,
         4,
         22.361359570661897,
         4,
         "High"
        ],
        [
         "Southwest Airlines Co.",
         2022,
         4,
         11.142898355611116,
         5,
         "Medium"
        ],
        [
         "American Airlines Inc.",
         2022,
         4,
         8.090949488964597,
         6,
         "Low"
        ],
        [
         "United Air Lines Inc.",
         2022,
         4,
         6.196454045241492,
         7,
         "Low"
        ],
        [
         "Horizon Air",
         2022,
         4,
         5.993464052287582,
         8,
         "Low"
        ],
        [
         "Alaska Airlines Inc.",
         2022,
         4,
         5.929741151611199,
         9,
         "Low"
        ],
        [
         "SkyWest Airlines Inc.",
         2022,
         4,
         5.386755790455464,
         10,
         "Low"
        ],
        [
         "Envoy Air",
         2022,
         4,
         4.5436115040075435,
         11,
         "Low"
        ],
        [
         "Hawaiian Airlines Inc.",
         2022,
         4,
         3.779050736497545,
         12,
         "Low"
        ],
        [
         "Republic Airline",
         2022,
         4,
         3.763690673747096,
         13,
         "Low"
        ],
        [
         "Delta Air Lines Inc.",
         2022,
         4,
         3.578570463450885,
         14,
         "Low"
        ],
        [
         "PSA Airlines Inc.",
         2022,
         4,
         2.919372294372294,
         15,
         "Low"
        ],
        [
         "Mesa Airlines Inc.",
         2022,
         4,
         2.664085188770571,
         16,
         "Low"
        ],
        [
         "Endeavor Air Inc.",
         2022,
         4,
         0.4302612124199113,
         17,
         "Low"
        ],
        [
         "Frontier Airlines Inc.",
         2022,
         5,
         20.2048,
         1,
         "High"
        ],
        [
         "Allegiant Air",
         2022,
         5,
         16.8191161356629,
         2,
         "Medium"
        ],
        [
         "Spirit Air Lines",
         2022,
         5,
         14.325146823278164,
         3,
         "Medium"
        ],
        [
         "JetBlue Airways",
         2022,
         5,
         11.951817413355874,
         4,
         "Medium"
        ],
        [
         "Republic Airline",
         2022,
         5,
         11.878520529351883,
         5,
         "Medium"
        ],
        [
         "United Air Lines Inc.",
         2022,
         5,
         9.289147577919639,
         6,
         "Low"
        ],
        [
         "American Airlines Inc.",
         2022,
         5,
         8.348922902494332,
         7,
         "Low"
        ],
        [
         "PSA Airlines Inc.",
         2022,
         5,
         8.241176470588234,
         8,
         "Low"
        ],
        [
         "Southwest Airlines Co.",
         2022,
         5,
         5.552389705882353,
         9,
         "Low"
        ],
        [
         "SkyWest Airlines Inc.",
         2022,
         5,
         5.506392358559882,
         10,
         "Low"
        ],
        [
         "Mesa Airlines Inc.",
         2022,
         5,
         5.444878048780488,
         11,
         "Low"
        ],
        [
         "Horizon Air",
         2022,
         5,
         4.645584725536993,
         12,
         "Low"
        ],
        [
         "Delta Air Lines Inc.",
         2022,
         5,
         4.103249475890985,
         13,
         "Low"
        ],
        [
         "Envoy Air",
         2022,
         5,
         3.237303370786517,
         14,
         "Low"
        ],
        [
         "Endeavor Air Inc.",
         2022,
         5,
         2.7078986587183307,
         15,
         "Low"
        ],
        [
         "Alaska Airlines Inc.",
         2022,
         5,
         2.5462487153134634,
         16,
         "Low"
        ],
        [
         "Hawaiian Airlines Inc.",
         2022,
         5,
         1.3128654970760234,
         17,
         "Low"
        ],
        [
         "JetBlue Airways",
         2022,
         6,
         25.322926829268294,
         1,
         "High"
        ],
        [
         "Allegiant Air",
         2022,
         6,
         23.13835376532399,
         2,
         "High"
        ],
        [
         "American Airlines Inc.",
         2022,
         6,
         18.848245737635622,
         3,
         "Medium"
        ],
        [
         "Mesa Airlines Inc.",
         2022,
         6,
         17.048756218905474,
         4,
         "Medium"
        ],
        [
         "Frontier Airlines Inc.",
         2022,
         6,
         16.01924619085806,
         5,
         "Medium"
        ],
        [
         "PSA Airlines Inc.",
         2022,
         6,
         11.474352194606029,
         6,
         "Medium"
        ],
        [
         "Republic Airline",
         2022,
         6,
         9.972794403420131,
         7,
         "Low"
        ],
        [
         "Southwest Airlines Co.",
         2022,
         6,
         9.624617323969026,
         8,
         "Low"
        ],
        [
         "United Air Lines Inc.",
         2022,
         6,
         9.519234449760766,
         9,
         "Low"
        ],
        [
         "Endeavor Air Inc.",
         2022,
         6,
         9.16217672413793,
         10,
         "Low"
        ],
        [
         "SkyWest Airlines Inc.",
         2022,
         6,
         8.198918444899153,
         11,
         "Low"
        ],
        [
         "Spirit Air Lines",
         2022,
         6,
         7.6388125343595386,
         12,
         "Low"
        ],
        [
         "Delta Air Lines Inc.",
         2022,
         6,
         7.0666753995284255,
         13,
         "Low"
        ],
        [
         "Hawaiian Airlines Inc.",
         2022,
         6,
         5.783076923076923,
         14,
         "Low"
        ],
        [
         "Horizon Air",
         2022,
         6,
         4.965217391304348,
         15,
         "Low"
        ],
        [
         "Alaska Airlines Inc.",
         2022,
         6,
         4.323278029160382,
         16,
         "Low"
        ],
        [
         "Envoy Air",
         2022,
         6,
         3.358293838862559,
         17,
         "Low"
        ],
        [
         "Allegiant Air",
         2022,
         7,
         29.481927710843372,
         1,
         "High"
        ],
        [
         "JetBlue Airways",
         2022,
         7,
         19.268207588312254,
         2,
         "Medium"
        ],
        [
         "American Airlines Inc.",
         2022,
         7,
         17.3492020919941,
         3,
         "Medium"
        ],
        [
         "Frontier Airlines Inc.",
         2022,
         7,
         13.300933125972007,
         4,
         "Medium"
        ],
        [
         "Southwest Airlines Co.",
         2022,
         7,
         12.733010923038439,
         5,
         "Medium"
        ],
        [
         "PSA Airlines Inc.",
         2022,
         7,
         11.63393810032017,
         6,
         "Medium"
        ],
        [
         "Mesa Airlines Inc.",
         2022,
         7,
         9.48619957537155,
         7,
         "Low"
        ],
        [
         "Republic Airline",
         2022,
         7,
         7.287978353304987,
         8,
         "Low"
        ],
        [
         "United Air Lines Inc.",
         2022,
         7,
         6.668434075645104,
         9,
         "Low"
        ],
        [
         "Endeavor Air Inc.",
         2022,
         7,
         5.889549281822685,
         10,
         "Low"
        ],
        [
         "SkyWest Airlines Inc.",
         2022,
         7,
         5.711969696969697,
         11,
         "Low"
        ],
        [
         "Hawaiian Airlines Inc.",
         2022,
         7,
         5.467391304347826,
         12,
         "Low"
        ],
        [
         "Envoy Air",
         2022,
         7,
         5.355016032982134,
         13,
         "Low"
        ],
        [
         "Delta Air Lines Inc.",
         2022,
         7,
         5.072069761477302,
         14,
         "Low"
        ],
        [
         "Spirit Air Lines",
         2022,
         7,
         4.262487257900102,
         15,
         "Low"
        ],
        [
         "Alaska Airlines Inc.",
         2022,
         7,
         1.463131313131313,
         16,
         "Low"
        ],
        [
         "Horizon Air",
         2022,
         7,
         0.7865921787709497,
         17,
         "Low"
        ],
        [
         "Allegiant Air",
         2022,
         8,
         18.831533477321813,
         1,
         "Medium"
        ],
        [
         "Frontier Airlines Inc.",
         2022,
         8,
         17.73105497771174,
         2,
         "Medium"
        ],
        [
         "JetBlue Airways",
         2022,
         8,
         16.87816387816388,
         3,
         "Medium"
        ],
        [
         "Mesa Airlines Inc.",
         2022,
         8,
         14.769942196531792,
         4,
         "Medium"
        ],
        [
         "American Airlines Inc.",
         2022,
         8,
         12.855244111067245,
         5,
         "Medium"
        ],
        [
         "Southwest Airlines Co.",
         2022,
         8,
         12.685726459309757,
         6,
         "Medium"
        ],
        [
         "United Air Lines Inc.",
         2022,
         8,
         7.258251722887196,
         7,
         "Low"
        ],
        [
         "PSA Airlines Inc.",
         2022,
         8,
         7.255428571428571,
         8,
         "Low"
        ],
        [
         "Hawaiian Airlines Inc.",
         2022,
         8,
         6.154761904761905,
         9,
         "Low"
        ],
        [
         "Envoy Air",
         2022,
         8,
         5.626603325415677,
         10,
         "Low"
        ],
        [
         "Republic Airline",
         2022,
         8,
         5.1451027811366385,
         11,
         "Low"
        ],
        [
         "SkyWest Airlines Inc.",
         2022,
         8,
         4.917043505379698,
         12,
         "Low"
        ],
        [
         "Spirit Air Lines",
         2022,
         8,
         3.696107784431138,
         13,
         "Low"
        ],
        [
         "Delta Air Lines Inc.",
         2022,
         8,
         3.1204379562043796,
         14,
         "Low"
        ],
        [
         "Endeavor Air Inc.",
         2022,
         8,
         2.9936974789915967,
         15,
         "Low"
        ],
        [
         "Alaska Airlines Inc.",
         2022,
         8,
         1.3550863723608446,
         16,
         "Low"
        ],
        [
         "Horizon Air",
         2022,
         8,
         0.7477272727272727,
         17,
         "Low"
        ],
        [
         "JetBlue Airways",
         2022,
         9,
         13.88422035480859,
         1,
         "Medium"
        ],
        [
         "Frontier Airlines Inc.",
         2022,
         9,
         11.663670411985018,
         2,
         "Medium"
        ],
        [
         "Allegiant Air",
         2022,
         9,
         11.613960113960115,
         3,
         "Medium"
        ],
        [
         "American Airlines Inc.",
         2022,
         9,
         5.997765987154426,
         4,
         "Low"
        ],
        [
         "Southwest Airlines Co.",
         2022,
         9,
         4.45896117709626,
         5,
         "Low"
        ],
        [
         "Hawaiian Airlines Inc.",
         2022,
         9,
         3.349056603773585,
         6,
         "Low"
        ],
        [
         "Spirit Air Lines",
         2022,
         9,
         3.268641975308642,
         7,
         "Low"
        ],
        [
         "Horizon Air",
         2022,
         9,
         3.0520446096654275,
         8,
         "Low"
        ],
        [
         "Mesa Airlines Inc.",
         2022,
         9,
         2.1629542790152403,
         9,
         "Low"
        ],
        [
         "SkyWest Airlines Inc.",
         2022,
         9,
         1.0698417772095252,
         10,
         "Low"
        ],
        [
         "Alaska Airlines Inc.",
         2022,
         9,
         0.9888607594936709,
         11,
         "Low"
        ],
        [
         "Envoy Air",
         2022,
         9,
         -0.9251798561151079,
         12,
         "Low"
        ],
        [
         "Endeavor Air Inc.",
         2022,
         9,
         -1.3031798245614035,
         13,
         "Low"
        ],
        [
         "PSA Airlines Inc.",
         2022,
         9,
         -2.592857142857143,
         14,
         "Low"
        ],
        [
         "Republic Airline",
         2022,
         9,
         -2.935405732741219,
         15,
         "Low"
        ],
        [
         "United Air Lines Inc.",
         2022,
         9,
         -3.3135674534638264,
         16,
         "Low"
        ],
        [
         "Delta Air Lines Inc.",
         2022,
         9,
         -3.5879568761504075,
         17,
         "Low"
        ],
        [
         "Hawaiian Airlines Inc.",
         2022,
         10,
         19.076576576576578,
         1,
         "Medium"
        ],
        [
         "Frontier Airlines Inc.",
         2022,
         10,
         14.432525951557093,
         2,
         "Medium"
        ],
        [
         "JetBlue Airways",
         2022,
         10,
         11.82544507164568,
         3,
         "Medium"
        ],
        [
         "Allegiant Air",
         2022,
         10,
         9.405586592178771,
         4,
         "Low"
        ],
        [
         "American Airlines Inc.",
         2022,
         10,
         6.224439866082926,
         5,
         "Low"
        ],
        [
         "Southwest Airlines Co.",
         2022,
         10,
         2.758451656524679,
         6,
         "Low"
        ],
        [
         "Mesa Airlines Inc.",
         2022,
         10,
         2.752542372881356,
         7,
         "Low"
        ],
        [
         "Spirit Air Lines",
         2022,
         10,
         2.7234440804866638,
         8,
         "Low"
        ],
        [
         "Endeavor Air Inc.",
         2022,
         10,
         0.4760806916426513,
         9,
         "Low"
        ],
        [
         "Envoy Air",
         2022,
         10,
         0.1784424961320268,
         10,
         "Low"
        ],
        [
         "Republic Airline",
         2022,
         10,
         -0.7602315006200909,
         11,
         "Low"
        ],
        [
         "SkyWest Airlines Inc.",
         2022,
         10,
         -0.8131247984521123,
         12,
         "Low"
        ],
        [
         "Horizon Air",
         2022,
         10,
         -0.9688581314878892,
         13,
         "Low"
        ],
        [
         "Alaska Airlines Inc.",
         2022,
         10,
         -1.3523290386521307,
         14,
         "Low"
        ],
        [
         "PSA Airlines Inc.",
         2022,
         10,
         -1.5906862745098038,
         15,
         "Low"
        ],
        [
         "United Air Lines Inc.",
         2022,
         10,
         -1.6688799580639524,
         16,
         "Low"
        ],
        [
         "Delta Air Lines Inc.",
         2022,
         10,
         -2.8622723775327006,
         17,
         "Low"
        ],
        [
         "Frontier Airlines Inc.",
         2022,
         11,
         18.014893617021276,
         1,
         "Medium"
        ],
        [
         "Allegiant Air",
         2022,
         11,
         17.50175849941383,
         2,
         "Medium"
        ],
        [
         "Hawaiian Airlines Inc.",
         2022,
         11,
         16.55712050078247,
         3,
         "Medium"
        ],
        [
         "JetBlue Airways",
         2022,
         11,
         15.325642141924249,
         4,
         "Medium"
        ],
        [
         "Spirit Air Lines",
         2022,
         11,
         10.089792060491494,
         5,
         "Medium"
        ],
        [
         "American Airlines Inc.",
         2022,
         11,
         7.746228807902817,
         6,
         "Low"
        ],
        [
         "Horizon Air",
         2022,
         11,
         7.151119402985074,
         7,
         "Low"
        ],
        [
         "Envoy Air",
         2022,
         11,
         5.931969026548672,
         8,
         "Low"
        ],
        [
         "Endeavor Air Inc.",
         2022,
         11,
         5.0900062073246435,
         9,
         "Low"
        ],
        [
         "Alaska Airlines Inc.",
         2022,
         11,
         4.384533898305085,
         10,
         "Low"
        ],
        [
         "Mesa Airlines Inc.",
         2022,
         11,
         4.205156950672646,
         11,
         "Low"
        ],
        [
         "PSA Airlines Inc.",
         2022,
         11,
         3.932135728542914,
         12,
         "Low"
        ],
        [
         "SkyWest Airlines Inc.",
         2022,
         11,
         3.7139089150694566,
         13,
         "Low"
        ],
        [
         "Southwest Airlines Co.",
         2022,
         11,
         1.656303046546949,
         14,
         "Low"
        ],
        [
         "Delta Air Lines Inc.",
         2022,
         11,
         0.5850589777195282,
         15,
         "Low"
        ],
        [
         "United Air Lines Inc.",
         2022,
         11,
         0.36863100634632817,
         16,
         "Low"
        ],
        [
         "Republic Airline",
         2022,
         11,
         -0.5162995594713656,
         17,
         "Low"
        ],
        [
         "Hawaiian Airlines Inc.",
         2022,
         12,
         29.534668721109398,
         1,
         "High"
        ],
        [
         "Allegiant Air",
         2022,
         12,
         27.906813627254508,
         2,
         "High"
        ],
        [
         "Frontier Airlines Inc.",
         2022,
         12,
         23.791393143690737,
         3,
         "High"
        ],
        [
         "JetBlue Airways",
         2022,
         12,
         23.43571723852832,
         4,
         "High"
        ],
        [
         "Horizon Air",
         2022,
         12,
         22.49325626204239,
         5,
         "High"
        ],
        [
         "Alaska Airlines Inc.",
         2022,
         12,
         18.53532008830022,
         6,
         "Medium"
        ],
        [
         "Spirit Air Lines",
         2022,
         12,
         16.5910249872514,
         7,
         "Medium"
        ],
        [
         "American Airlines Inc.",
         2022,
         12,
         16.514639936692166,
         8,
         "Medium"
        ],
        [
         "United Air Lines Inc.",
         2022,
         12,
         15.799386398500085,
         9,
         "Medium"
        ],
        [
         "SkyWest Airlines Inc.",
         2022,
         12,
         14.050088391278727,
         10,
         "Medium"
        ],
        [
         "Southwest Airlines Co.",
         2022,
         12,
         13.37006789333858,
         11,
         "Medium"
        ],
        [
         "Envoy Air",
         2022,
         12,
         12.073196986006458,
         12,
         "Medium"
        ],
        [
         "Mesa Airlines Inc.",
         2022,
         12,
         11.31559405940594,
         13,
         "Medium"
        ],
        [
         "Delta Air Lines Inc.",
         2022,
         12,
         5.770288131112873,
         14,
         "Low"
        ],
        [
         "Endeavor Air Inc.",
         2022,
         12,
         2.9036295369211516,
         15,
         "Low"
        ],
        [
         "PSA Airlines Inc.",
         2022,
         12,
         2.273170731707317,
         16,
         "Low"
        ],
        [
         "Republic Airline",
         2022,
         12,
         0.4228187919463087,
         17,
         "Low"
        ],
        [
         "Frontier Airlines Inc.",
         2023,
         1,
         19.443693693693692,
         1,
         "Medium"
        ],
        [
         "Spirit Air Lines",
         2023,
         1,
         15.53613369467028,
         2,
         "Medium"
        ],
        [
         "Allegiant Air",
         2023,
         1,
         15.022041763341067,
         3,
         "Medium"
        ],
        [
         "SkyWest Airlines Inc.",
         2023,
         1,
         11.45061224489796,
         4,
         "Medium"
        ],
        [
         "American Airlines Inc.",
         2023,
         1,
         10.465281501340483,
         5,
         "Medium"
        ],
        [
         "JetBlue Airways",
         2023,
         1,
         9.801839464882944,
         6,
         "Low"
        ],
        [
         "United Air Lines Inc.",
         2023,
         1,
         7.69701280227596,
         7,
         "Low"
        ],
        [
         "Delta Air Lines Inc.",
         2023,
         1,
         7.455462405030128,
         8,
         "Low"
        ],
        [
         "Hawaiian Airlines Inc.",
         2023,
         1,
         7.2140718562874255,
         9,
         "Low"
        ],
        [
         "Endeavor Air Inc.",
         2023,
         1,
         5.949970570924073,
         10,
         "Low"
        ],
        [
         "Envoy Air",
         2023,
         1,
         5.71459576776994,
         11,
         "Low"
        ],
        [
         "Southwest Airlines Co.",
         2023,
         1,
         4.727408579465542,
         12,
         "Low"
        ],
        [
         "Alaska Airlines Inc.",
         2023,
         1,
         3.3535353535353534,
         13,
         "Low"
        ],
        [
         "PSA Airlines Inc.",
         2023,
         1,
         2.1747512437810945,
         14,
         "Low"
        ],
        [
         "Republic Airline",
         2023,
         1,
         -1.0526735833998404,
         15,
         "Low"
        ],
        [
         "Frontier Airlines Inc.",
         2023,
         2,
         12.722132471728594,
         1,
         "Medium"
        ],
        [
         "Hawaiian Airlines Inc.",
         2023,
         2,
         11.548837209302325,
         2,
         "Medium"
        ],
        [
         "Spirit Air Lines",
         2023,
         2,
         11.015492253873063,
         3,
         "Medium"
        ],
        [
         "JetBlue Airways",
         2023,
         2,
         9.10135135135135,
         4,
         "Low"
        ],
        [
         "American Airlines Inc.",
         2023,
         2,
         8.580571753662353,
         5,
         "Low"
        ],
        [
         "Allegiant Air",
         2023,
         2,
         7.7309582309582305,
         6,
         "Low"
        ],
        [
         "Alaska Airlines Inc.",
         2023,
         2,
         5.680971202710333,
         7,
         "Low"
        ],
        [
         "United Air Lines Inc.",
         2023,
         2,
         5.05639872587596,
         8,
         "Low"
        ],
        [
         "SkyWest Airlines Inc.",
         2023,
         2,
         4.977977977977978,
         9,
         "Low"
        ],
        [
         "Delta Air Lines Inc.",
         2023,
         2,
         3.0507436570428696,
         10,
         "Low"
        ],
        [
         "Envoy Air",
         2023,
         2,
         0.5181498829039812,
         11,
         "Low"
        ],
        [
         "Southwest Airlines Co.",
         2023,
         2,
         -0.12182088075210291,
         12,
         "Low"
        ],
        [
         "PSA Airlines Inc.",
         2023,
         2,
         -2.8286304198210597,
         13,
         "Low"
        ],
        [
         "Endeavor Air Inc.",
         2023,
         2,
         -3.35966149506347,
         14,
         "Low"
        ],
        [
         "Republic Airline",
         2023,
         2,
         -3.467005076142132,
         15,
         "Low"
        ],
        [
         "Allegiant Air",
         2023,
         3,
         23.390815370196812,
         1,
         "High"
        ],
        [
         "Spirit Air Lines",
         2023,
         3,
         21.948775055679288,
         2,
         "High"
        ],
        [
         "Frontier Airlines Inc.",
         2023,
         3,
         19.89077340569878,
         3,
         "Medium"
        ],
        [
         "Hawaiian Airlines Inc.",
         2023,
         3,
         18.749640287769783,
         4,
         "Medium"
        ],
        [
         "JetBlue Airways",
         2023,
         3,
         17.53043815432338,
         5,
         "Medium"
        ],
        [
         "American Airlines Inc.",
         2023,
         3,
         15.219918595777155,
         6,
         "Medium"
        ],
        [
         "Envoy Air",
         2023,
         3,
         10.880673125956145,
         7,
         "Medium"
        ],
        [
         "Delta Air Lines Inc.",
         2023,
         3,
         8.1353338153772,
         8,
         "Low"
        ],
        [
         "United Air Lines Inc.",
         2023,
         3,
         7.849951907662712,
         9,
         "Low"
        ],
        [
         "SkyWest Airlines Inc.",
         2023,
         3,
         7.426218016123379,
         10,
         "Low"
        ],
        [
         "Southwest Airlines Co.",
         2023,
         3,
         7.3022350152387405,
         11,
         "Low"
        ],
        [
         "Alaska Airlines Inc.",
         2023,
         3,
         4.3505775991963835,
         12,
         "Low"
        ],
        [
         "PSA Airlines Inc.",
         2023,
         3,
         2.1929618768328445,
         13,
         "Low"
        ],
        [
         "Endeavor Air Inc.",
         2023,
         3,
         1.9536266349583828,
         14,
         "Low"
        ],
        [
         "Republic Airline",
         2023,
         3,
         -1.1841633823002509,
         15,
         "Low"
        ],
        [
         "Spirit Air Lines",
         2023,
         4,
         22.316907775768534,
         1,
         "High"
        ],
        [
         "Frontier Airlines Inc.",
         2023,
         4,
         18.955269143290373,
         2,
         "Medium"
        ],
        [
         "Hawaiian Airlines Inc.",
         2023,
         4,
         18.81896551724138,
         3,
         "Medium"
        ],
        [
         "JetBlue Airways",
         2023,
         4,
         18.53685556028973,
         4,
         "Medium"
        ],
        [
         "American Airlines Inc.",
         2023,
         4,
         15.038779731127198,
         5,
         "Medium"
        ],
        [
         "Allegiant Air",
         2023,
         4,
         14.994464944649447,
         6,
         "Medium"
        ],
        [
         "United Air Lines Inc.",
         2023,
         4,
         11.096259437199725,
         7,
         "Medium"
        ],
        [
         "Southwest Airlines Co.",
         2023,
         4,
         8.995238095238095,
         8,
         "Low"
        ],
        [
         "Envoy Air",
         2023,
         4,
         6.102389078498294,
         9,
         "Low"
        ],
        [
         "Alaska Airlines Inc.",
         2023,
         4,
         5.251160391954616,
         10,
         "Low"
        ],
        [
         "Delta Air Lines Inc.",
         2023,
         4,
         4.387422654375553,
         11,
         "Low"
        ],
        [
         "SkyWest Airlines Inc.",
         2023,
         4,
         3.134468689018982,
         12,
         "Low"
        ],
        [
         "PSA Airlines Inc.",
         2023,
         4,
         2.88929889298893,
         13,
         "Low"
        ],
        [
         "Endeavor Air Inc.",
         2023,
         4,
         2.7280307889672866,
         14,
         "Low"
        ],
        [
         "Republic Airline",
         2023,
         4,
         1.0829613095238095,
         15,
         "Low"
        ],
        [
         "Hawaiian Airlines Inc.",
         2023,
         5,
         23.60912981455064,
         1,
         "High"
        ],
        [
         "Frontier Airlines Inc.",
         2023,
         5,
         21.265151515151516,
         2,
         "High"
        ],
        [
         "American Airlines Inc.",
         2023,
         5,
         10.26139893154429,
         3,
         "Medium"
        ],
        [
         "JetBlue Airways",
         2023,
         5,
         9.723871492476617,
         4,
         "Low"
        ],
        [
         "Spirit Air Lines",
         2023,
         5,
         8.827144120247569,
         5,
         "Low"
        ],
        [
         "United Air Lines Inc.",
         2023,
         5,
         6.36667708658956,
         6,
         "Low"
        ],
        [
         "Allegiant Air",
         2023,
         5,
         6.0811099252934895,
         7,
         "Low"
        ],
        [
         "Southwest Airlines Co.",
         2023,
         5,
         4.1304905418403335,
         8,
         "Low"
        ],
        [
         "SkyWest Airlines Inc.",
         2023,
         5,
         1.3826777087646653,
         9,
         "Low"
        ],
        [
         "Envoy Air",
         2023,
         5,
         1.0947012401352876,
         10,
         "Low"
        ],
        [
         "Alaska Airlines Inc.",
         2023,
         5,
         0.1067632850241546,
         11,
         "Low"
        ],
        [
         "Delta Air Lines Inc.",
         2023,
         5,
         -1.19466789243852,
         12,
         "Low"
        ],
        [
         "PSA Airlines Inc.",
         2023,
         5,
         -2.2549647661755285,
         13,
         "Low"
        ],
        [
         "Endeavor Air Inc.",
         2023,
         5,
         -8.228318584070797,
         14,
         "Low"
        ],
        [
         "Republic Airline",
         2023,
         5,
         -10.632270168855534,
         15,
         "Low"
        ],
        [
         "Frontier Airlines Inc.",
         2023,
         6,
         31.57960381511372,
         1,
         "High"
        ],
        [
         "JetBlue Airways",
         2023,
         6,
         28.646748681898067,
         2,
         "High"
        ],
        [
         "Spirit Air Lines",
         2023,
         6,
         27.798533007334964,
         3,
         "High"
        ],
        [
         "American Airlines Inc.",
         2023,
         6,
         22.581165582791396,
         4,
         "High"
        ],
        [
         "Allegiant Air",
         2023,
         6,
         20.470383275261323,
         5,
         "High"
        ],
        [
         "United Air Lines Inc.",
         2023,
         6,
         20.109439124487004,
         6,
         "High"
        ],
        [
         "Southwest Airlines Co.",
         2023,
         6,
         12.37979797979798,
         7,
         "Medium"
        ],
        [
         "PSA Airlines Inc.",
         2023,
         6,
         11.775683890577508,
         8,
         "Medium"
        ],
        [
         "Delta Air Lines Inc.",
         2023,
         6,
         10.324293265915882,
         9,
         "Medium"
        ],
        [
         "Envoy Air",
         2023,
         6,
         8.651672433679353,
         10,
         "Low"
        ],
        [
         "Hawaiian Airlines Inc.",
         2023,
         6,
         6.3843797856049,
         11,
         "Low"
        ],
        [
         "SkyWest Airlines Inc.",
         2023,
         6,
         5.539570875835385,
         12,
         "Low"
        ],
        [
         "Alaska Airlines Inc.",
         2023,
         6,
         4.5018115942028984,
         13,
         "Low"
        ],
        [
         "Endeavor Air Inc.",
         2023,
         6,
         4.13757225433526,
         14,
         "Low"
        ],
        [
         "Republic Airline",
         2023,
         6,
         1.9156574394463668,
         15,
         "Low"
        ],
        [
         "JetBlue Airways",
         2023,
         7,
         43.358543417366946,
         1,
         "High"
        ],
        [
         "Frontier Airlines Inc.",
         2023,
         7,
         35.850278551532035,
         2,
         "High"
        ],
        [
         "Allegiant Air",
         2023,
         7,
         30.546948356807512,
         3,
         "High"
        ],
        [
         "Spirit Air Lines",
         2023,
         7,
         26.623095823095824,
         4,
         "High"
        ],
        [
         "American Airlines Inc.",
         2023,
         7,
         25.505938812237552,
         5,
         "High"
        ],
        [
         "United Air Lines Inc.",
         2023,
         7,
         21.436295251527973,
         6,
         "High"
        ],
        [
         "PSA Airlines Inc.",
         2023,
         7,
         16.518028846153847,
         7,
         "Medium"
        ],
        [
         "Southwest Airlines Co.",
         2023,
         7,
         14.317809298660363,
         8,
         "Medium"
        ],
        [
         "Republic Airline",
         2023,
         7,
         12.15514935354436,
         9,
         "Medium"
        ],
        [
         "Delta Air Lines Inc.",
         2023,
         7,
         10.968837574262976,
         10,
         "Medium"
        ],
        [
         "Hawaiian Airlines Inc.",
         2023,
         7,
         10.834254143646408,
         11,
         "Medium"
        ],
        [
         "SkyWest Airlines Inc.",
         2023,
         7,
         7.739313244569026,
         12,
         "Low"
        ],
        [
         "Endeavor Air Inc.",
         2023,
         7,
         6.959567198177677,
         13,
         "Low"
        ],
        [
         "Envoy Air",
         2023,
         7,
         6.548818088386434,
         14,
         "Low"
        ],
        [
         "Alaska Airlines Inc.",
         2023,
         7,
         6.104549431321085,
         15,
         "Low"
        ],
        [
         "Frontier Airlines Inc.",
         2023,
         8,
         25.88117489986649,
         1,
         "High"
        ],
        [
         "JetBlue Airways",
         2023,
         8,
         23.198166739415104,
         2,
         "High"
        ],
        [
         "Allegiant Air",
         2023,
         8,
         23.129651860744296,
         3,
         "High"
        ],
        [
         "Spirit Air Lines",
         2023,
         8,
         19.331195602382042,
         4,
         "Medium"
        ],
        [
         "American Airlines Inc.",
         2023,
         8,
         17.58436069038394,
         5,
         "Medium"
        ],
        [
         "PSA Airlines Inc.",
         2023,
         8,
         7.48440366972477,
         6,
         "Low"
        ],
        [
         "Southwest Airlines Co.",
         2023,
         8,
         6.575231756596149,
         7,
         "Low"
        ],
        [
         "Delta Air Lines Inc.",
         2023,
         8,
         6.146173785641834,
         8,
         "Low"
        ],
        [
         "Alaska Airlines Inc.",
         2023,
         8,
         4.398744769874477,
         9,
         "Low"
        ],
        [
         "Hawaiian Airlines Inc.",
         2023,
         8,
         4.3283582089552235,
         10,
         "Low"
        ],
        [
         "SkyWest Airlines Inc.",
         2023,
         8,
         3.966678058783322,
         11,
         "Low"
        ],
        [
         "United Air Lines Inc.",
         2023,
         8,
         3.796097706285374,
         12,
         "Low"
        ],
        [
         "Endeavor Air Inc.",
         2023,
         8,
         1.4514536478332418,
         13,
         "Low"
        ],
        [
         "Envoy Air",
         2023,
         8,
         0.9396426846933849,
         14,
         "Low"
        ],
        [
         "Republic Airline",
         2023,
         8,
         -4.89351081530782,
         15,
         "Low"
        ]
       ],
       "datasetInfos": [],
       "dbfsResultPath": null,
       "isJsonSchema": true,
       "metadata": {},
       "overflow": false,
       "plotOptions": {
        "customPlotOptions": {},
        "displayType": "table",
        "pivotAggregation": null,
        "pivotColumns": null,
        "xColumns": null,
        "yColumns": null
       },
       "removedWidgets": [],
       "schema": [
        {
         "metadata": "{}",
         "name": "AIRLINE",
         "type": "\"string\""
        },
        {
         "metadata": "{}",
         "name": "YEAR",
         "type": "\"integer\""
        },
        {
         "metadata": "{}",
         "name": "MONTH",
         "type": "\"integer\""
        },
        {
         "metadata": "{}",
         "name": "AVG_ARR_DELAY",
         "type": "\"double\""
        },
        {
         "metadata": "{}",
         "name": "RANK",
         "type": "\"integer\""
        },
        {
         "metadata": "{}",
         "name": "DELAY_LEVEL",
         "type": "\"string\""
        }
       ],
       "type": "table"
      }
     },
     "output_type": "display_data"
    }
   ],
   "source": [
    "# Query 1: Ranks Airlines by Average Arrival Delay per Year-Month & categorizes them into delay levels\n",
    "\n",
    "display(\n",
    "    df\n",
    "    # Step 1: Add two new columns YEAR and MONTH extracted from the FL_DATE column\n",
    "    .withColumn(\"YEAR\", F.year(col(\"FL_DATE\")))                      # Extract year from flight date\n",
    "    .withColumn(\"MONTH\", F.month(col(\"FL_DATE\")))                    # Extract month from flight date\n",
    "\n",
    "    # Step 2: Group by AIRLINE, YEAR, MONTH and calculate average ARR_DELAY for each group (as demanded in the instructions - i.e. not just grouping by month)\n",
    "    .groupBy(\"AIRLINE\", \"YEAR\", \"MONTH\")\n",
    "    .agg(F.avg(col(\"ARR_DELAY\")).alias(\"AVG_ARR_DELAY\"))             # Compute average arrival delay\n",
    "\n",
    "    # Step 3: Add a RANK column, ranking airlines by descending AVG_ARR_DELAY per (YEAR, MONTH)\n",
    "    .withColumn(\n",
    "        \"RANK\",\n",
    "        F.rank().over(\n",
    "            Window.partitionBy(\"YEAR\", \"MONTH\")\n",
    "                  .orderBy(F.desc(\"AVG_ARR_DELAY\"))                  # Highest average delay gets rank 1\n",
    "        )\n",
    "    )\n",
    "\n",
    "    # Step 4: Add a DELAY_LEVEL column classifying delay severity\n",
    "    .withColumn(\n",
    "        \"DELAY_LEVEL\",\n",
    "        F.when(col(\"AVG_ARR_DELAY\") > 20, \"High\")                    # More than 20 mins = High\n",
    "         .when((col(\"AVG_ARR_DELAY\") >= 10) & (col(\"AVG_ARR_DELAY\") <= 20), \"Medium\")  # 10–20 mins\n",
    "         .otherwise(\"Low\")                                           # Less than 10 mins = Low\n",
    "    )\n",
    "\n",
    "    # Step 5: Sort the final output for readability\n",
    "    .orderBy(\"YEAR\", \"MONTH\", \"RANK\")                                # Sort by time and rank\n",
    ")"
   ]
  },
  {
   "cell_type": "markdown",
   "metadata": {
    "application/vnd.databricks.v1+cell": {
     "cellMetadata": {
      "byteLimit": 2048000,
      "rowLimit": 10000
     },
     "inputWidgets": {},
     "nuid": "5dea6169-ea67-4ccc-ae87-095b6bbca841",
     "showTitle": false,
     "tableResultSettingsMap": {},
     "title": ""
    }
   },
   "source": [
    "### Question / Query 2:"
   ]
  },
  {
   "cell_type": "code",
   "execution_count": 0,
   "metadata": {
    "application/vnd.databricks.v1+cell": {
     "cellMetadata": {
      "byteLimit": 2048000,
      "rowLimit": 10000
     },
     "inputWidgets": {},
     "nuid": "134b2fa3-fc95-4ffd-8104-5c890da1c616",
     "showTitle": false,
     "tableResultSettingsMap": {},
     "title": ""
    }
   },
   "outputs": [
    {
     "output_type": "display_data",
     "data": {
      "text/html": [
       "<style scoped>\n",
       "  .table-result-container {\n",
       "    max-height: 300px;\n",
       "    overflow: auto;\n",
       "  }\n",
       "  table, th, td {\n",
       "    border: 1px solid black;\n",
       "    border-collapse: collapse;\n",
       "  }\n",
       "  th, td {\n",
       "    padding: 5px;\n",
       "  }\n",
       "  th {\n",
       "    text-align: left;\n",
       "  }\n",
       "</style><div class='table-result-container'><table class='table-result'><thead style='background-color: white'><tr><th>AIRLINE</th><th>AVG_DAILY_CANCEL_PROP</th><th>STDDEV_DAILY_CANCEL_PROP</th></tr></thead><tbody><tr><td>Alaska Airlines Inc.</td><td>0.0</td><td>null</td></tr><tr><td>Spirit Air Lines</td><td>0.009900990099009901</td><td>null</td></tr><tr><td>Endeavor Air Inc.</td><td>0.013571428571428571</td><td>0.05077963596336063</td></tr><tr><td>Delta Air Lines Inc.</td><td>0.015029263037811654</td><td>0.061715395069292765</td></tr><tr><td>JetBlue Airways</td><td>0.015636877609398487</td><td>0.03921630704199628</td></tr><tr><td>United Air Lines Inc.</td><td>0.01958199154528154</td><td>0.06606773288096775</td></tr><tr><td>PSA Airlines Inc.</td><td>0.022536117118279502</td><td>0.02198205916130778</td></tr><tr><td>SkyWest Airlines Inc.</td><td>0.023668508955016213</td><td>0.05389350477130915</td></tr><tr><td>American Airlines Inc.</td><td>0.02781942363759918</td><td>0.07216380406374176</td></tr><tr><td>Mesa Airlines Inc.</td><td>0.03</td><td>null</td></tr><tr><td>Republic Airline</td><td>0.0322836871413947</td><td>0.0655045991897589</td></tr><tr><td>Southwest Airlines Co.</td><td>0.033123867853346006</td><td>0.08899490961344449</td></tr><tr><td>Envoy Air</td><td>0.042435688259838095</td><td>0.07198500066008853</td></tr></tbody></table></div>"
      ]
     },
     "metadata": {
      "application/vnd.databricks.v1+output": {
       "addedWidgets": {},
       "aggData": [],
       "aggError": "",
       "aggOverflow": false,
       "aggSchema": [],
       "aggSeriesLimitReached": false,
       "aggType": "",
       "arguments": {},
       "columnCustomDisplayInfos": {},
       "data": [
        [
         "Alaska Airlines Inc.",
         0.0,
         null
        ],
        [
         "Spirit Air Lines",
         0.009900990099009901,
         null
        ],
        [
         "Endeavor Air Inc.",
         0.013571428571428571,
         0.05077963596336063
        ],
        [
         "Delta Air Lines Inc.",
         0.015029263037811654,
         0.061715395069292765
        ],
        [
         "JetBlue Airways",
         0.015636877609398487,
         0.03921630704199628
        ],
        [
         "United Air Lines Inc.",
         0.01958199154528154,
         0.06606773288096775
        ],
        [
         "PSA Airlines Inc.",
         0.022536117118279502,
         0.02198205916130778
        ],
        [
         "SkyWest Airlines Inc.",
         0.023668508955016213,
         0.05389350477130915
        ],
        [
         "American Airlines Inc.",
         0.02781942363759918,
         0.07216380406374176
        ],
        [
         "Mesa Airlines Inc.",
         0.03,
         null
        ],
        [
         "Republic Airline",
         0.0322836871413947,
         0.0655045991897589
        ],
        [
         "Southwest Airlines Co.",
         0.033123867853346006,
         0.08899490961344449
        ],
        [
         "Envoy Air",
         0.042435688259838095,
         0.07198500066008853
        ]
       ],
       "datasetInfos": [],
       "dbfsResultPath": null,
       "isJsonSchema": true,
       "metadata": {},
       "overflow": false,
       "plotOptions": {
        "customPlotOptions": {},
        "displayType": "table",
        "pivotAggregation": null,
        "pivotColumns": null,
        "xColumns": null,
        "yColumns": null
       },
       "removedWidgets": [],
       "schema": [
        {
         "metadata": "{}",
         "name": "AIRLINE",
         "type": "\"string\""
        },
        {
         "metadata": "{}",
         "name": "AVG_DAILY_CANCEL_PROP",
         "type": "\"double\""
        },
        {
         "metadata": "{}",
         "name": "STDDEV_DAILY_CANCEL_PROP",
         "type": "\"double\""
        }
       ],
       "type": "table"
      }
     },
     "output_type": "display_data"
    }
   ],
   "source": [
    "# Query 2: Computes Average & Standard Deviation of Daily Cancellation Proportions per Airline (Only on Days with >= 100 Flights)\n",
    "\n",
    "display(\n",
    "    df\n",
    "    # Step 1: Add a new DATE column (yyyy-MM-dd) extracted from FL_DATE\n",
    "    .withColumn(\"DATE\", F.to_date(col(\"FL_DATE\")))                              # Extract date only (without time)\n",
    "\n",
    "    # Step 2: Group by AIRLINE and DATE to compute:\n",
    "    # - Total number of flights that day\n",
    "    # - Number of cancelled flights (just sum the CANCELLED column)\n",
    "    .groupBy(\"AIRLINE\", \"DATE\")\n",
    "    .agg(\n",
    "        F.count(\"*\").alias(\"NUM_FLIGHTS\"),                                      # Total flights on that day\n",
    "        F.sum(\"CANCELLED\").alias(\"NUM_CANCELLED\")                               # Total cancelled flights on that day\n",
    "    )\n",
    "    \n",
    "    # Step 3: Keep only days where the airline had at least 100 flights\n",
    "    .filter(col(\"NUM_FLIGHTS\") >= 100)\n",
    "\n",
    "    # Step 4: Compute cancellation proportion for each airline on each day\n",
    "    .withColumn(\"CANCEL_PROP\", col(\"NUM_CANCELLED\") / col(\"NUM_FLIGHTS\"))       # Daily cancellation rate per airline per day\n",
    "\n",
    "    # Step 5: Group by AIRLINE to compute:\n",
    "    # - Average of daily cancellation proportion\n",
    "    # - Standard deviation of daily cancellation proportion\n",
    "    .groupBy(\"AIRLINE\")\n",
    "    .agg(\n",
    "        F.avg(\"CANCEL_PROP\").alias(\"AVG_DAILY_CANCEL_PROP\"),                          # Mean cancellation rate\n",
    "        F.stddev(\"CANCEL_PROP\").alias(\"STDDEV_DAILY_CANCEL_PROP\")                     # Standard Deviation of cancellation rate\n",
    "    )\n",
    "\n",
    "    # Step 6: Sort airlines by mean cancellation proportion - AVG_DAILY_CANCEL_PROP in an ascending order (to check for best airlines in busy days)\n",
    "    .orderBy(F.asc(\"AVG_DAILY_CANCEL_PROP\"))\n",
    ")"
   ]
  },
  {
   "cell_type": "code",
   "execution_count": 0,
   "metadata": {
    "application/vnd.databricks.v1+cell": {
     "cellMetadata": {
      "byteLimit": 2048000,
      "rowLimit": 10000
     },
     "inputWidgets": {},
     "nuid": "38df5989-acb1-40a2-ab6a-edc148357baf",
     "showTitle": false,
     "tableResultSettingsMap": {},
     "title": ""
    }
   },
   "outputs": [
    {
     "output_type": "display_data",
     "data": {
      "text/html": [
       "<style scoped>\n",
       "  .table-result-container {\n",
       "    max-height: 300px;\n",
       "    overflow: auto;\n",
       "  }\n",
       "  table, th, td {\n",
       "    border: 1px solid black;\n",
       "    border-collapse: collapse;\n",
       "  }\n",
       "  th, td {\n",
       "    padding: 5px;\n",
       "  }\n",
       "  th {\n",
       "    text-align: left;\n",
       "  }\n",
       "</style><div class='table-result-container'><table class='table-result'><thead style='background-color: white'><tr><th>AIRLINE</th><th>DATE</th><th>NUM_FLIGHTS</th><th>NUM_CANCELLED</th></tr></thead><tbody><tr><td>Spirit Air Lines</td><td>2022-11-28</td><td>101</td><td>1.0</td></tr></tbody></table></div>"
      ]
     },
     "metadata": {
      "application/vnd.databricks.v1+output": {
       "addedWidgets": {},
       "aggData": [],
       "aggError": "",
       "aggOverflow": false,
       "aggSchema": [],
       "aggSeriesLimitReached": false,
       "aggType": "",
       "arguments": {},
       "columnCustomDisplayInfos": {},
       "data": [
        [
         "Spirit Air Lines",
         "2022-11-28",
         101,
         1.0
        ]
       ],
       "datasetInfos": [],
       "dbfsResultPath": null,
       "isJsonSchema": true,
       "metadata": {},
       "overflow": false,
       "plotOptions": {
        "customPlotOptions": {},
        "displayType": "table",
        "pivotAggregation": null,
        "pivotColumns": null,
        "xColumns": null,
        "yColumns": null
       },
       "removedWidgets": [],
       "schema": [
        {
         "metadata": "{}",
         "name": "AIRLINE",
         "type": "\"string\""
        },
        {
         "metadata": "{}",
         "name": "DATE",
         "type": "\"date\""
        },
        {
         "metadata": "{}",
         "name": "NUM_FLIGHTS",
         "type": "\"long\""
        },
        {
         "metadata": "{}",
         "name": "NUM_CANCELLED",
         "type": "\"double\""
        }
       ],
       "type": "table"
      }
     },
     "output_type": "display_data"
    }
   ],
   "source": [
    "# Internal Check: if a specific airline had any cancellations on days with >= 100 flights:\n",
    "\n",
    "display(\n",
    "    df\n",
    "    .withColumn(\"DATE\", F.to_date(col(\"FL_DATE\")))  # Extract pure date\n",
    "    .filter(col(\"AIRLINE\") == \"Spirit Air Lines\")  # Focus on the airline\n",
    "    .groupBy(\"AIRLINE\", \"DATE\")\n",
    "    .agg(\n",
    "        F.count(\"*\").alias(\"NUM_FLIGHTS\"),\n",
    "        F.sum(\"CANCELLED\").alias(\"NUM_CANCELLED\")\n",
    "    )\n",
    "    .filter(col(\"NUM_FLIGHTS\") >= 100)  # Only consider days with ≥ 100 flights\n",
    "    .filter(col(\"NUM_CANCELLED\") > 0)   # Only keep days that had cancellations\n",
    "    .orderBy(\"DATE\")\n",
    ")"
   ]
  },
  {
   "cell_type": "markdown",
   "metadata": {
    "application/vnd.databricks.v1+cell": {
     "cellMetadata": {
      "byteLimit": 2048000,
      "rowLimit": 10000
     },
     "inputWidgets": {},
     "nuid": "1c158225-7aab-4ef2-a58c-c9542c406c2a",
     "showTitle": false,
     "tableResultSettingsMap": {},
     "title": ""
    }
   },
   "source": [
    "### Question / Query 3:"
   ]
  },
  {
   "cell_type": "code",
   "execution_count": 0,
   "metadata": {
    "application/vnd.databricks.v1+cell": {
     "cellMetadata": {
      "byteLimit": 2048000,
      "rowLimit": 10000
     },
     "inputWidgets": {},
     "nuid": "c9442e2b-14ed-4e0c-931f-0be51558e655",
     "showTitle": false,
     "tableResultSettingsMap": {},
     "title": ""
    }
   },
   "outputs": [
    {
     "output_type": "display_data",
     "data": {
      "text/html": [
       "<style scoped>\n",
       "  .table-result-container {\n",
       "    max-height: 300px;\n",
       "    overflow: auto;\n",
       "  }\n",
       "  table, th, td {\n",
       "    border: 1px solid black;\n",
       "    border-collapse: collapse;\n",
       "  }\n",
       "  th, td {\n",
       "    padding: 5px;\n",
       "  }\n",
       "  th {\n",
       "    text-align: left;\n",
       "  }\n",
       "</style><div class='table-result-container'><table class='table-result'><thead style='background-color: white'><tr><th>ORIGIN</th><th>DEST</th><th>NUM_FLIGHTS</th><th>AVG_TOTAL_DELAY</th><th>PERCENT_NO_DELAY</th></tr></thead><tbody><tr><td>DEN</td><td>ASE</td><td>1002</td><td>45.32747252747253</td><td>43.61</td></tr><tr><td>MSN</td><td>DFW</td><td>465</td><td>50.956043956043956</td><td>49.46</td></tr><tr><td>ORD</td><td>ASE</td><td>449</td><td>45.14572864321608</td><td>41.43</td></tr><tr><td>ASE</td><td>DFW</td><td>411</td><td>68.67297297297297</td><td>44.04</td></tr><tr><td>ASE</td><td>ORD</td><td>407</td><td>83.11666666666666</td><td>43.73</td></tr></tbody></table></div>"
      ]
     },
     "metadata": {
      "application/vnd.databricks.v1+output": {
       "addedWidgets": {},
       "aggData": [],
       "aggError": "",
       "aggOverflow": false,
       "aggSchema": [],
       "aggSeriesLimitReached": false,
       "aggType": "",
       "arguments": {},
       "columnCustomDisplayInfos": {},
       "data": [
        [
         "DEN",
         "ASE",
         1002,
         45.32747252747253,
         43.61
        ],
        [
         "MSN",
         "DFW",
         465,
         50.956043956043956,
         49.46
        ],
        [
         "ORD",
         "ASE",
         449,
         45.14572864321608,
         41.43
        ],
        [
         "ASE",
         "DFW",
         411,
         68.67297297297297,
         44.04
        ],
        [
         "ASE",
         "ORD",
         407,
         83.11666666666666,
         43.73
        ]
       ],
       "datasetInfos": [],
       "dbfsResultPath": null,
       "isJsonSchema": true,
       "metadata": {},
       "overflow": false,
       "plotOptions": {
        "customPlotOptions": {},
        "displayType": "table",
        "pivotAggregation": null,
        "pivotColumns": null,
        "xColumns": null,
        "yColumns": null
       },
       "removedWidgets": [],
       "schema": [
        {
         "metadata": "{}",
         "name": "ORIGIN",
         "type": "\"string\""
        },
        {
         "metadata": "{}",
         "name": "DEST",
         "type": "\"string\""
        },
        {
         "metadata": "{}",
         "name": "NUM_FLIGHTS",
         "type": "\"long\""
        },
        {
         "metadata": "{}",
         "name": "AVG_TOTAL_DELAY",
         "type": "\"double\""
        },
        {
         "metadata": "{}",
         "name": "PERCENT_NO_DELAY",
         "type": "\"double\""
        }
       ],
       "type": "table"
      }
     },
     "output_type": "display_data"
    }
   ],
   "source": [
    "# Query 3: Identifies the 5 Most Frequent Routes - Airport Pairs (Origin-Destination) with High Average TOTAL Delays (> 45 mins) and Calculates the Share of Flights with No Delay at All\n",
    "\n",
    "display(\n",
    "    df\n",
    "    # Step 1: Compute the Total Delay = Departure Delay + Arrival Delay\n",
    "    .withColumn(\"TOTAL_DELAY\", col(\"DEP_DELAY\") + col(\"ARR_DELAY\"))\n",
    "\n",
    "    # Step 2: Group by origin-destination pair and compute:\n",
    "    # - Total number of flights on the route\n",
    "    # - Average arrival delay\n",
    "    # - Percentage of flights with no delay at all (neither departure nor arrival delayed)\n",
    "    .groupBy(\"ORIGIN\", \"DEST\")\n",
    "    .agg(\n",
    "        F.count(\"*\").alias(\"NUM_FLIGHTS\"),                                                             # Total number of flights on the route\n",
    "        F.avg(\"TOTAL_DELAY\").alias(\"AVG_TOTAL_DELAY\"),                                                 # Average arrival delay\n",
    "        F.round(                                                                                       # Share of perfectly on-time flights (both delays <= 0)\n",
    "            F.avg(F.when((col(\"DEP_DELAY\") <= 0) & (col(\"ARR_DELAY\") <= 0), 100).otherwise(0)), 2\n",
    "        ).alias(\"PERCENT_NO_DELAY\")\n",
    "    )\n",
    "\n",
    "    # Step 3: Keep only routes with high average delay (greater than 45 minutes)\n",
    "    .filter(col(\"AVG_TOTAL_DELAY\") > 45)\n",
    "\n",
    "    # Step 4: Sort by number of flights descending, to get busiest high-delay routes\n",
    "    .orderBy(F.desc(\"NUM_FLIGHTS\"))\n",
    "\n",
    "    # Step 5: Keep only the top / busiest 5 origin-destination pairs\n",
    "    .limit(5)\n",
    ")"
   ]
  },
  {
   "cell_type": "markdown",
   "metadata": {
    "application/vnd.databricks.v1+cell": {
     "cellMetadata": {
      "byteLimit": 2048000,
      "rowLimit": 10000
     },
     "inputWidgets": {},
     "nuid": "218b99aa-a043-405d-826d-8ef35eb0ca10",
     "showTitle": false,
     "tableResultSettingsMap": {},
     "title": ""
    }
   },
   "source": [
    "### Question / Query 4:"
   ]
  },
  {
   "cell_type": "code",
   "execution_count": 0,
   "metadata": {
    "application/vnd.databricks.v1+cell": {
     "cellMetadata": {
      "byteLimit": 2048000,
      "rowLimit": 10000
     },
     "inputWidgets": {},
     "nuid": "f4335f89-1b5c-42c2-92e3-cb4d610ba89d",
     "showTitle": false,
     "tableResultSettingsMap": {},
     "title": ""
    }
   },
   "outputs": [
    {
     "output_type": "display_data",
     "data": {
      "text/plain": [
       ""
      ]
     },
     "metadata": {
      "application/vnd.databricks.v1+output": {
       "addedWidgets": {},
       "arguments": {},
       "datasetInfos": [],
       "jupyterProps": null,
       "metadata": {
        "errorSummary": "Command skipped"
       },
       "removedWidgets": [],
       "sqlProps": null,
       "stackFrames": [],
       "type": "baseError"
      }
     },
     "output_type": "display_data"
    }
   ],
   "source": [
    "# Query 4: Calculates Average Arrival Delay and the Proportion of On-Time or Early Arrivals by Time-of-Day Category\n",
    "\n",
    "display(\n",
    "    df\n",
    "    # Step 1: Extract departure hour from 4-digit HHMM-format DEP_TIME (e.g., 1430 -> 14)\n",
    "    .withColumn(\"DEP_HOUR\", (col(\"DEP_TIME\") / 100).cast(\"int\"))\n",
    "\n",
    "    # Step 2: Assign a time-of-day category\n",
    "    .withColumn(\n",
    "        \"TIME_OF_DAY\",\n",
    "        F.when((col(\"DEP_HOUR\") >= 5) & (col(\"DEP_HOUR\") < 12), \"Morning\")      # Morning: 05:00–11:59\n",
    "         .when((col(\"DEP_HOUR\") >= 12) & (col(\"DEP_HOUR\") < 17), \"Afternoon\")   # Afternoon: 12:00–16:59\n",
    "         .when((col(\"DEP_HOUR\") >= 17) & (col(\"DEP_HOUR\") < 21), \"Evening\")     # Evening: 17:00–20:59\n",
    "         .otherwise(\"Night\")                                                    # Night: 21:00–04:59\n",
    "    )\n",
    "\n",
    "    # Step 3: Group by departure period - TIME_OF_DAY and compute:\n",
    "    # - Proportion - Mean amount of flights with ARR_DELAY <= 0 (on-time or early)\n",
    "    # - Average arrival delay\n",
    "    .groupBy(\"TIME_OF_DAY\")\n",
    "    .agg(\n",
    "        F.avg(\"ARR_DELAY\").alias(\"AVG_ARR_DELAY\"),                                            # Mean arrival delay\n",
    "        F.avg(F.when(col(\"ARR_DELAY\") <= 0, 100).otherwise(0)).alias(\"ON_TIME_PERCENTAGE\")    # Proportion - Average amount of on-time or early arrivals, represented as a percentage\n",
    "    )\n",
    "\n",
    "# Step 4: Enforce chronological order of TIME_OF_DAY: Morning → Afternoon → Evening → Night\n",
    ".orderBy(\n",
    "    F.when(col(\"TIME_OF_DAY\") == \"Morning\", 1)\n",
    "     .when(col(\"TIME_OF_DAY\") == \"Afternoon\", 2)\n",
    "     .when(col(\"TIME_OF_DAY\") == \"Evening\", 3)\n",
    "     .otherwise(4)\n",
    ")\n",
    ")"
   ]
  },
  {
   "cell_type": "markdown",
   "metadata": {
    "application/vnd.databricks.v1+cell": {
     "cellMetadata": {
      "byteLimit": 2048000,
      "rowLimit": 10000
     },
     "inputWidgets": {},
     "nuid": "56c0dc0d-3c3b-4156-ba0e-dc70bfc74b61",
     "showTitle": false,
     "tableResultSettingsMap": {},
     "title": ""
    }
   },
   "source": [
    "### Question / Query 5:"
   ]
  },
  {
   "cell_type": "code",
   "execution_count": 0,
   "metadata": {
    "application/vnd.databricks.v1+cell": {
     "cellMetadata": {
      "byteLimit": 2048000,
      "rowLimit": 10000
     },
     "inputWidgets": {},
     "nuid": "9069a2ee-fd6f-4b64-8a99-bfe6904c2ccc",
     "showTitle": false,
     "tableResultSettingsMap": {},
     "title": ""
    }
   },
   "outputs": [
    {
     "output_type": "display_data",
     "data": {
      "text/plain": [
       ""
      ]
     },
     "metadata": {
      "application/vnd.databricks.v1+output": {
       "addedWidgets": {},
       "arguments": {},
       "datasetInfos": [],
       "jupyterProps": null,
       "metadata": {
        "errorSummary": "Command skipped"
       },
       "removedWidgets": [],
       "sqlProps": null,
       "stackFrames": [],
       "type": "baseError"
      }
     },
     "output_type": "display_data"
    }
   ],
   "source": [
    "# Query 5: Classifies Flight Duration Performance by Observed vs. Scheduled (Expected) Elapsed Time and Summarizing Flight Shares by performance category, and Coverage (Number of Unique Destinations), per Airline\n",
    "\n",
    "display(\n",
    "    df\n",
    "    # Step 1: Filter out degenerate cases: Ensure CRS_ELAPSED_TIME > 0 and ELAPSED_TIME is not null\n",
    "    .filter((col(\"CRS_ELAPSED_TIME\") > 0) & (col(\"ELAPSED_TIME\").isNotNull()))\n",
    "\n",
    "    # Step 2: Compute performance ratio = actual observed elapsed time / scheduled elapsed\n",
    "    .withColumn(\"PERFORMANCE_RATIO\", col(\"ELAPSED_TIME\") / col(\"CRS_ELAPSED_TIME\"))\n",
    "\n",
    "    # Step 3: Classify each flight into a performance category\n",
    "    .withColumn(\n",
    "        \"PERFORMANCE_CATEGORY\",\n",
    "        F.when(col(\"PERFORMANCE_RATIO\") < 0.9, \"Faster - Significantly\")           # Much Faster than expected: Performance Ratio < 0.9\n",
    "         .when(col(\"PERFORMANCE_RATIO\") <= 1.1, \"Moderate / On Time (±10%)\")   # Moderate performance / On Time: Performance  Ratio between 0.9 and 1.1\n",
    "         .otherwise(\"Slower - Significantly\")                                      # Much Slower than expected: Performance Ratio > 1.1\n",
    "    )\n",
    "\n",
    "    # Step 4: Count total number of flights per AIRLINE to enable proportion calculation (share of each performance category) later\n",
    "    .withColumn(\"NUM_FLIGHTS\", F.count(\"*\").over(Window.partitionBy(\"AIRLINE\"))) # used a window function to count the number of flights per airline\n",
    "\n",
    "    # Step 5: Group by AIRLINE and PERFORMANCE_CATEGORY to compute:\n",
    "    # - Percentage of flights in each performance group (relative to airline total)\n",
    "    # - Number of unique destinations served in that category\n",
    "    .groupBy(\"AIRLINE\", \"PERFORMANCE_CATEGORY\")\n",
    "    .agg(\n",
    "        F.round((F.count(\"*\") / F.first(\"NUM_FLIGHTS\") * 100), 2).alias(\"PERCENT_FLIGHTS\"),   # Percentage (%) of flights in each category\n",
    "        F.countDistinct(\"DEST\").alias(\"NUM_UNIQUE_DEST\")                                     # Number of unique destinations in each group\n",
    "    )\n",
    "\n",
    "    # Step 6: Sort output by AIRLINE and category (alphabetically preserved: Faster → On Time → Slower)\n",
    "    .orderBy(\"AIRLINE\", \"PERFORMANCE_CATEGORY\")\n",
    ")"
   ]
  }
 ],
 "metadata": {
  "application/vnd.databricks.v1+notebook": {
   "computePreferences": null,
   "dashboards": [],
   "environmentMetadata": {
    "base_environment": "",
    "environment_version": "2"
   },
   "inputWidgetPreferences": null,
   "language": "python",
   "notebookMetadata": {
    "pythonIndentUnit": 4
   },
   "notebookName": "Ex2BigDataEngineering_PySpark_OshriMandelawiOfekShaharabaniIdanKanat_3.7.2025",
   "widgets": {}
  },
  "language_info": {
   "name": "python"
  }
 },
 "nbformat": 4,
 "nbformat_minor": 0
}
